{
 "cells": [
  {
   "cell_type": "code",
   "execution_count": 54,
   "metadata": {},
   "outputs": [],
   "source": [
    "import numpy as np\n",
    "import pandas as pd\n",
    "import matplotlib as mpl\n",
    "import matplotlib.pyplot as plt\n",
    "from matplotlib.animation import FuncAnimation\n",
    "from sklearn.datasets import load_boston\n",
    "from sklearn.metrics import mean_squared_error\n",
    "from sklearn.model_selection import train_test_split\n",
    "from sklearn.preprocessing import MinMaxScaler\n",
    "from IPython.display import HTML"
   ]
  },
  {
   "cell_type": "code",
   "execution_count": null,
   "metadata": {},
   "outputs": [],
   "source": []
  },
  {
   "cell_type": "code",
   "execution_count": 55,
   "metadata": {},
   "outputs": [],
   "source": [
    "boston=load_boston()"
   ]
  },
  {
   "cell_type": "code",
   "execution_count": 56,
   "metadata": {
    "scrolled": true
   },
   "outputs": [
    {
     "name": "stdout",
     "output_type": "stream",
     "text": [
      "{'data': array([[6.3200e-03, 1.8000e+01, 2.3100e+00, ..., 1.5300e+01, 3.9690e+02,\n",
      "        4.9800e+00],\n",
      "       [2.7310e-02, 0.0000e+00, 7.0700e+00, ..., 1.7800e+01, 3.9690e+02,\n",
      "        9.1400e+00],\n",
      "       [2.7290e-02, 0.0000e+00, 7.0700e+00, ..., 1.7800e+01, 3.9283e+02,\n",
      "        4.0300e+00],\n",
      "       ...,\n",
      "       [6.0760e-02, 0.0000e+00, 1.1930e+01, ..., 2.1000e+01, 3.9690e+02,\n",
      "        5.6400e+00],\n",
      "       [1.0959e-01, 0.0000e+00, 1.1930e+01, ..., 2.1000e+01, 3.9345e+02,\n",
      "        6.4800e+00],\n",
      "       [4.7410e-02, 0.0000e+00, 1.1930e+01, ..., 2.1000e+01, 3.9690e+02,\n",
      "        7.8800e+00]]), 'target': array([24. , 21.6, 34.7, 33.4, 36.2, 28.7, 22.9, 27.1, 16.5, 18.9, 15. ,\n",
      "       18.9, 21.7, 20.4, 18.2, 19.9, 23.1, 17.5, 20.2, 18.2, 13.6, 19.6,\n",
      "       15.2, 14.5, 15.6, 13.9, 16.6, 14.8, 18.4, 21. , 12.7, 14.5, 13.2,\n",
      "       13.1, 13.5, 18.9, 20. , 21. , 24.7, 30.8, 34.9, 26.6, 25.3, 24.7,\n",
      "       21.2, 19.3, 20. , 16.6, 14.4, 19.4, 19.7, 20.5, 25. , 23.4, 18.9,\n",
      "       35.4, 24.7, 31.6, 23.3, 19.6, 18.7, 16. , 22.2, 25. , 33. , 23.5,\n",
      "       19.4, 22. , 17.4, 20.9, 24.2, 21.7, 22.8, 23.4, 24.1, 21.4, 20. ,\n",
      "       20.8, 21.2, 20.3, 28. , 23.9, 24.8, 22.9, 23.9, 26.6, 22.5, 22.2,\n",
      "       23.6, 28.7, 22.6, 22. , 22.9, 25. , 20.6, 28.4, 21.4, 38.7, 43.8,\n",
      "       33.2, 27.5, 26.5, 18.6, 19.3, 20.1, 19.5, 19.5, 20.4, 19.8, 19.4,\n",
      "       21.7, 22.8, 18.8, 18.7, 18.5, 18.3, 21.2, 19.2, 20.4, 19.3, 22. ,\n",
      "       20.3, 20.5, 17.3, 18.8, 21.4, 15.7, 16.2, 18. , 14.3, 19.2, 19.6,\n",
      "       23. , 18.4, 15.6, 18.1, 17.4, 17.1, 13.3, 17.8, 14. , 14.4, 13.4,\n",
      "       15.6, 11.8, 13.8, 15.6, 14.6, 17.8, 15.4, 21.5, 19.6, 15.3, 19.4,\n",
      "       17. , 15.6, 13.1, 41.3, 24.3, 23.3, 27. , 50. , 50. , 50. , 22.7,\n",
      "       25. , 50. , 23.8, 23.8, 22.3, 17.4, 19.1, 23.1, 23.6, 22.6, 29.4,\n",
      "       23.2, 24.6, 29.9, 37.2, 39.8, 36.2, 37.9, 32.5, 26.4, 29.6, 50. ,\n",
      "       32. , 29.8, 34.9, 37. , 30.5, 36.4, 31.1, 29.1, 50. , 33.3, 30.3,\n",
      "       34.6, 34.9, 32.9, 24.1, 42.3, 48.5, 50. , 22.6, 24.4, 22.5, 24.4,\n",
      "       20. , 21.7, 19.3, 22.4, 28.1, 23.7, 25. , 23.3, 28.7, 21.5, 23. ,\n",
      "       26.7, 21.7, 27.5, 30.1, 44.8, 50. , 37.6, 31.6, 46.7, 31.5, 24.3,\n",
      "       31.7, 41.7, 48.3, 29. , 24. , 25.1, 31.5, 23.7, 23.3, 22. , 20.1,\n",
      "       22.2, 23.7, 17.6, 18.5, 24.3, 20.5, 24.5, 26.2, 24.4, 24.8, 29.6,\n",
      "       42.8, 21.9, 20.9, 44. , 50. , 36. , 30.1, 33.8, 43.1, 48.8, 31. ,\n",
      "       36.5, 22.8, 30.7, 50. , 43.5, 20.7, 21.1, 25.2, 24.4, 35.2, 32.4,\n",
      "       32. , 33.2, 33.1, 29.1, 35.1, 45.4, 35.4, 46. , 50. , 32.2, 22. ,\n",
      "       20.1, 23.2, 22.3, 24.8, 28.5, 37.3, 27.9, 23.9, 21.7, 28.6, 27.1,\n",
      "       20.3, 22.5, 29. , 24.8, 22. , 26.4, 33.1, 36.1, 28.4, 33.4, 28.2,\n",
      "       22.8, 20.3, 16.1, 22.1, 19.4, 21.6, 23.8, 16.2, 17.8, 19.8, 23.1,\n",
      "       21. , 23.8, 23.1, 20.4, 18.5, 25. , 24.6, 23. , 22.2, 19.3, 22.6,\n",
      "       19.8, 17.1, 19.4, 22.2, 20.7, 21.1, 19.5, 18.5, 20.6, 19. , 18.7,\n",
      "       32.7, 16.5, 23.9, 31.2, 17.5, 17.2, 23.1, 24.5, 26.6, 22.9, 24.1,\n",
      "       18.6, 30.1, 18.2, 20.6, 17.8, 21.7, 22.7, 22.6, 25. , 19.9, 20.8,\n",
      "       16.8, 21.9, 27.5, 21.9, 23.1, 50. , 50. , 50. , 50. , 50. , 13.8,\n",
      "       13.8, 15. , 13.9, 13.3, 13.1, 10.2, 10.4, 10.9, 11.3, 12.3,  8.8,\n",
      "        7.2, 10.5,  7.4, 10.2, 11.5, 15.1, 23.2,  9.7, 13.8, 12.7, 13.1,\n",
      "       12.5,  8.5,  5. ,  6.3,  5.6,  7.2, 12.1,  8.3,  8.5,  5. , 11.9,\n",
      "       27.9, 17.2, 27.5, 15. , 17.2, 17.9, 16.3,  7. ,  7.2,  7.5, 10.4,\n",
      "        8.8,  8.4, 16.7, 14.2, 20.8, 13.4, 11.7,  8.3, 10.2, 10.9, 11. ,\n",
      "        9.5, 14.5, 14.1, 16.1, 14.3, 11.7, 13.4,  9.6,  8.7,  8.4, 12.8,\n",
      "       10.5, 17.1, 18.4, 15.4, 10.8, 11.8, 14.9, 12.6, 14.1, 13. , 13.4,\n",
      "       15.2, 16.1, 17.8, 14.9, 14.1, 12.7, 13.5, 14.9, 20. , 16.4, 17.7,\n",
      "       19.5, 20.2, 21.4, 19.9, 19. , 19.1, 19.1, 20.1, 19.9, 19.6, 23.2,\n",
      "       29.8, 13.8, 13.3, 16.7, 12. , 14.6, 21.4, 23. , 23.7, 25. , 21.8,\n",
      "       20.6, 21.2, 19.1, 20.6, 15.2,  7. ,  8.1, 13.6, 20.1, 21.8, 24.5,\n",
      "       23.1, 19.7, 18.3, 21.2, 17.5, 16.8, 22.4, 20.6, 23.9, 22. , 11.9]), 'feature_names': array(['CRIM', 'ZN', 'INDUS', 'CHAS', 'NOX', 'RM', 'AGE', 'DIS', 'RAD',\n",
      "       'TAX', 'PTRATIO', 'B', 'LSTAT'], dtype='<U7'), 'DESCR': \".. _boston_dataset:\\n\\nBoston house prices dataset\\n---------------------------\\n\\n**Data Set Characteristics:**  \\n\\n    :Number of Instances: 506 \\n\\n    :Number of Attributes: 13 numeric/categorical predictive. Median Value (attribute 14) is usually the target.\\n\\n    :Attribute Information (in order):\\n        - CRIM     per capita crime rate by town\\n        - ZN       proportion of residential land zoned for lots over 25,000 sq.ft.\\n        - INDUS    proportion of non-retail business acres per town\\n        - CHAS     Charles River dummy variable (= 1 if tract bounds river; 0 otherwise)\\n        - NOX      nitric oxides concentration (parts per 10 million)\\n        - RM       average number of rooms per dwelling\\n        - AGE      proportion of owner-occupied units built prior to 1940\\n        - DIS      weighted distances to five Boston employment centres\\n        - RAD      index of accessibility to radial highways\\n        - TAX      full-value property-tax rate per $10,000\\n        - PTRATIO  pupil-teacher ratio by town\\n        - B        1000(Bk - 0.63)^2 where Bk is the proportion of blacks by town\\n        - LSTAT    % lower status of the population\\n        - MEDV     Median value of owner-occupied homes in $1000's\\n\\n    :Missing Attribute Values: None\\n\\n    :Creator: Harrison, D. and Rubinfeld, D.L.\\n\\nThis is a copy of UCI ML housing dataset.\\nhttps://archive.ics.uci.edu/ml/machine-learning-databases/housing/\\n\\n\\nThis dataset was taken from the StatLib library which is maintained at Carnegie Mellon University.\\n\\nThe Boston house-price data of Harrison, D. and Rubinfeld, D.L. 'Hedonic\\nprices and the demand for clean air', J. Environ. Economics & Management,\\nvol.5, 81-102, 1978.   Used in Belsley, Kuh & Welsch, 'Regression diagnostics\\n...', Wiley, 1980.   N.B. Various transformations are used in the table on\\npages 244-261 of the latter.\\n\\nThe Boston house-price data has been used in many machine learning papers that address regression\\nproblems.   \\n     \\n.. topic:: References\\n\\n   - Belsley, Kuh & Welsch, 'Regression diagnostics: Identifying Influential Data and Sources of Collinearity', Wiley, 1980. 244-261.\\n   - Quinlan,R. (1993). Combining Instance-Based and Model-Based Learning. In Proceedings on the Tenth International Conference of Machine Learning, 236-243, University of Massachusetts, Amherst. Morgan Kaufmann.\\n\", 'filename': 'C:\\\\Users\\\\amanr\\\\anaconda3\\\\lib\\\\site-packages\\\\sklearn\\\\datasets\\\\data\\\\boston_house_prices.csv'}\n"
     ]
    }
   ],
   "source": [
    "print(boston)"
   ]
  },
  {
   "cell_type": "code",
   "execution_count": 57,
   "metadata": {},
   "outputs": [
    {
     "name": "stdout",
     "output_type": "stream",
     "text": [
      ".. _boston_dataset:\n",
      "\n",
      "Boston house prices dataset\n",
      "---------------------------\n",
      "\n",
      "**Data Set Characteristics:**  \n",
      "\n",
      "    :Number of Instances: 506 \n",
      "\n",
      "    :Number of Attributes: 13 numeric/categorical predictive. Median Value (attribute 14) is usually the target.\n",
      "\n",
      "    :Attribute Information (in order):\n",
      "        - CRIM     per capita crime rate by town\n",
      "        - ZN       proportion of residential land zoned for lots over 25,000 sq.ft.\n",
      "        - INDUS    proportion of non-retail business acres per town\n",
      "        - CHAS     Charles River dummy variable (= 1 if tract bounds river; 0 otherwise)\n",
      "        - NOX      nitric oxides concentration (parts per 10 million)\n",
      "        - RM       average number of rooms per dwelling\n",
      "        - AGE      proportion of owner-occupied units built prior to 1940\n",
      "        - DIS      weighted distances to five Boston employment centres\n",
      "        - RAD      index of accessibility to radial highways\n",
      "        - TAX      full-value property-tax rate per $10,000\n",
      "        - PTRATIO  pupil-teacher ratio by town\n",
      "        - B        1000(Bk - 0.63)^2 where Bk is the proportion of blacks by town\n",
      "        - LSTAT    % lower status of the population\n",
      "        - MEDV     Median value of owner-occupied homes in $1000's\n",
      "\n",
      "    :Missing Attribute Values: None\n",
      "\n",
      "    :Creator: Harrison, D. and Rubinfeld, D.L.\n",
      "\n",
      "This is a copy of UCI ML housing dataset.\n",
      "https://archive.ics.uci.edu/ml/machine-learning-databases/housing/\n",
      "\n",
      "\n",
      "This dataset was taken from the StatLib library which is maintained at Carnegie Mellon University.\n",
      "\n",
      "The Boston house-price data of Harrison, D. and Rubinfeld, D.L. 'Hedonic\n",
      "prices and the demand for clean air', J. Environ. Economics & Management,\n",
      "vol.5, 81-102, 1978.   Used in Belsley, Kuh & Welsch, 'Regression diagnostics\n",
      "...', Wiley, 1980.   N.B. Various transformations are used in the table on\n",
      "pages 244-261 of the latter.\n",
      "\n",
      "The Boston house-price data has been used in many machine learning papers that address regression\n",
      "problems.   \n",
      "     \n",
      ".. topic:: References\n",
      "\n",
      "   - Belsley, Kuh & Welsch, 'Regression diagnostics: Identifying Influential Data and Sources of Collinearity', Wiley, 1980. 244-261.\n",
      "   - Quinlan,R. (1993). Combining Instance-Based and Model-Based Learning. In Proceedings on the Tenth International Conference of Machine Learning, 236-243, University of Massachusetts, Amherst. Morgan Kaufmann.\n",
      "\n"
     ]
    }
   ],
   "source": [
    "print(boston.DESCR)"
   ]
  },
  {
   "cell_type": "code",
   "execution_count": 58,
   "metadata": {},
   "outputs": [],
   "source": [
    "features=pd.DataFrame(boston.data,columns=boston.feature_names)"
   ]
  },
  {
   "cell_type": "code",
   "execution_count": 59,
   "metadata": {},
   "outputs": [
    {
     "name": "stdout",
     "output_type": "stream",
     "text": [
      "        CRIM    ZN  INDUS  CHAS    NOX     RM   AGE     DIS  RAD    TAX  \\\n",
      "0    0.00632  18.0   2.31   0.0  0.538  6.575  65.2  4.0900  1.0  296.0   \n",
      "1    0.02731   0.0   7.07   0.0  0.469  6.421  78.9  4.9671  2.0  242.0   \n",
      "2    0.02729   0.0   7.07   0.0  0.469  7.185  61.1  4.9671  2.0  242.0   \n",
      "3    0.03237   0.0   2.18   0.0  0.458  6.998  45.8  6.0622  3.0  222.0   \n",
      "4    0.06905   0.0   2.18   0.0  0.458  7.147  54.2  6.0622  3.0  222.0   \n",
      "..       ...   ...    ...   ...    ...    ...   ...     ...  ...    ...   \n",
      "501  0.06263   0.0  11.93   0.0  0.573  6.593  69.1  2.4786  1.0  273.0   \n",
      "502  0.04527   0.0  11.93   0.0  0.573  6.120  76.7  2.2875  1.0  273.0   \n",
      "503  0.06076   0.0  11.93   0.0  0.573  6.976  91.0  2.1675  1.0  273.0   \n",
      "504  0.10959   0.0  11.93   0.0  0.573  6.794  89.3  2.3889  1.0  273.0   \n",
      "505  0.04741   0.0  11.93   0.0  0.573  6.030  80.8  2.5050  1.0  273.0   \n",
      "\n",
      "     PTRATIO       B  LSTAT  \n",
      "0       15.3  396.90   4.98  \n",
      "1       17.8  396.90   9.14  \n",
      "2       17.8  392.83   4.03  \n",
      "3       18.7  394.63   2.94  \n",
      "4       18.7  396.90   5.33  \n",
      "..       ...     ...    ...  \n",
      "501     21.0  391.99   9.67  \n",
      "502     21.0  396.90   9.08  \n",
      "503     21.0  396.90   5.64  \n",
      "504     21.0  393.45   6.48  \n",
      "505     21.0  396.90   7.88  \n",
      "\n",
      "[506 rows x 13 columns]\n"
     ]
    }
   ],
   "source": [
    "print(features)"
   ]
  },
  {
   "cell_type": "code",
   "execution_count": 60,
   "metadata": {},
   "outputs": [
    {
     "name": "stdout",
     "output_type": "stream",
     "text": [
      "0      0.0\n",
      "1      0.0\n",
      "2      0.0\n",
      "3      0.0\n",
      "4      0.0\n",
      "      ... \n",
      "501    0.0\n",
      "502    0.0\n",
      "503    0.0\n",
      "504    0.0\n",
      "505    0.0\n",
      "Name: CHAS, Length: 506, dtype: float64\n"
     ]
    }
   ],
   "source": [
    "print(features.CHAS)"
   ]
  },
  {
   "cell_type": "code",
   "execution_count": 61,
   "metadata": {},
   "outputs": [],
   "source": [
    "target=pd.DataFrame(boston.target,columns=['targets'])"
   ]
  },
  {
   "cell_type": "code",
   "execution_count": 62,
   "metadata": {},
   "outputs": [
    {
     "name": "stdout",
     "output_type": "stream",
     "text": [
      "     targets\n",
      "0       24.0\n",
      "1       21.6\n",
      "2       34.7\n",
      "3       33.4\n",
      "4       36.2\n",
      "..       ...\n",
      "501     22.4\n",
      "502     20.6\n",
      "503     23.9\n",
      "504     22.0\n",
      "505     11.9\n",
      "\n",
      "[506 rows x 1 columns]\n"
     ]
    }
   ],
   "source": [
    "print(target)"
   ]
  },
  {
   "cell_type": "code",
   "execution_count": 63,
   "metadata": {},
   "outputs": [
    {
     "name": "stdout",
     "output_type": "stream",
     "text": [
      "50.0\n"
     ]
    }
   ],
   "source": [
    "print(max(target['targets']))"
   ]
  },
  {
   "cell_type": "code",
   "execution_count": 64,
   "metadata": {},
   "outputs": [
    {
     "name": "stdout",
     "output_type": "stream",
     "text": [
      "5.0\n"
     ]
    }
   ],
   "source": [
    "print(min(target['targets']))"
   ]
  },
  {
   "cell_type": "code",
   "execution_count": 65,
   "metadata": {},
   "outputs": [],
   "source": [
    "df=pd.concat([features,target],axis=1)"
   ]
  },
  {
   "cell_type": "markdown",
   "metadata": {},
   "source": []
  },
  {
   "cell_type": "code",
   "execution_count": 66,
   "metadata": {},
   "outputs": [
    {
     "name": "stdout",
     "output_type": "stream",
     "text": [
      "        CRIM    ZN  INDUS  CHAS    NOX     RM   AGE     DIS  RAD    TAX  \\\n",
      "0    0.00632  18.0   2.31   0.0  0.538  6.575  65.2  4.0900  1.0  296.0   \n",
      "1    0.02731   0.0   7.07   0.0  0.469  6.421  78.9  4.9671  2.0  242.0   \n",
      "2    0.02729   0.0   7.07   0.0  0.469  7.185  61.1  4.9671  2.0  242.0   \n",
      "3    0.03237   0.0   2.18   0.0  0.458  6.998  45.8  6.0622  3.0  222.0   \n",
      "4    0.06905   0.0   2.18   0.0  0.458  7.147  54.2  6.0622  3.0  222.0   \n",
      "..       ...   ...    ...   ...    ...    ...   ...     ...  ...    ...   \n",
      "501  0.06263   0.0  11.93   0.0  0.573  6.593  69.1  2.4786  1.0  273.0   \n",
      "502  0.04527   0.0  11.93   0.0  0.573  6.120  76.7  2.2875  1.0  273.0   \n",
      "503  0.06076   0.0  11.93   0.0  0.573  6.976  91.0  2.1675  1.0  273.0   \n",
      "504  0.10959   0.0  11.93   0.0  0.573  6.794  89.3  2.3889  1.0  273.0   \n",
      "505  0.04741   0.0  11.93   0.0  0.573  6.030  80.8  2.5050  1.0  273.0   \n",
      "\n",
      "     PTRATIO       B  LSTAT  targets  \n",
      "0       15.3  396.90   4.98     24.0  \n",
      "1       17.8  396.90   9.14     21.6  \n",
      "2       17.8  392.83   4.03     34.7  \n",
      "3       18.7  394.63   2.94     33.4  \n",
      "4       18.7  396.90   5.33     36.2  \n",
      "..       ...     ...    ...      ...  \n",
      "501     21.0  391.99   9.67     22.4  \n",
      "502     21.0  396.90   9.08     20.6  \n",
      "503     21.0  396.90   5.64     23.9  \n",
      "504     21.0  393.45   6.48     22.0  \n",
      "505     21.0  396.90   7.88     11.9  \n",
      "\n",
      "[506 rows x 14 columns]\n"
     ]
    }
   ],
   "source": [
    "print(df)"
   ]
  },
  {
   "cell_type": "code",
   "execution_count": 67,
   "metadata": {},
   "outputs": [
    {
     "name": "stdout",
     "output_type": "stream",
     "text": [
      "         CRIM      ZN   INDUS    CHAS     NOX      RM     AGE     DIS     RAD  \\\n",
      "count  506.00  506.00  506.00  506.00  506.00  506.00  506.00  506.00  506.00   \n",
      "mean     3.61   11.36   11.14    0.07    0.55    6.28   68.57    3.80    9.55   \n",
      "std      8.60   23.32    6.86    0.25    0.12    0.70   28.15    2.11    8.71   \n",
      "min      0.01    0.00    0.46    0.00    0.38    3.56    2.90    1.13    1.00   \n",
      "25%      0.08    0.00    5.19    0.00    0.45    5.89   45.02    2.10    4.00   \n",
      "50%      0.26    0.00    9.69    0.00    0.54    6.21   77.50    3.21    5.00   \n",
      "75%      3.68   12.50   18.10    0.00    0.62    6.62   94.07    5.19   24.00   \n",
      "max     88.98  100.00   27.74    1.00    0.87    8.78  100.00   12.13   24.00   \n",
      "\n",
      "          TAX  PTRATIO       B   LSTAT  targets  \n",
      "count  506.00   506.00  506.00  506.00   506.00  \n",
      "mean   408.24    18.46  356.67   12.65    22.53  \n",
      "std    168.54     2.16   91.29    7.14     9.20  \n",
      "min    187.00    12.60    0.32    1.73     5.00  \n",
      "25%    279.00    17.40  375.38    6.95    17.02  \n",
      "50%    330.00    19.05  391.44   11.36    21.20  \n",
      "75%    666.00    20.20  396.22   16.96    25.00  \n",
      "max    711.00    22.00  396.90   37.97    50.00  \n"
     ]
    }
   ],
   "source": [
    "print(df.describe().round(decimals=2))"
   ]
  },
  {
   "cell_type": "code",
   "execution_count": 68,
   "metadata": {},
   "outputs": [],
   "source": [
    "corr=df.corr('pearson')"
   ]
  },
  {
   "cell_type": "code",
   "execution_count": 69,
   "metadata": {},
   "outputs": [
    {
     "name": "stdout",
     "output_type": "stream",
     "text": [
      "             CRIM        ZN     INDUS      CHAS       NOX        RM       AGE  \\\n",
      "CRIM     1.000000 -0.200469  0.406583 -0.055892  0.420972 -0.219247  0.352734   \n",
      "ZN      -0.200469  1.000000 -0.533828 -0.042697 -0.516604  0.311991 -0.569537   \n",
      "INDUS    0.406583 -0.533828  1.000000  0.062938  0.763651 -0.391676  0.644779   \n",
      "CHAS    -0.055892 -0.042697  0.062938  1.000000  0.091203  0.091251  0.086518   \n",
      "NOX      0.420972 -0.516604  0.763651  0.091203  1.000000 -0.302188  0.731470   \n",
      "RM      -0.219247  0.311991 -0.391676  0.091251 -0.302188  1.000000 -0.240265   \n",
      "AGE      0.352734 -0.569537  0.644779  0.086518  0.731470 -0.240265  1.000000   \n",
      "DIS     -0.379670  0.664408 -0.708027 -0.099176 -0.769230  0.205246 -0.747881   \n",
      "RAD      0.625505 -0.311948  0.595129 -0.007368  0.611441 -0.209847  0.456022   \n",
      "TAX      0.582764 -0.314563  0.720760 -0.035587  0.668023 -0.292048  0.506456   \n",
      "PTRATIO  0.289946 -0.391679  0.383248 -0.121515  0.188933 -0.355501  0.261515   \n",
      "B       -0.385064  0.175520 -0.356977  0.048788 -0.380051  0.128069 -0.273534   \n",
      "LSTAT    0.455621 -0.412995  0.603800 -0.053929  0.590879 -0.613808  0.602339   \n",
      "targets -0.388305  0.360445 -0.483725  0.175260 -0.427321  0.695360 -0.376955   \n",
      "\n",
      "              DIS       RAD       TAX   PTRATIO         B     LSTAT   targets  \n",
      "CRIM    -0.379670  0.625505  0.582764  0.289946 -0.385064  0.455621 -0.388305  \n",
      "ZN       0.664408 -0.311948 -0.314563 -0.391679  0.175520 -0.412995  0.360445  \n",
      "INDUS   -0.708027  0.595129  0.720760  0.383248 -0.356977  0.603800 -0.483725  \n",
      "CHAS    -0.099176 -0.007368 -0.035587 -0.121515  0.048788 -0.053929  0.175260  \n",
      "NOX     -0.769230  0.611441  0.668023  0.188933 -0.380051  0.590879 -0.427321  \n",
      "RM       0.205246 -0.209847 -0.292048 -0.355501  0.128069 -0.613808  0.695360  \n",
      "AGE     -0.747881  0.456022  0.506456  0.261515 -0.273534  0.602339 -0.376955  \n",
      "DIS      1.000000 -0.494588 -0.534432 -0.232471  0.291512 -0.496996  0.249929  \n",
      "RAD     -0.494588  1.000000  0.910228  0.464741 -0.444413  0.488676 -0.381626  \n",
      "TAX     -0.534432  0.910228  1.000000  0.460853 -0.441808  0.543993 -0.468536  \n",
      "PTRATIO -0.232471  0.464741  0.460853  1.000000 -0.177383  0.374044 -0.507787  \n",
      "B        0.291512 -0.444413 -0.441808 -0.177383  1.000000 -0.366087  0.333461  \n",
      "LSTAT   -0.496996  0.488676  0.543993  0.374044 -0.366087  1.000000 -0.737663  \n",
      "targets  0.249929 -0.381626 -0.468536 -0.507787  0.333461 -0.737663  1.000000  \n"
     ]
    }
   ],
   "source": [
    "print(corr)"
   ]
  },
  {
   "cell_type": "code",
   "execution_count": 70,
   "metadata": {},
   "outputs": [
    {
     "name": "stdout",
     "output_type": "stream",
     "text": [
      "['CRIM', 'ZN', 'INDUS', 'CHAS', 'NOX', 'RM', 'AGE', 'DIS', 'RAD', 'TAX', 'PTRATIO', 'B', 'LSTAT']\n"
     ]
    }
   ],
   "source": [
    "print(list(features))"
   ]
  },
  {
   "cell_type": "code",
   "execution_count": 71,
   "metadata": {},
   "outputs": [],
   "source": [
    "corrs=[abs(corr[attr]['targets']) for attr in list(features)]"
   ]
  },
  {
   "cell_type": "code",
   "execution_count": 72,
   "metadata": {},
   "outputs": [
    {
     "name": "stdout",
     "output_type": "stream",
     "text": [
      "[0.3883046085868114, 0.3604453424505447, 0.483725160028373, 0.1752601771902975, 0.4273207723732817, 0.6953599470715389, 0.3769545650045959, 0.24992873408590394, 0.3816262306397776, 0.46853593356776646, 0.507786685537561, 0.33346081965706653, 0.7376627261740143]\n"
     ]
    }
   ],
   "source": [
    "print(corrs)"
   ]
  },
  {
   "cell_type": "code",
   "execution_count": 73,
   "metadata": {},
   "outputs": [],
   "source": [
    "l=list(zip(corrs,list(features)))"
   ]
  },
  {
   "cell_type": "code",
   "execution_count": 74,
   "metadata": {},
   "outputs": [
    {
     "name": "stdout",
     "output_type": "stream",
     "text": [
      "[(0.3883046085868114, 'CRIM'), (0.3604453424505447, 'ZN'), (0.483725160028373, 'INDUS'), (0.1752601771902975, 'CHAS'), (0.4273207723732817, 'NOX'), (0.6953599470715389, 'RM'), (0.3769545650045959, 'AGE'), (0.24992873408590394, 'DIS'), (0.3816262306397776, 'RAD'), (0.46853593356776646, 'TAX'), (0.507786685537561, 'PTRATIO'), (0.33346081965706653, 'B'), (0.7376627261740143, 'LSTAT')]\n"
     ]
    }
   ],
   "source": [
    "print(l)"
   ]
  },
  {
   "cell_type": "code",
   "execution_count": 75,
   "metadata": {},
   "outputs": [],
   "source": [
    "h=lambda x: x[0]"
   ]
  },
  {
   "cell_type": "code",
   "execution_count": 76,
   "metadata": {},
   "outputs": [],
   "source": [
    "l.sort(key=h,reverse=True)"
   ]
  },
  {
   "cell_type": "code",
   "execution_count": 77,
   "metadata": {},
   "outputs": [
    {
     "name": "stdout",
     "output_type": "stream",
     "text": [
      "[(0.7376627261740143, 'LSTAT'), (0.6953599470715389, 'RM'), (0.507786685537561, 'PTRATIO'), (0.483725160028373, 'INDUS'), (0.46853593356776646, 'TAX'), (0.4273207723732817, 'NOX'), (0.3883046085868114, 'CRIM'), (0.3816262306397776, 'RAD'), (0.3769545650045959, 'AGE'), (0.3604453424505447, 'ZN'), (0.33346081965706653, 'B'), (0.24992873408590394, 'DIS'), (0.1752601771902975, 'CHAS')]\n"
     ]
    }
   ],
   "source": [
    "print(l)"
   ]
  },
  {
   "cell_type": "code",
   "execution_count": 78,
   "metadata": {},
   "outputs": [],
   "source": [
    "corrs,labels=zip((*l))"
   ]
  },
  {
   "cell_type": "code",
   "execution_count": 79,
   "metadata": {},
   "outputs": [],
   "source": [
    "index=np.arange(len(labels))"
   ]
  },
  {
   "cell_type": "code",
   "execution_count": 80,
   "metadata": {},
   "outputs": [
    {
     "data": {
      "text/plain": [
       "array([ 0,  1,  2,  3,  4,  5,  6,  7,  8,  9, 10, 11, 12])"
      ]
     },
     "execution_count": 80,
     "metadata": {},
     "output_type": "execute_result"
    }
   ],
   "source": [
    "index"
   ]
  },
  {
   "cell_type": "code",
   "execution_count": 81,
   "metadata": {},
   "outputs": [
    {
     "data": {
      "image/png": "[encoded data removed]",
      "text/plain": [
       "<Figure size 1080x360 with 1 Axes>"
      ]
     },
     "metadata": {
      "needs_background": "light"
     },
     "output_type": "display_data"
    }
   ],
   "source": [
    "plt.figure(figsize=(15,5))\n",
    "plt.bar(index,corrs,width=0.5)\n",
    "plt.xlabel('attributes')\n",
    "plt.ylabel('correlation')\n",
    "plt.xticks(index,labels)\n",
    "plt.show()"
   ]
  },
  {
   "cell_type": "markdown",
   "metadata": {},
   "source": [
    "# normalization on data"
   ]
  },
  {
   "cell_type": "code",
   "execution_count": null,
   "metadata": {},
   "outputs": [],
   "source": []
  },
  {
   "cell_type": "code",
   "execution_count": null,
   "metadata": {},
   "outputs": [],
   "source": []
  },
  {
   "cell_type": "code",
   "execution_count": 82,
   "metadata": {},
   "outputs": [
    {
     "data": {
      "text/plain": [
       "array([ 4.98,  9.14,  4.03,  2.94,  5.33,  5.21, 12.43, 19.15, 29.93,\n",
       "       17.1 , 20.45, 13.27, 15.71,  8.26, 10.26,  8.47,  6.58, 14.67,\n",
       "       11.69, 11.28, 21.02, 13.83, 18.72, 19.88, 16.3 , 16.51, 14.81,\n",
       "       17.28, 12.8 , 11.98, 22.6 , 13.04, 27.71, 18.35, 20.34,  9.68,\n",
       "       11.41,  8.77, 10.13,  4.32,  1.98,  4.84,  5.81,  7.44,  9.55,\n",
       "       10.21, 14.15, 18.8 , 30.81, 16.2 , 13.45,  9.43,  5.28,  8.43,\n",
       "       14.8 ,  4.81,  5.77,  3.95,  6.86,  9.22, 13.15, 14.44,  6.73,\n",
       "        9.5 ,  8.05,  4.67, 10.24,  8.1 , 13.09,  8.79,  6.72,  9.88,\n",
       "        5.52,  7.54,  6.78,  8.94, 11.97, 10.27, 12.34,  9.1 ,  5.29,\n",
       "        7.22,  6.72,  7.51,  9.62,  6.53, 12.86,  8.44,  5.5 ,  5.7 ,\n",
       "        8.81,  8.2 ,  8.16,  6.21, 10.59,  6.65, 11.34,  4.21,  3.57,\n",
       "        6.19,  9.42,  7.67, 10.63, 13.44, 12.33, 16.47, 18.66, 14.09,\n",
       "       12.27, 15.55, 13.  , 10.16, 16.21, 17.09, 10.45, 15.76, 12.04,\n",
       "       10.3 , 15.37, 13.61, 14.37, 14.27, 17.93, 25.41, 17.58, 14.81,\n",
       "       27.26, 17.19, 15.39, 18.34, 12.6 , 12.26, 11.12, 15.03, 17.31,\n",
       "       16.96, 16.9 , 14.59, 21.32, 18.46, 24.16, 34.41, 26.82, 26.42,\n",
       "       29.29, 27.8 , 16.65, 29.53, 28.32, 21.45, 14.1 , 13.28, 12.12,\n",
       "       15.79, 15.12, 15.02, 16.14,  4.59,  6.43,  7.39,  5.5 ,  1.73,\n",
       "        1.92,  3.32, 11.64,  9.81,  3.7 , 12.14, 11.1 , 11.32, 14.43,\n",
       "       12.03, 14.69,  9.04,  9.64,  5.33, 10.11,  6.29,  6.92,  5.04,\n",
       "        7.56,  9.45,  4.82,  5.68, 13.98, 13.15,  4.45,  6.68,  4.56,\n",
       "        5.39,  5.1 ,  4.69,  2.87,  5.03,  4.38,  2.97,  4.08,  8.61,\n",
       "        6.62,  4.56,  4.45,  7.43,  3.11,  3.81,  2.88, 10.87, 10.97,\n",
       "       18.06, 14.66, 23.09, 17.27, 23.98, 16.03,  9.38, 29.55,  9.47,\n",
       "       13.51,  9.69, 17.92, 10.5 ,  9.71, 21.46,  9.93,  7.6 ,  4.14,\n",
       "        4.63,  3.13,  6.36,  3.92,  3.76, 11.65,  5.25,  2.47,  3.95,\n",
       "        8.05, 10.88,  9.54,  4.73,  6.36,  7.37, 11.38, 12.4 , 11.22,\n",
       "        5.19, 12.5 , 18.46,  9.16, 10.15,  9.52,  6.56,  5.9 ,  3.59,\n",
       "        3.53,  3.54,  6.57,  9.25,  3.11,  5.12,  7.79,  6.9 ,  9.59,\n",
       "        7.26,  5.91, 11.25,  8.1 , 10.45, 14.79,  7.44,  3.16, 13.65,\n",
       "       13.  ,  6.59,  7.73,  6.58,  3.53,  2.98,  6.05,  4.16,  7.19,\n",
       "        4.85,  3.76,  4.59,  3.01,  3.16,  7.85,  8.23, 12.93,  7.14,\n",
       "        7.6 ,  9.51,  3.33,  3.56,  4.7 ,  8.58, 10.4 ,  6.27,  7.39,\n",
       "       15.84,  4.97,  4.74,  6.07,  9.5 ,  8.67,  4.86,  6.93,  8.93,\n",
       "        6.47,  7.53,  4.54,  9.97, 12.64,  5.98, 11.72,  7.9 ,  9.28,\n",
       "       11.5 , 18.33, 15.94, 10.36, 12.73,  7.2 ,  6.87,  7.7 , 11.74,\n",
       "        6.12,  5.08,  6.15, 12.79,  9.97,  7.34,  9.09, 12.43,  7.83,\n",
       "        5.68,  6.75,  8.01,  9.8 , 10.56,  8.51,  9.74,  9.29,  5.49,\n",
       "        8.65,  7.18,  4.61, 10.53, 12.67,  6.36,  5.99,  5.89,  5.98,\n",
       "        5.49,  7.79,  4.5 ,  8.05,  5.57, 17.6 , 13.27, 11.48, 12.67,\n",
       "        7.79, 14.19, 10.19, 14.64,  5.29,  7.12, 14.  , 13.33,  3.26,\n",
       "        3.73,  2.96,  9.53,  8.88, 34.77, 37.97, 13.44, 23.24, 21.24,\n",
       "       23.69, 21.78, 17.21, 21.08, 23.6 , 24.56, 30.63, 30.81, 28.28,\n",
       "       31.99, 30.62, 20.85, 17.11, 18.76, 25.68, 15.17, 16.35, 17.12,\n",
       "       19.37, 19.92, 30.59, 29.97, 26.77, 20.32, 20.31, 19.77, 27.38,\n",
       "       22.98, 23.34, 12.13, 26.4 , 19.78, 10.11, 21.22, 34.37, 20.08,\n",
       "       36.98, 29.05, 25.79, 26.64, 20.62, 22.74, 15.02, 15.7 , 14.1 ,\n",
       "       23.29, 17.16, 24.39, 15.69, 14.52, 21.52, 24.08, 17.64, 19.69,\n",
       "       12.03, 16.22, 15.17, 23.27, 18.05, 26.45, 34.02, 22.88, 22.11,\n",
       "       19.52, 16.59, 18.85, 23.79, 23.98, 17.79, 16.44, 18.13, 19.31,\n",
       "       17.44, 17.73, 17.27, 16.74, 18.71, 18.13, 19.01, 16.94, 16.23,\n",
       "       14.7 , 16.42, 14.65, 13.99, 10.29, 13.22, 14.13, 17.15, 21.32,\n",
       "       18.13, 14.76, 16.29, 12.87, 14.36, 11.66, 18.14, 24.1 , 18.68,\n",
       "       24.91, 18.03, 13.11, 10.74,  7.74,  7.01, 10.42, 13.34, 10.58,\n",
       "       14.98, 11.45, 18.06, 23.97, 29.68, 18.07, 13.35, 12.01, 13.59,\n",
       "       17.6 , 21.14, 14.1 , 12.92, 15.1 , 14.33,  9.67,  9.08,  5.64,\n",
       "        6.48,  7.88])"
      ]
     },
     "execution_count": 82,
     "metadata": {},
     "output_type": "execute_result"
    }
   ],
   "source": [
    "X=df[\"LSTAT\"].values\n",
    "Y=df[\"targets\"].values\n",
    "X"
   ]
  },
  {
   "cell_type": "code",
   "execution_count": 83,
   "metadata": {},
   "outputs": [],
   "source": [
    "x_scaler=MinMaxScaler()\n",
    "y_scaler=MinMaxScaler()"
   ]
  },
  {
   "cell_type": "code",
   "execution_count": 84,
   "metadata": {},
   "outputs": [],
   "source": [
    "X=x_scaler.fit_transform(X.reshape(-1,1))\n",
    "X=X[:,-1]\n",
    "Y=y_scaler.fit_transform(Y.reshape(-1,1))\n",
    "Y=Y[:,-1]"
   ]
  },
  {
   "cell_type": "code",
   "execution_count": 85,
   "metadata": {},
   "outputs": [
    {
     "name": "stdout",
     "output_type": "stream",
     "text": [
      "[0.42222222 0.36888889 0.66       0.63111111 0.69333333]\n"
     ]
    }
   ],
   "source": [
    "print(Y[:5])"
   ]
  },
  {
   "cell_type": "code",
   "execution_count": 86,
   "metadata": {},
   "outputs": [
    {
     "name": "stdout",
     "output_type": "stream",
     "text": [
      "[0.08967991 0.2044702  0.06346578 0.03338852 0.09933775]\n"
     ]
    }
   ],
   "source": [
    "print(X[:5])"
   ]
  },
  {
   "cell_type": "code",
   "execution_count": 87,
   "metadata": {},
   "outputs": [],
   "source": [
    "xtrain,xtest,ytrain,ytest=train_test_split(X,Y,test_size=0.2)"
   ]
  },
  {
   "cell_type": "markdown",
   "metadata": {},
   "source": [
    "# gradient function"
   ]
  },
  {
   "cell_type": "code",
   "execution_count": null,
   "metadata": {},
   "outputs": [],
   "source": []
  },
  {
   "cell_type": "code",
   "execution_count": 88,
   "metadata": {},
   "outputs": [],
   "source": [
    "def update(m,x,c,t,learning_rate):\n",
    "    grad_m = sum(2 * ((m * x + c) - t) * x)\n",
    "    grad_c = sum(2 * ((m * x + c) - t))\n",
    "    m = m - grad_m * learning_rate\n",
    "    c = c - grad_c * learning_rate\n",
    "    return m,c"
   ]
  },
  {
   "cell_type": "code",
   "execution_count": null,
   "metadata": {},
   "outputs": [],
   "source": [
    " "
   ]
  },
  {
   "cell_type": "code",
   "execution_count": 89,
   "metadata": {},
   "outputs": [],
   "source": [
    "def error(m,x,c,t):\n",
    "    N=x.size\n",
    "    e=sum(((m * x + c) - t) ** 2)\n",
    "    return e * (1/(2 * N))"
   ]
  },
  {
   "cell_type": "code",
   "execution_count": 90,
   "metadata": {},
   "outputs": [],
   "source": [
    "def gradient_decent(init_m,init_c,x,t,learning_rate,iteration,error_threshold):\n",
    "    m = init_m\n",
    "    c = init_c\n",
    "    error_values = list()\n",
    "    mc_values = list()\n",
    "    for i in range(iteration):\n",
    "        e = error(m,x,c,t)\n",
    "        if e < error_threshold:\n",
    "            print(\"error less than threshold error\")\n",
    "            break\n",
    "        else:    \n",
    "            error_values.append(e)\n",
    "            m,c = update(m,x,c,t,learning_rate)\n",
    "            mc_values.append((m,c))\n",
    "    return m,c,error_values,mc_values    "
   ]
  },
  {
   "cell_type": "code",
   "execution_count": 91,
   "metadata": {
    "scrolled": true
   },
   "outputs": [
    {
     "name": "stdout",
     "output_type": "stream",
     "text": [
      "Wall time: 51.9 ms\n"
     ]
    }
   ],
   "source": [
    "%%time\n",
    "init_m= 0.9\n",
    "init_c = 0\n",
    "learning_rate = 0.001\n",
    "iteration = 250\n",
    "error_threshold = 0.001\n",
    "m,c,error_values,mc_values = gradient_decent(init_m,init_c,xtrain,ytrain,learning_rate,iteration,error_threshold)"
   ]
  },
  {
   "cell_type": "code",
   "execution_count": 92,
   "metadata": {},
   "outputs": [
    {
     "data": {
      "text/plain": [
       "-0.7759652697177881"
      ]
     },
     "execution_count": 92,
     "metadata": {},
     "output_type": "execute_result"
    }
   ],
   "source": [
    "m"
   ]
  },
  {
   "cell_type": "code",
   "execution_count": 107,
   "metadata": {},
   "outputs": [
    {
     "data": {
      "text/plain": [
       "0.6262086442056463"
      ]
     },
     "execution_count": 107,
     "metadata": {},
     "output_type": "execute_result"
    }
   ],
   "source": [
    "c"
   ]
  },
  {
   "cell_type": "markdown",
   "metadata": {},
   "source": [
    "# visualization"
   ]
  },
  {
   "cell_type": "code",
   "execution_count": 108,
   "metadata": {},
   "outputs": [],
   "source": [
    "mc_values_anim=mc_values[0:250:5]"
   ]
  },
  {
   "cell_type": "code",
   "execution_count": 109,
   "metadata": {},
   "outputs": [
    {
     "data": {
      "text/html": [
       "<video width=\"432\" height=\"288\" controls autoplay loop>\n",
       "  <source type=\"video/mp4\" src=\"data:video/mp4;base64,AAAAHGZ0eXBNNFYgAAACAGlzb21pc28yYXZjMQAAAAhmcmVlAADL/21kYXQAAAKfBgX//5vcRem9\n",
       "5tlIt5Ys2CDZI+7veDI2NCAtIGNvcmUgMTU5IC0gSC4yNjQvTVBFRy00IEFWQyBjb2RlYyAtIENv\n",
       "cHlsZWZ0IDIwMDMtMjAxOSAtIGh0dHA6Ly93d3cudmlkZW9sYW4ub3JnL3gyNjQuaHRtbCAtIG9w\n",
       "dGlvbnM6IGNhYmFjPTEgcmVmPTMgZGVibG9jaz0xOjA6MCBhbmFseXNlPTB4MzoweDExMyBtZT1o\n",
       "ZXggc3VibWU9NyBwc3k9MSBwc3lfcmQ9MS4wMDowLjAwIG1peGVkX3JlZj0xIG1lX3JhbmdlPTE2\n",
       "IGNocm9tYV9tZT0xIHRyZWxsaXM9MSA4eDhkY3Q9MSBjcW09MCBkZWFkem9uZT0yMSwxMSBmYXN0\n",
       "X3Bza2lwPTEgY2hyb21hX3FwX29mZnNldD0tMiB0aHJlYWRzPTkgbG9va2FoZWFkX3RocmVhZHM9\n",
       "MSBzbGljZWRfdGhyZWFkcz0wIG5yPTAgZGVjaW1hdGU9MSBpbnRlcmxhY2VkPTAgYmx1cmF5X2Nv\n",
       "bXBhdD0wIGNvbnN0cmFpbmVkX2ludHJhPTAgYmZyYW1lcz0zIGJfcHlyYW1pZD0yIGJfYWRhcHQ9\n",
       "MSBiX2JpYXM9MCBkaXJlY3Q9MSB3ZWlnaHRiPTEgb3Blbl9nb3A9MCB3ZWlnaHRwPTIga2V5aW50\n",
       "PTI1MCBrZXlpbnRfbWluPTUgc2NlbmVjdXQ9NDAgaW50cmFfcmVmcmVzaD0wIHJjX2xvb2thaGVh\n",
       "ZD00MCByYz1jcmYgbWJ0cmVlPTEgY3JmPTIzLjAgcWNvbXA9MC42MCBxcG1pbj0wIHFwbWF4PTY5\n",
       "IHFwc3RlcD00IGlwX3JhdGlvPTEuNDAgYXE9MToxLjAwAIAAAELSZYiEABP//vexj4FNyAANlzqK\n",
       "eh/hFbH0kFF6sdmgZOoAAAMAAImB+t/CUcLEB8IbdwbnSHdFKtn0ACG7cqpsBfIF9Cy85Nr8okxr\n",
       "R3a5VFNKb0fRNSFiwABnSxJc5tBfmCm9DCYRPk9jbprV+00xfKYoFYXtHq/e+5E6ht61oUriOFpX\n",
       "VocomTFtpscJJZPbttWkHyPc+SAHzHlbDgVMtbsGxvIf1hJY9FlUW12ir628rsIBakuH9OhKtN5N\n",
       "yqFXT+AUZTF3GabHXDGuOYmKFiBn9jFt1El1Wv+WqQxjCSzA+9ou2QCk052y25UThx3cUiTkW62/\n",
       "qSxW01wbNJf4dde5tlQUOdIyaGq3ukxYlF4Ri66tU+Hc9Dg2Ye5IrZ3cupaPschi5/5k+Z2Cb+SL\n",
       "h0DM0eTH8ZsaU+XSsLrBq+7L0crmPCStJWA/EN9pDP4VnoZPXEWfG7FG2I+babdItGEfKIEOjC5W\n",
       "CPlUwXKH1x74r096HsImtGO0RH3wX+lsx2Ux/5+0pmCedyx+YlQFA74FJ+wVIhdBBfbxj2QAhkXW\n",
       "nNJEi6/YDFacgjsG/WC55YpVURhPzQeXo3S45Yur3WAUZdKvLdoI7VOzniZkELHPC57vcF0kIwrj\n",
       "uMPeDK2lVPBbJkYnBPdnwVYfyNb+0azAUNl56igr0oeWbEaITgLpCk/iFnGdz573Z0/p42atvVaS\n",
       "i3XicB0eD98BYU0Jk5guLsg4XF1X7FLDNKUcMWO05iYnJ6HeBnAiwTl1TmhBiS/WR0cBQWsNH+qe\n",
       "cj9XSVYpFqozLXBAdTwu7HeKTUK5Xti5+PvpJXtQnmmSli8Hxd0/mYg4q+LJi6lOg0jgLvLoh68m\n",
       "Me6o4KL4rqFqjNL+p+P+mOtAdE5eEd87YXOIf3gM+QgFohLRzk4kP73vESuOglBYDAFyEMOGgR3V\n",
       "ufAuhecbrZHTgkzMGjCrPf8yb45vzi99rCOVtGsfvlhXw8e1Mc9cgeTF+b9VZl8XHRb/X+VIz8BH\n",
       "WKAVyVjJ1GLewXCbigtyVFrOSSgELVK9QboRQGWZrAZjcbhzUdwylKiWUxv8XZnUcfgT+PVrjA5G\n",
       "Mur65OKWMSkW5xUO27ud28J/NO1XNwLk8ro5elpAXqBKRARlZuSIPayWKy/2xJpdFTTbsXkcJvpM\n",
       "iUaMcJXoS8Qxl/nDfph2g8pvg6ziR7zoW3Mit+bxPdDgC9cQgtl+l57YcWSbwUue9L4NAJs1oOzg\n",
       "kF9JV5VVXymymdXXeqG0QfvapRtxDycYWsrfyEj8Cl091UrFRmDWow9xf9ZDVF9JQLemuFNkraQt\n",
       "sT24lmip/fjwdbXJaI9bq9eRcZPJq7L5sAsbkwRSQdKH0J10Qh2DxvnEh/8j+Wh7BUUufRD0NLHC\n",
       "fS4xtI3LjfLxUNZithjfC05QPkLKJYngjAOv01y+P/JSIWNKLHkh4lDW1QSJMkl/+r9y1EvfveMz\n",
       "/djGWAPkIVkRTYoMCGbCgjHPrySvrYD/nuKNLMdAs0ej8vuq51GB0WNWk9oL9wDRx1NYeTBqOowS\n",
       "Rqm1wccAjhmtNR+/ci6oW9zyrc8PE+lAF9QjqjZbdQ5CrU5ktEU5JDjp9A77zshkaVQCHYTuavOW\n",
       "oDc28Mi/UvF3SmbNhqMzf1enywhyoP/114AJPBjnvZGc27/i6LROJBgZenzbnuDfbuv1lLnmipuW\n",
       "sIEJRRxID89bPENR8fG+d01qA3Y0tgTtHmmwlNkbU/mhkQ3DlyjGvro6vGaac9nivZ8CIQ+UDHUa\n",
       "VIgBAxF0SCv968KcFGY5ER9tiW7yXstAChYKyw9RGhnwEslE3NUYS1c4rCQ5oOV8A4K00ltTiCGJ\n",
       "TBSqqQMFnVjch/tmdFGegZeshCfEPyTHrE2HLaTRWh2va7+Rmo09qbEnG4rm4TuCTihbnDrJ/6g4\n",
       "vMRQfRji3dkLg0/6Vl5EHGV0B1JJG2XH/UD4+Oc63yN/DtyYQQraMpsNdsxkKjiC7WjTz1NvyDE5\n",
       "RDO2aS9sbY2Sx76/7ywgWyK21PPPyjVs4l9O0XVPD/LX+EQZ0WGSpWkFNgT8N63ah4m7d35/2NA2\n",
       "oVTxBB9L5EJqu2OX8j58c122N4C14QfLdWxHZ4F73Zgse9aB+Nc45S57B67gdn3qsKNNK39tnMaV\n",
       "O79/9nP0D6C06vKMRRPyOXx+rEFYthK0LrnSJT8cDneSjcZoW+yxcFffsRPOGhrbhRxPx5014Whm\n",
       "Lv6X3BT51CeyGcamaM65Kpsys8fSGXORRocccV5ttcNIgsjQ7Oakjeg/Hk/S2FQEQ1r/1zhWK0xD\n",
       "HsD7uAHuSkJu9JokE0TQ6MOT3ngmPKnv7zAgwZMfYQ8uykPpeHUgPTQ6aiXsXp7Hd6/JUKKvCBNj\n",
       "J1/9DOUv3+LaAXDygp1R4waaHwNKFEF1kyG7ehQoqMuLqlZ5WEbbQZxcqtFuGHx6nT+UV9swUzKy\n",
       "B+hTdRQ8BsQZ+HrJRTlooNSSwdbrJLx6ig7a/UFX6d9bxzX+NXB36wdgbBdJWOd/5IerWJYH2X7I\n",
       "lAbRIe3kt6+ZeBOqrKOMzPDGQljsmsIw3a4b78ViZc5PIGWBGsGYZuH+BBj30otFQO+FGBLg+1KI\n",
       "qD+yVf8qf+BITykx0lS31HLW5koYfJJQ0+/NmkMH4y2JMl5aT9/OG7fTkj9xdeRAG75KCVXQk3IN\n",
       "JV3XyZPivs1o0/f7AnjGZukMIyjZuyAVcTKbSNmv0q0hk/87QaRkE7gDRQX/ASJFcYTCis3MpcxM\n",
       "ffelEPaCHwvMh0XHQdMBaNRe+uxFE+klmywdwxUvAVw8x8VCEYq8uB34jPXTK92vP1BlfKJNq4t5\n",
       "ID/OarHVQPNXlfFv83WYc7UF9WwXsSxjnGtLivk+Z86b0Ftol4zgheHotaPRq9kHxIT/WgGmRRnB\n",
       "RGEzBLjj7PCro7z5FGsqWuI2GKFk4/NNnorj5spw2b2o+iTTroXqPauq+INUfXfa74wX0gUJ+9vB\n",
       "uEvslwo4eznZaDt08WY0Fd8UndvTu/CB4aAUNbYK7P/Ggu6gOELRCK3JlUcW6mobpnmdIyPuC/QF\n",
       "AdbsIuGyzGIfb7wlXgPvYO3KdvbYczMO/2c5GZ4zIFOxPS6ruZeH84qVfIE5F6VN0Mmi6E94D7Cy\n",
       "78d8ml83tl7USGX8daNMmRy0gk3rjKDCNyxBpfgk0qI4vqIPqa6QFd9S/qga2nY5O3MMgTWCuxys\n",
       "AAfZdsYzq7ltqfCgyythAseq95XAXXgzdWwTfg7Y29SfZI1kYSFeofUTS5HSyx+M2Jfx7A4oUOkE\n",
       "dfpsNntRhHJIxEMULi5XqsAiJuKpfRWZV6moTHpQoXeScXh4U/hCkFPij27DqLJthY9Q2TDMuaCO\n",
       "GaJqZzS0sWzjw2QdeWTJ3swdcAPkxPKCtXl0SAx1iwhL5JqhclkqLGJkR2oUqC7DEaJl7F/RHAi7\n",
       "8/rmGtp66ufHZLd0QBqazix6A/w+mmFkzDAbSkrO8icvrBlYm9SEmLyW4I86ZoglY67D6R0cIfxc\n",
       "UAZ9sVNlonp2H4XDse7bcyazuFKVkpV7AD0HWY1kPcNvMBIqJIdoOOqFwa4EV/R+SumyeFHFE19w\n",
       "CjBVULMpfQzvu1bnqNlbG9kqTqJFzDiiG1m/kYhr+XUnXqNlN9taBD2fCXno522+LMpoZ6YP0XYi\n",
       "0K5A6q+xXXYu33YCNjgpU0kb5dzTugK8QoteffVnfZUEbQ8NshVbbMlbj1oEuF8YaMdFV+NHsBFA\n",
       "9fT4GtHoTHhizfoepOg+LeeUnxsRg3ctp0lEddG7OD1mcnifdYPC9KQTbQH801vowr2cQZqVY9JM\n",
       "kjnpMaU0+pUiqBnG3ri2iOpyHZt29DrwIkpz6l+0zMmDDXbuc2TjdWPEf+MO/PuJPfAEuJHda0cU\n",
       "7iWVsK/pFiy/A9DAWwAH79eu2Rp0cAA7mnXhELjW0m9kemHZ4bKKqSY2F/drZg2eaQHCjJ2gnemi\n",
       "9ibRjj37MlDQIF40DWPv44p4xn6rvdDNE7xZHkZIqmXpjK32vXqum1KBfhcidtU9Qq6onzcadOWW\n",
       "Nb4UJOTYjq1ErRC6qBP29nlHRK8BehOg+VpFqeMoAk2ayIIYA8dS446NtYdMeQE8M+3LpkXSB44t\n",
       "u+HuKOxwyTlFyrfjW4tTU8mPC0kp04KIf3TO9978GssW2lTFMkQiqstjILl4MCdh2NhdiXNDN4R5\n",
       "jbeDKUvv1/oyPVFBDBMIzjRpBXPvb6CJW3/KswY2hFb7E8HbY5rhCavEFmmRV/S1i7Y4EQhSKdtD\n",
       "d6WFpLNhAW8LBQJsqdQXoGiGKFDJyc15oxZB838VbAgqz2Gh52ym47L3RT8lmvvDAwcuQrez0HdM\n",
       "/FISjtGaFW+r4vlDT4S3ttdZqqw4iw5UYrOde3m1C29JScNKpDd8k+xVRbLfvdmuADf+IrwCnenZ\n",
       "q0TtnZ1acfvUOo08LK8gB0L71Ck96up5PvY645PdL/hCUI8It/iwUViKaLaHYEadVclFfxAyIvgW\n",
       "1RCg2rgWUTnoaRzkvAWviCgjze8RWtN5wOqm/WSlPKrN76T9aCHUAk8ACik1ZXBlJLLddAWF4p/a\n",
       "95ty3qTJGy6fPA8zUoYp/Pe1bJL1oHszHPMPa13shW8vcOK0VqljiKnV1LAkjVjQZVn68Va7fl5o\n",
       "XjUWBeZYQrRz7QULvaWDp0wvxwY4ovoOBFhMDEDDWfWZHLvFxHuBt1PyQfWeM1UY6G3oE5ze5MoM\n",
       "VDPNfwwdI4zwfp0pBEwaCvKRcE1Ofz2Iliq3/aQNbSnW+G74QCuYgHsW9jmEIKqNUGJEwu+NzT/M\n",
       "MkQwt+FIqZ0M6gmbpN5VxlMAiWnGU/NiPLHUu1xIhMvoo/Swv6//hSSe2W8M9hORy3X6rNQyDlw9\n",
       "oV933xfOqgROeqJuOZtQT62bMUbzVdDrJBrMaaN6hSLXg/bzH6AiKjKWKFtFQsC2FetuUGyDAET8\n",
       "nJRHh65Wd43/3h7BXtAqGrCe0/oxZAzo5p1Lv0VJJUVPwFNWHthuB/RKEWNYzU5NNDxIStdfZ1+9\n",
       "AIal8sBFZSwewFJdxJBL1WI7X0ifxTq1R5HDjgGjhN6A84ci4wJjUzCxCReVLweM8MVaBbUdreXR\n",
       "xKaPJx5ooybvY+BE0d7sMBNILC7Clq2hXanIwKM4qxCVKY6Bibxrgyfbk+fLfQi7H0p0qBfUgqqV\n",
       "09/rvisGKTX18+cfDtgpiRcM7fGkVdZD5DDVOciVHwKgjtlrNyljacbs4/zsMs0s2bryLM70gQUy\n",
       "dykJoO4eonJsxksJ7L/3duyoKJdOsW0ejZLN/f+6tvFl+jLES1UTT73bHjP6kEmAB0qV7SokIc3t\n",
       "J0eq3iWS1VbmM97hNyWcKLCEnM8Yu88BqjhV4q+PP+mWfPSFB8W5HYU7zGdl7mtAPYDG8/9eZQ9c\n",
       "6K1qdvosIuuZFvsUfMhtLk2elc/KQbCPF/7Y37jemQ6HMApcGpzhB+d0JKkLOpam1WKOXBw6QyzL\n",
       "o+D2dI31MY9weEG6UIiX3Owm34KP7pMnIl74dYPguRMa+DosSmoZ/h+CYasTbFlzLwV07OA1NBhd\n",
       "LxJjOo7u3EO+UJc0F8yXcgArunDm+wb5g/Tbx1dyVA3H/YumXwdoJd7xgcy7xlXPD2qj4h8LHYRm\n",
       "pV/qU22U0AYytWuo3zHPlhiclszts3QeEBhueabCEds4+qXEg8H7lCeLA52d1/kAujMjt+lk6jEM\n",
       "hojQQ4X5QehKbUlPQqnX03gf2axB43qv+vu38NCKbK4Y7ca487c/LC83iaDrz/V9rQVZ2BnveXFu\n",
       "3Wn4cNK7oT1/YieAUUkyB8yhvcVwQXQ7f0eRLYDPy45PYEoOn11Oo9AsTauzcfl2Uh+pNUsoA7tg\n",
       "S8Iyl1nc9cS+BHdxpr12FQvaiSa2iR2m/Ez+3XMGzIzW/ahLg6t67f5QKDpwM85RBnu9Pv1L1lQ8\n",
       "8DT12KAxkNRIGHlMXA3vxeSbcXeonNfBZxXPtX1fkyUt/meiTIzUxP6DNQL82GL3IOf7Fhr7WHFB\n",
       "1hwEHjIRk7cyVi2q3uUalMAiY346AMAwDCLciT97aa732ffDvrWtzltFWOILEwt42a0j2qvmb3CZ\n",
       "QM+mGW3fnbdwz8iXptr/tLUv19Xn56QAA+1REoeslPXsiw+Jf5sPugPsHDyMiV+TwgxNKwvUeWLU\n",
       "Ga8vSdWwdUuZncAa7nDitu8llt7kzkCXc8VFnABj1dP9ttu6qnUKQCj2gZM1/JpZp9DOifG9ylaL\n",
       "HXoiZy0/yLnCL60ZYLYSkQ8+rIHxzga0xvMMhCzXwKhGgyENTnMvTSfPKWI6f3AgD9EDGCMg2g1z\n",
       "zQAiG8qFbUuc2hvxjK+5N0SqvfmXY43YA5nKgoojHihX8NVjjGaKeowVZrLXryrfNJ6sMqZuCRH6\n",
       "SqhSQHGlPpF7Ij5/5d0btzB6884Wfp/54XNhvPquM0lI1fl+Jg0+kDQlju8tbe9eIja1KjDKkrOS\n",
       "wG4YDcTmkWbZUrhQOFcZGS8Yt0CPuY7tlzaIX68jZb/QzkSAW/pgOnYXB0asZMpmg+F7Rfe3Qhij\n",
       "mZoHWFrrqkMceRK0h+bChQASerTAyXTvJF6pWVuccIvKiwQLQIxL0Pj01LLaYuJZorWVuqIIXxCL\n",
       "Lzwg94a/c3537O7nmL2/sF5vEo5uH8mEdDz++wmOgeMI4VjNmgJ6rOibVwK4OVrKmJAwwuP++sJa\n",
       "T8m2TyJdk3Mmv34hZXcM00g7ICdB6xpbX/NVLN1SmMgdZ7m6G0Rlg9b7eP1iVoeHGvObEC6Iw66l\n",
       "24gUD8jKIpz9CRsoRAYa51/Te5eg1IvpN165/eJtofVmdXFn89W/IjHPAv60VWF0Z3kCpTQ6R5bs\n",
       "abOEuGBYm2UhAnN/3CTmGAhNNnQfXZAwAvXpYecL0nwBTv7y5iaeyBUCtzwKC6WjBaPm/5owz7oi\n",
       "VcUVTGkdrfuafJayB8My3ih6gf0n8kog4I0SO3zQlOmDKpgCjlIMNrX8p6oAb8ptaiZGiQPe1kUX\n",
       "i7dqW6rRKP4eQne8D5Z6NTBPDT5nexb4D/tx7znUNiNbQtaFsBwrZxyufIlNefPsQdGYSLSc/khi\n",
       "CfptGLdPivlOkbntJmQcdxcV4W1Fk5mpMF4NayNA41/G6Ynt+jzZUXYt9ZuWvW0/XkLFZ8MbSmug\n",
       "cg2H8+e/GC1Xt57tuECdeM38mlgQen6s/Ywo54drTIY91n+Hsq6TjsWxzl/kqbKsl+AwW0I0vi5P\n",
       "2EimK0L9wLtnhQYKiK0MQLP93KcM+qCEeL9w9DNaZ4nhMLMWJIjmvGIWJSfDSxFKFAP1grW+kaHm\n",
       "WlmrKBXZP8aGt2/F133U+1sA/OIfmK/WbqK79KQkJkzSO8PO1oG5roTA4xj9iIXtr1QukqG8knfz\n",
       "nDCeE8JduUAk7eHjRH9v+raNiW9TTA+xuDi82+kB0ORLUWTSBC8+t+RDNugsrGe4gic4ALBxU8CE\n",
       "cyEgLW3S1EHxRwSfjZt/7MJx6Inoc59NB4oFD697qRCsQzw3XTQqElvE3sY7m/WbT269UbWmpXM2\n",
       "toonckn02fCzEgEaXqv3nJqzJKO/TCnJCRnXgZNWVq1k5Ib+PkgPlRuvpzFoQiQfDb1N2iXe9c5k\n",
       "w4V+WzEP5tdd32ZzsNqPcvNyWfZurXmbYszUKg6EqqHezb+ij4hsXn7lDw6GJbM5iBg1//hP7yen\n",
       "8Filjp037f4ThPhrkYsc+ywLfo1a1otdkg0rtwoNM0+b7bHumZfxGzEdR8OpkubAueCklqG19hzq\n",
       "T9Vsm7LYAJbFv/MlbjxZ3gMj/lN94ogV1UROsXbryBCB5GgTxpt/yjEMYOPQ4pQsseVxBCgJAu9x\n",
       "sEikIyOnW8WK//ndkl8S9VQS7e1oYKMWiywj8DumXwUoCC7Oc06xCNtZc0ET9S7B8udfas9i9LLs\n",
       "Lhs9Jb9sGZePoGfWdo+02rgrsRfA1jmlyRU/GXNJ2mBWT0JVLHlRdnVot/7BbASaKbk01FK4Ey6R\n",
       "wa0NrPTnsMf7w0tv7vLZO9RDflX59xOUoFyP3+N0BypMbyuk0vQdwH9GXN+28DbwHDtvvzYgIjtS\n",
       "AFOaNIEodQiCsC69F0fpXzw+JgAiAqSqW1iEBxXrnbeJu2dm845ZZ3UQidz27hyBYauQ3fwZ4aZW\n",
       "KUW1B3Lvs/5ZsxQIX3bh3sLPZMoIEcX61ufCgz/hOKFSYkwRk/OpssY5WP4aH4lDRy3ONz4K9NXA\n",
       "lC7KykafFMZnaKpKjV1F+p6DuKf58IkDYoNjzqspcDGjfMOqqgFUdXOUw39fE+zfbxZbUEMny7dj\n",
       "XAm8SSGkKsM2nTxTRXaxrkbkqE7/OEcLQcow1nOAODdCIyZtO4skmfntx1oKrfqcbBF+Qu4RL1J9\n",
       "ctihyZTQuRHQ+DyIgtUX08XEANECrhU2rZ1nXkGlOM30m+j68Cr4R+2XKgkS7OpJYuqagRPc7MK9\n",
       "44UPil+02/SIdhWF1DJ0eVhDJKphQmhUlFwkfRtO0PD582o7xhjEXC4IVqzpqh3pBRfLv0HbILFH\n",
       "f8rD7GEAtSJ7QpuyeoeXhXj5LUZ99nwErAX4i7Zbxt5UJsPY+leTG8mDIKwHUmptyTMWJNf1BL+Z\n",
       "g/cZumj2rLc2LjUU4owLu+0g4MnSrqdmllYr4KX3BSUKBUCCxwS9USirm1Po7Yb42HO/K7vGdCxY\n",
       "euixWha07qsT5WJuhwxK9PR1cC2mYmFUytYITeFqYYjlifV8P2DlPSz/+0JPoY/Oy1XwATFV6rH5\n",
       "2tXKBoXo/emMUU1NmMlhAsAiLoL2FQ7CWtflR5c8amNds+Qx0N3nKJPmu9llTH1u7ArGwvzyEIHa\n",
       "KF992H6TdeTwRxHYDjOsd87i+Sp8BtJ3kbJ/ZcViAbp8q+gvdVMSYR29c9wirJ41uouIAjRwDOU+\n",
       "8HIjMozSZv2JY82+1Zbv1r+mH//kNErRbxpNtKX3BhFutEdn5LCd6voeeQ1POkuupjhgYaiBRI/Y\n",
       "0vn0vrtnG8WhhT2bCnXHJXZX3WLFoETKWWD7JD5myyFMVO76SzmlSaAoRF5RDwLcR24VjqFHgT8D\n",
       "mBMbU09ywWJqr6m2tZRYDiUsFvuhln/waDrGsOj2a+7fUEvr+4RA7jLPFSYgvMeguJhLYTSYWwPY\n",
       "CDJxj7IqhNdcSR7L4h5E6tMgEhdYbg69poGNnSCGv6fGjLWMoVMymc4pggMzjvogIecKYOkR1BFy\n",
       "vYVF4RG8I/j3YTIduYuvq56hucU0OmWgwP6txUIC+TnvqHCQm81cmQOhBS9auyj1BlNTAgKNRpTx\n",
       "qMXUXrWBx6j0C2UuQQQSGO7UQ7k3Sy+wu7d/2CbYQ+/ZouUnVN8FkL02hB/2u6nRLnfufOBXq65O\n",
       "y4bj73TmecOUTLlUkPStUHxwvCtKJXyEgsSzLa1fAEEYnNQqDHwuuGxAghH1nXcRGDmt5B427yvj\n",
       "Hv3zY6FsKPyd7zmHW32iXzpcDGiwKkwnupaGZJULPdkW/wlihQsf6cA/SKSMz9VAJ3FJaBEndJc8\n",
       "5sh9tsS6t/kWmMiioed76rSHRziQwKyQJiBV57B0nUFbEhvU3ZMRqwQUXf32KqOaeqFnfbS1rF6B\n",
       "zYg2l/OJi0ivZ4lUvnNyPJr420gbOA75FsA8Rj6kRDX5UiAgbbnE/a68hTPPGXXx3Pm6J/HawVyc\n",
       "nSHpSVbyTgT3fgwsATDKO8FX81E5vWln+mpXwMOXTWLHjbirrd/x1CsSlAJE5azhSqIvynL3w8aI\n",
       "KCRb08uudgPbxdpdcUV0lEyb3N/nuzcaI6EXxmHVG7stn7DGDc0gvjVUlpqm2tRckFg5euaVYYtn\n",
       "7DoaPkeVDogn1hwe+XXWNkxE98UxxD5juxky+En0F1G2oKyn63jzDVW2owFD5Pd+xGWwKIL39qJg\n",
       "9vv2EH3bO63Eff7Wz79cloJRoIML4nATeojIvkVVWVrwG8bw4sbwPy8YrIF8Sp3CPI/USBIi763B\n",
       "qwMMTiZQdcJkMLALwReJOOPgdYHTPoxCjYb+ORryELcBOEHgFF68hyklCnPAesQ0DseXGmKaZhSl\n",
       "hFXPwcIrLFlSnq4PSQKY3vVqywO0ZbiUtPXU/Sb3rgSzvBcjd9rh4D5PDZimLgFqEuOENdo9aXZq\n",
       "krj2+E2ye+Thn+2yIFsjeF9JFrxMptKsC2PizM0xOp/kgquQCyYS7YoFFl6tnJsMLp4IUILIWLo4\n",
       "1cSPlvc1jusmAvpeSoytjdMQAhKUbGZhPFZDY/u2aqkB5N0OT3UwQSDLflRnBFIbY9w3M7j2703y\n",
       "baO7/V5z1aTzVNYfXoxH/KYDgWQX38amPtRahBCbfn/0wE3a37cMmKtRAuuyyhNHGWH50nuF+txU\n",
       "IVgkBL+/Mzqaoymq5cU1t2Scxqgc1ps1yW/H3We9xMdOwV1VPt+y4C/zToYbXQ0+ltLdt+5Jo2l7\n",
       "/6wRhYwln4mQbd9PN3jzTMBGF8FFQEMHsKSBI5j01nkK/BdtKEK918W7XsbnO33Q4qFYpA0y+DaO\n",
       "Eu7oEQBgjQQC1eKO+uUn+eonmItuepHOqUB9H0+gQBZ2i4dELMnDpBF5rt0kK4hVEgJGLPE02pIH\n",
       "0CFcGsi8MdNZFWpbf75BTyop46kBpALrtmxb/RkYOjRbKiPzGrN2CowNU3Vl4j2FTS5nf3GbwUJQ\n",
       "jDYz2oROrB0wk4LuGcWCI+AVvltG+vsyoUiCcUoFNiVtVFuf9B7Dn50dXxAkeAUOTjp+W4WB1Hfh\n",
       "57nPlFQh/jciH/r429HUgIIiniaeio4r3ecEzrx8NsDKWStDLhetvoqG9dOFVQqMOkumKQ/ogg+9\n",
       "YQ84k31g2Z1sCy3du0Vu7RK1y2/UTE1w6tafkOq5uosFcis7cYaxM6NY/KAcnaxSFXhWgTBfnzr2\n",
       "DgGctMigMNZ4lkhKSjaMcSfbnckRUzqJWabS0VPYujdlX9k2XMC2EEhWPsUsVZztfbyDXFKQ+XEw\n",
       "8fNQGp9c40yex9Jg1l0d7yTbGTgoJK6IapLuFDwLoogFQLMjNz6YhqXRGJlpromSYhDfhAlAELpw\n",
       "UYGcWq3u9EQd2GIwoh6fivxX11EcR/hmXCM9F5tVp2/l5vTOoxnNcd1GVK+U6dJ3aHqCIHVgRHWj\n",
       "y/0wqhASpon/bOvjbbemxrD0O8jZLDZGl3oJdt0giAQdyXBvopVpn8dCl7H3sO57NsBMN7WXzTLE\n",
       "LfJy20ZDb0Cnc9kRPrcFl3O7RYTLElhcid9OAqFWheHCDv5doo3zOM8iHRbLBuTZbhBpCz75BZWU\n",
       "0+cR0PVxb7ca6XLNvIywM9DDzf+BZbGiBs2e2cXcph1phoIG/JVQkEkM8uBPDYpuQiVRVvmCX6ld\n",
       "ohWocHCUDf/2i+dncM9Q+Ya1X7QzaMwBlLKOISmLlr4uVTMkvEfg2yP4r5uTmFmzt95X/M5NuuaX\n",
       "vsGJ57Np/ccDXKMsNX6cBGSCS02l2MaAH1a9ngayB49vC3fXIzpEuzGCJG1xyiIIxLdQ5SKgkvU/\n",
       "ii6ywZIZz9JdCzt+F9MnZpknSvMzfFHL2CJCpRvxIFo6rySpLN7DGBKS5PNaieC4HtlxQluvNkGz\n",
       "2PAR7DjnB4UAvC2MR1Mqe5Qq29j09Y5T6g5nlhlP7wZgdFnqrRnG3GWGaRTh8ibiKUenRrNLviX8\n",
       "Mddr3isVmYhzM1LqmiNb+ZR/93BfnEWIqBO6HLLqf0Ak4u+Zb+O53+WGJtGB76pr9GKQbWTJSHGY\n",
       "gw9JqFQoKLHBB/x23445rIJq/gqLWauyJ1M79HgVeJB/hb0i5BIQbhdJLS4j5U+rlVTxYo9UBf+F\n",
       "0+6CYQh1v1pJ/qcJjrxVZFB92REQ6HMJlfqlPMNQ6lDjpj3gjlkugFBggHVIFR0uPNpEv08AeiTM\n",
       "Fgkd92IOr4vk6569oSQb2B1ppFvyf0C/F8LN0O1NLNstffdHkofT9D6uZJLyUVCkWXamb3d7NeVP\n",
       "kzTz/uSGiaprqhvuyRChIm49OOiZQxxMc6xvnNN1yd99BQN7IYCkOa5PsfQz8esMxRAdy/f36xYM\n",
       "MXtBQ/aC86HOXqpbD8JCxUz7cJW2v1UQgt45Qny9XdOGwtWAI4Rt/f+KZA0ZC9gqvLO7sA+YSkFE\n",
       "/Xgm0XNa2J04oCLbWvSUu8wqeYHxKCHelnxpwSGjUIoquujyG+n4hdn1xBzsMzSnWl6NoabhtYjk\n",
       "rsQYhRXsg8nUQTnIXeZ1hpKpq1aljTrms8/P0QQ0h9FDsgcpYltHuW5KW1PaoV/dko+nvbylo2iR\n",
       "FSsP/rnve1op01iaLZTRHjMW28pUJdGKEMHhQxFSTAiafPFW/yqCui6qTfWsBIamwcqwzxxJHFV7\n",
       "2E/odduogKd/3bHHHsmuJYmsSQj/0Cb3yRrZZNseQoZRE7OnmjcCu/DdbE60Ty1utNhEOsUoiApH\n",
       "J/Pqu0Vq2q2bxHHtCfz2otaUfqAxVZoholRoW7s4dT5yTPsRAo2AY4SU3JIWRC2uTZPvTDRCe8/J\n",
       "Z3rlKhc0e/e7GLXFoYWymIfo5E3r/+uVSTa5+NDDe3mKupafiKRbEWzsZnObbc/P/PZtGTg4vb1K\n",
       "i2uxL5RyYVcf2txvkTsRr9frphLkV5zgpCNfxU+SbS2+JV1VqiNXLp7KwVUzpYrCjjSqMd2Yk61Z\n",
       "fhfgyy9wx/dQ0fyVP+NWBGKaGzhM4vu+Cu6IxiBB3EXzzL5FIQe3EBj8NST4GPGlMPIlXmRHm2jR\n",
       "qwja+casXQ/pMhCOo4WKi4YTele+OU+PqlDkhA4JGLmGNi2crINoWAqch8xslkMez80VoG/iOh6t\n",
       "SbK40BpE6aESMLi6wrLkt2YtOy237XSfDfinrByBMjxgiUAqCczU+JhTnFmyPGQtRhJuVWIevEV3\n",
       "qxWAqkKimPzCLFRTBOZlaoiUbOP1z86Ee82/kRM9uxG5qB+RebnDThkPMJagDro6XHL5UZsT6OnV\n",
       "ZWGPdTyckh+Bgdribp2+Tds64TPGStuy+8fF6ieswjTakmnUSFcOo26fHa2hU9GyAlM0YwohWiPD\n",
       "23/s2SyRkYx3utTNgUfpeHhKjnQZov/TQpgjO8wPuRifIXbS9CURYhJTcaFI+iv4r56YN0r8Z75Q\n",
       "2cWaQohOQL51gAa9Yu9RPo4jblra55/azphr9Fqc1qoFVbVZjpS4322wYlOynr9b8qynu6cYtw7O\n",
       "yihHdlaelOpwdomjITkO+V+4M05abHLugcKf2ups/kaGesiyfO8JJMUBNezBwefOrF/yIxHNlig+\n",
       "ozbGk3ci8DfswNlU1rwYHYHkOXzXINvGqh/ClXc8jbHRDoGdhWvOMvH0OffJjMcxZL1xr0HREu8P\n",
       "5vGG4qD6RakNvDF92C5EVTp0c1p4Da/4SREZPbKvCqEMCkZSZUyx/av5qPGzSAaAb/p7RHRxR59x\n",
       "lEK8GtNsMXExHHIyIHnfAq1gNDwjbYIn25D0EVzjjwYGt19FgQrlpPJNOix1jOnfjUsxF3tvKcLg\n",
       "PmwhxJbDqZWpxrDsVCLxPXiZ5fmXC8e3hbxVjsAkdT1F48lqEUBbcafXJn6jadoL7o7hpeT3QsES\n",
       "XtC8y0tt/9L/o2wSQ3dDJHV92ATja5VmSp3di9L8/yUjBjlzdagzhzigWn0Rt2IstG7pyR5llqT2\n",
       "ukq/R0vStTk+xOmPwC88PdmAvpM32UFOwd4+tDpbwpp0DsZfYgJvdBBuE15/5DxxpLsZtOkk+GD/\n",
       "gOp2DSr+d5p8dwHHXny7OPZMwsgbqf0fYFm7AmhrRsClWhheRwxkVWeLcCf214umBU6f/JJcN/hQ\n",
       "YM2pIW+Hiz5oW5TrOdgeOzvMigq25I0DZhknPa6x/IfIz7FofyM37KO/PmVWSDAzC+IlFcFwiiD7\n",
       "ahXWb/JTa0tx1YMgDxv+tUHs//qON1Dmykka6mEXm3Jl1wbodGAd2cQSUpV1Xvuo2JtMHoAQXND2\n",
       "ALvgsD2AeA3dnNWG+i2ZtIXKixLOXnPeX004y5lcAO4+4+nK/7lccSf9XAoavdvOc05lXVL3zwkz\n",
       "CLolJQeI946DW8WtP9DgRSWeIuZNCLbvk/OHa/9lyGFA8HlgbFAvcz1gg89rCbwu6bcu3EfQcNGP\n",
       "kTEhdUsgKK+OS5VwJTrl4uv5yrCz2oS2CPb6DsoObYV9KyaSu4cpP0mRgITbVnf2BDa6FVnzoS0C\n",
       "tpY99duX0ipTjBAPVzAqdS+WlA+p5WvHab0VzQX270MyYv8CSHK+cm1J1isyL5LcUnLi30LRbv6+\n",
       "yyvn7NvmBkPwRd127yjcdLuJvI3xJ45gJnPoPCU3u9GkB1FBVFLt1ckSyYprza+VBkEZ1rtENV4B\n",
       "CZg9YW1ee25Akc1oH3YCuaLXVwLXbbWxhzEvIBd2+tH1KPr2pETFOpLaMGaRnm5oWw7METksKwMh\n",
       "Xlppn8se3ShOeQzF6QUamdVHFh8t9HfmApdyrkdNAaUe/N/BvcizqdRRSmPUMzAqSmPgQ3e/NUnH\n",
       "AEBDeo5etHKuQVpbDI/0odk+9rgG5NPN7fehPGDQIoWw+PS2K+G2CTr0FB3UA+/I4ydQawYboajr\n",
       "nsOpNDII8NcEmA26e+Osys5+YuxlW4lcuOcV+oy9tan8Z4tRKRBgBAmbhLy03Nn7GvKnj8Ooyoz1\n",
       "6kNqDHNMTcOFSOnO5Z3mIR1l4LxvjSFkreJDXep3QYlN5Dde1Eo2ZjU6roWWwiqtdyNvqM527AvA\n",
       "8JRigT5t0EITrCu9Rig9thwzeCw94nd1LPVNTqnEGCSenxSIJs40PSWctA/Vu0BTak4rGiTMfZop\n",
       "DvQwOgIiI73nHoGErn/97uvks8w1m0ToD57ABbzF+ljPUfF5ln5AeXzxTUg/i3AYCNXFQgYBY+Wy\n",
       "dxgAj7DPcO7YysH18Domc8I7Kl8u605e9isaJkquYV9L7A3VSgRtvaKey8dYv+H9Jz9dIS/BQ4FC\n",
       "lFDBZOBqtk7oy9FHIYrOFf2qu+qxXWD9K0LRx85VIlMuWOvLJ6fAYm8sAT8C4H0dlvPjPwnaCjHm\n",
       "rtH4mpm9UoojTi+juEaP0hk08ICxpSR+9g4SJ6OK27pYmJizhhUoagqoNfeoWli+9+eDVvPo/WDK\n",
       "VM62YyGfJaPcOkPBD3fAKMlA3bQKYwNjcwAYgx9KwyW7amGPkcpJ02wq3lXY3DkSPzj/B+tqY31g\n",
       "TubnFcRySIUe6PEjomlBBq++RTHwd/+I1Vv/8kSZ7TNkj9gtb9qxmrDoJZYn4e9sPUUQYKQPG4dz\n",
       "VaFv052eSafzJws9PwtTo06TGzb3X5ZhQ/babPab+z3Hm40gCytYME4qZH2FiScfyUNqVgXhz0sF\n",
       "ZOVplMYWLPX/+6voVQeG6ZKaW6yrAaEIxDACQqeue/ztUdiYlDtz//uahuiKOccGYYkmhHJ1fNVM\n",
       "s07XmUoAGsuuY8nJlIgjQ2rUF6nVZE/II/8bbypbbdrg5lVrNiiPZYQO5i05yGDqZBRjNSZwtk7O\n",
       "qP+5EO5K1zKuGgp7Dj2jDn/3rVQIotdbLSwBO5bB+49N+KISjn3NvtktW6xn4LdhFZXam17SU0Az\n",
       "Vyh+eKJOohNQ4akVyqzLgfNZ4TT+l4p7ocqDsF+iJqIY3bjB9wGTf5S3BxtvGVYEFMBU1CV0tY7n\n",
       "MlTVW5WxsW0yj3lGyc9+Ga9wplKrAKSDox8ZkRQfK0xITXYZtTgUc0Fzkdptbce+0icaZruZNyI6\n",
       "L7GZSJD5t8ZDxWir4i6GNewFVyCjeUlerHfskjmkUwQwIjRmBWC/Ly74oQoE8f2yRUSQf23S2QCB\n",
       "PSr3Op/uWqzFjaFiC7k6EozslP8v9rp5zaDkJzr2YhisHBSMSO446o1KEwziMToiBnEeFwXRc5sF\n",
       "hVi98ez/dwYxqReJH/sLRObJbMwsh2ajrPPEvDQcMEmbBdBX9Lxn7/0REcEPCJ5JjkI7FcUQ8uXi\n",
       "A7waB82qDsgdkggTT01yB9FoGomO2lzOLesvuuDPmFsXvzKcWcozH8jQTbN9qpu9p2H6HI4ZjQni\n",
       "H6GHIhS8DWVZ+blj7Cht63rC65Af3VTsZbOx7An1eyxIrkrPdoN3lytYpudkX5lCFjkZNFbt16Y7\n",
       "qH1AeN3GRC+zAMbSxKlOQKUe4jkLRekqWT26aKJFuPPKmTgNecvdQwA7pjlprDylz8aBDaXAhJC4\n",
       "ZeG1jQI6F605/0N9yI7ua35wcNnQy/ZdKE6S5mF1ai2yCdk4JdOYp7XR3ty/IfutafTG4Mm6d/Lr\n",
       "me5fWzoEv2XuXqvvAeN1yEjTPDdGLjpMVLRPArVdZq5U9qw7XqGl2/JwCoKwWhLY+3gFw7v/zaaI\n",
       "vSZwzdUlPgJv+N+xykqZMN97MFju7N9KgeDDVLTfsQ4OJ5RFqqDSWhySuqe6zQfK/m28C06mtWiv\n",
       "W3M5TMOTLDctZ6DoRJixlM+SCEVFm9eVlWtR35JCGO1cIOdSNgTfl57PMI9yXjdf8w4/3TeAxbPH\n",
       "SuzDqWrWX+Gd62wUqRU5sKeTMiW2KmbaiEGwk0/n4ELzxHsdbMO7V+pMABW/M8fAf772uXMoeDao\n",
       "TJHVun+ApF1+N1Z9cJMziu/KABPO4gHf15GYWg8SnmmayioqN53n3lRRNrXo6iPQ0CeLOKpZrjqk\n",
       "SGIkUrNPQKZ3+4COGZeLqoNj8GLxgBeG5OCuCTz2vSyvAycgYX94UT0WfX6qcdsp2QIE+wU6qB9o\n",
       "Uh2S2MQo3Ej1E/VEWamQhTDaKBN91r0Ybkc64CaqojLPmvV3YIF4OpMHBGte8/4NhALkf7nd/WvZ\n",
       "NBBe58KADJ10lQLJfZ75OTwCsveXvPzIUNct4R/gewGBJ0cUGJHokYDuEk0IGVP5Hr3FE+VTXZiu\n",
       "YxCX/ZfYLgANsqfY/CdR8fx4M4rE9Ghx8fr9HFQf//6e0QrOEyQ8aKxID5m8In4tF8Rsx8qDa0JS\n",
       "HvRSonAvG7kprxnwAcd8eF5uihW567J7DHOhQUPA9EJIJ8NwBG7kYUxOg3AwGf9u8yaTC8sox/Ed\n",
       "09oxUbwinoKy0T+Ymm8ZBviiwNEYs+mhwq6457g8/3x1T8K8ksinCb81JAtiOR0rVPSWN7gh3jqc\n",
       "sfa4grCavvBOaDR8kFROSwKAVvPB2U+SR5r5GF8HcghzXdof40m5xSjM45wMVuONh9IUH3MZKQ+2\n",
       "z+SXEMWBj8qFuaxXV8tVKew/lDU5YQI4WBct4HpZSti8KWY7PKeMCe0wAhSgNAj/TYsBTBx94T9d\n",
       "MeGx5LzQmgQ4zt39xsVypt9W9qZJsvasILUtiWQK3w6IBdAI8/iz0yYQOjg+qIWVoBdsMXx3t6N6\n",
       "2G//i0ssQuEFEPIx3ZIKSGPOimFrGT+BraqbD7t/4SaguAT3xIyWxjX/1Jkh+R1x0e07i2LG41FD\n",
       "yTzf/phkbld2GrFpPQdn3NGeoep/wYwHXvlBDh3AG5p8jnFY3BGPksPAZO5hqKq4OkRuBMVHQSZw\n",
       "OZy1W2LQeRTuYAkW9bPLIpwiopt+pUOoXV3aEFo99M/j8eTSwynu2UxYcV2YrxNPfb1+KTkBEKz7\n",
       "EetWd7go48x5G1FFY8h69cKsA3laH8bYkiLf7TjcbMLg94Ertsp66CjqJnkhC+hkck29W3iIXnp0\n",
       "hMPn/bRVAn70e103yROTOef7OEK/WumEbEu1cHX8cB0nS/0x2YbyoueyV/0nj/sDBPKsesvWu+IU\n",
       "Et2OeH+Et0hP+wiYm4wPzMkRHuW/sr9gepUC471K4U5u+7+iucbk5wfhuZX7VPbVjkaem6mqXYNg\n",
       "uQOUq//YAt6MR+j+ij7uybR1FeiT3A47iBakMYcUY70EgTVAJ3tfhjQn/82R9/p7f1bLCZkC/CUi\n",
       "4//9V2DhGdAKpJz51TDHjarqZ5//5rHtTeCmie72Vbz+FXZQi9l4e6a8O226cT9LTCs7bVeQxLOW\n",
       "RR/Uw4pKchYhHu5Or6zBUAzsuIGyxKAq8iDGjUazkmVEuS07ZzroNSafvTAYkl4Fb+3H6iKYcRKz\n",
       "TCjch8UewwnAp5+D6jrnNNvhY5s3/ZEctAhrdGuKx7f/K5ol//PgKQPK/1vHSJbqQyek99w4AZ57\n",
       "UvL81igwsCNPGVAMTYCWYv6PVr8NbQQLy/Qu0AXygGjaHWAJmPuwpAvftUC3JZpBV/w1OQvOaHOF\n",
       "NavD/F/dfV8vhTwzkHqlGtmEkcnMZVXqabSLD6Go+ZZwiP4479mTRavC1J0O7RWfIh6pDhORKSrg\n",
       "aCSDqEki7xLJ+xBcLhndwGfzSCvhihnd+WYyf/UFDdnAUhbw11Lsm6RGrciuMZ5X2a7UdSy9Zy8q\n",
       "KP8KJ1iRPVaNIzH7A4xHabXozfj1f6Bvozdx7sjMmz7SbUMX6FWPBakrbhV2c6VAYkHstzam8pSi\n",
       "VoQ64W6h/8PhNdUZlmEqNxeeIt7COGqgkLCdF/Ud5ajQHa4lXPIveRciqtdWyfKV1Hri7PhqHDvV\n",
       "7ztkDSSxto1xmlZ8SVqFQremyx3oYFqqCPZffd0HjybgQfP3uI37RFgIcVe5oB2hb8Q9u2kiTfZ6\n",
       "BjSxBsCzjX/D+mRT9iD9j/j74NrLkDcaNUCrK8AAarVL90WFj5pjcg9sKBAsWQbz3HH9+ssX/3f1\n",
       "UUz4QN/lojAeKv3+NNMcVomhkOebold7JvuXQBUMgWyHmSc0Yg1ZPN7lwxOexWNaQeZxudFWDJjq\n",
       "cpJMGR8lVMNLV4IT0tr+ZQBv980SrPQ9soDf2vUwB47NgCBvpH5Elhjskk3Vs28JW8qWsBQWPWiC\n",
       "qbTjNQKzJgCUs3xhHJJ4sYPoeMqYpOPyVX1Wv/+tfT9aYd9Kn2VaXnLp+3JRGJ6N3+8bKtLodMVj\n",
       "t1MAl/C9tscMO073kE4UnEeI1aX04nBV6DWiu2hY2tYwabQUoKcCpK76lyTWc6Dxyw/2eoAfiXcC\n",
       "gS7Jui/kiAlHqflyNfDkn24qkffszR+rYsegvp5RkPJUFLDvU7VmKzMh4vaYXw32Azo95DjAc3Ki\n",
       "W3TNpPVzyoXPxIRaPXd4VQf8d8ecwxjxXOnqSI/A24H8hcH7J9n5OMWgKR+LjJtF78nw4ly9xe5p\n",
       "h9Y1lO9B11ypWMeiTou7S1TV9MiopP20F6cR/ek4jZkyUPbapErwR6x+LrLEZMkXEePPwpGPSYhr\n",
       "ch2PIa9x9c8nwuPBo10wehAKz7Fz+SOROFZ0I+MvGy+lTPZ54F4yMxlFqZ/MVwt33dBc6n9/V6jv\n",
       "7tpY5BmMNDsuIhxol97ssB70VJYd7vr8RKk0L4fmJR19Bz+S1MtQ1KIvYteIuA7oQRwu88bD92re\n",
       "xMO15sQ0ZceOI3b6VRqQj/4r9f2dUNB4iO+wQVe4wz8jAGyyBlMC46SDpHh0GUzBxccfWS1WJ8wi\n",
       "nBeUP2Y3wwfgnWm7eEyU9ZJtrpZ5rsORtF0sQoSsMlddXdLN9V3RdySENcSG5gmRydQR5HMD5VDL\n",
       "bVUS2xt8+BMtUum7QPBgZtZ4n//0th2Y5/8BHLQn31Z5X2AZ/in+/3NWX/W/+SgtIHYIgZzJdqOP\n",
       "JAYctCJz6bAaZhV0vG9tqA9+xAfdZ8E08QHe9w3dxLjTND28Q2dFmXGrMd0NVGf0ZcBFQRSq6Mq+\n",
       "oDntSXsXWMSpo8URJEvGQEBNr71UOUw17f9JaItO+VqxPIdCDqqvZ596JLI9pzXu66mxyADnza1y\n",
       "LHxsJxb4T4U29vOd/9+YzNw4xqrZtN/33tCJBZTlt71yDB2A25QZ3wVEon867CQMkAcBsWUtIfDu\n",
       "u4DeBqTvQg50q0xz0FAvidHNcj7U/HYeqFekxZGIz9cnvGqfnd56SV4v3LgCzlcldP4UaI/H74Vu\n",
       "Umarm/Jyi47e4x6WzkDFOmzbPyQ1ORgb3z635L0+R5ShBfi8QbXjA6BCFA33B+ZPdWmHG6QRMcKz\n",
       "UiNW2NL033vA0JNndXJEP7Z6MxSuFYRwEYQWV2ZLJWu8eNXCIc9CqHldnLSL7sqA3ucLADK+fJMf\n",
       "ZEbENREynL4tW3U+9j9a2iULb9NbFhQLtRAVFKv/sw86ABq1YQBCv+M8LkvFCmIsXv+MDxN9QRfB\n",
       "vmIS7jcqIzxIcLF5Js5duFS2yKoD5Vpg7G0TMu2D+BAHSmTXdqt3Als5Z2ud/cr2zcP1GfE4euWZ\n",
       "QDGKz5tg3vwH4eX0/yAaDUmtpudQqoveWqvzEHVQ9LeI3bDMrKKl2gOfdjH7/2aBpJ4xKwXaaspE\n",
       "h+GoQGMLKCfF2WePk/j7txxuy5z6ZBsNKZpW6TwCNeNivdcWhglgxMbZYtGFGVzlPT2f9aQqbmb1\n",
       "f6YYEikI2290PxElp1bBqBMdoJ2+Kk7dipajakyFUMQhTRwLVlQSY4dm1uQThQOW1xQSXprB/mzP\n",
       "Kq0N5vTZQMsUiowjQnycBObVpd11kTyjrrXr+L65DbqV54pRzSqQL6uRqQe43uRQvDdzz5YZ0L9t\n",
       "dkmVh1OpBmisRNcjxBVYacyOx60Egs35cvhDvRKoPjdAMLZlU72HtUXnkFK8RB8RtIlQClJNqVpz\n",
       "k4q+jmRqhW4B1/Sbiz2MrZcIY4t+CCuEtLPFPFtYQvjBEpKG6ds7hfMUkO7Ee3J/exkI1LCpGyks\n",
       "K0Qp/XheKN8TpewA0Bc3h2/uSgkRvTygsDMwPsNzgcpjtaWCzOpeiyVOBD2UUoLF+/95libOVNMe\n",
       "HjQxd/bwpZOoxY2E/LTc4PQCoc2063Non0i+iYo2tAooG0dVdFvQThmITlznvGF9GKbK71cxC8Gl\n",
       "jymYHdmjIlJVjwfKca4aT87aP+1/ElSu22yGCUYYpZZKux2UqItItRQi0HbjliYozan2vtVKHEh9\n",
       "YSuiPNixDT5Gf453qJedwWQhc+PzNGs8v2NuUKhhdBgLid5VfKGs7+7LIEMnrAf/2dQ8mqrWjjCU\n",
       "M2+4g0EoV+iKcKsaO3gpaH9uyJxAves+bmDy8JBmyuG0bSiDi+tWjHIAwWNtxEywCY5gpvyp4WMJ\n",
       "YU9zX++LaFu4EYAJ7VSLEGyrj1iA1j2UCFTbw8PKn9zd/2BM7fp4FV32rAv48JCs5CoxK6eTECKx\n",
       "I+nnz51m5ZcQrWu2Al1abO3OSeWVe8ngtTVBFkJexifOFz24XxQFPRC7v/hXdrwXWExN1TRZVgnq\n",
       "yTn3ncHHnS+azE4W8/8+O/TNbSuwiHkAHi5Qb4v1USnj7QKhvs0Rpl9bqTvH8FT3ZTY3e//8i4mW\n",
       "fLwTjWJHihesFNIv0zwRmeKmDfCYw/wpIddPowPrxzbBAXfuqOVdSBbj0C/XykpCR43WnEJtydUl\n",
       "CjNKiv/3Gh51dPg2u15tDmW98POjF5Ocx8hM/S6B8tuu1z0yErzShzvGrPt7bgrmn1OapH0WuP7l\n",
       "S0RB4h122D0ASuwGK4kFYG7riDa3jKCvG2P9n9hSaeh3uSiZJYNtiqre/nJ438FzxD9KvNCydCJv\n",
       "jVXzmdgH/ki+CbvLKZHB/ZlC96KKzF6Q7/iP1yuP7THRyu4sw4fFIz/N9trJPRzOohJlX6e0go1e\n",
       "BBJfEImPYx5SDhOv8e7PCFsZfAJsqeniinn5jFWLgTZ2e6ovL7PaM4wbqp4+0Y8DhQkLgtU2JL/z\n",
       "wpW1/yM1e3Nh6fTDZJX09Jicz1Xr9FJGc+ckWju8tjsgEYcENV+7yxnNeVKKlDMJvNaBrMxq0NV9\n",
       "5f8YG9g8lpWcbcthHJ/WaR0HGW/tyo+kBSf3d49jfM+e+lMvoGndU9RHHYfFEEtLHBEndS/fxQPK\n",
       "njZA1pqfGWdGfcptbV8y21vlN4d4rfNjtXAXd8EbyI+QKxvavGIQvvSq23P16QJMF05NRSj28pcp\n",
       "3HYxgusEUtE671mWg4phWNv4ocIUN4ezqN8as1hvDxotHdgfxN292J7a9HHQXstTSZO3yj5G90C0\n",
       "HMrKLSlb99t+5P20PC3YT2iKgAANbOtbS1T5HgbtiBVpxfx0ClZzOBtQxuRvr3VmjiTBMIBBqQGR\n",
       "+KnelOOUPEYQkU/5bUcdV52oWauVx9Rm59nYyaI/jRaYEGBemFbwm+2nlakPxQdhTE75yuZXUY1/\n",
       "ChZO/f/Eul9ArzYqA2uoXJMy2eKYcwDKQvfcJrSYjvS4Pmn6irDrWxlOIGTBaK2yKRMy8ZY85o70\n",
       "sJzrgaYZzdg/d0HHQKwG/3TVPjks1GJ3AKbMyLSHspOEg5FYk9Zx/U0fHGt+KjpGZ2wfobYjG905\n",
       "a6M5llYeEVZRFC+/hb0TWRdWdRz5wwyQij7HoECeEeegTT3a1ciT12PR3GJG8DHAl9HmtH0h/oaH\n",
       "kfQlRgJfAPXQcEVmLIUFlTSOfxBltDTZpp6kG8eFgr2O3BxTtR9K+7+M5zdc82jYM9E5odhH0SWx\n",
       "zI9fYSTLDeyFeETskb7QDRrkVyXiz5xh0LsefFi7mpYHwBqsUxKP127517Lvtbcu5OTSbcTL3JJO\n",
       "hnNZsWQGXe1DHfPYwtHd6ala3+jznyccrkujD7TSwqYB90OL/3pKt2Vr7PqKCXDOjh5mmAUnPeUx\n",
       "oY8Z5vA6Ie4rpKKrRFdVMZr//U19LACZ3D3godQfD3AojR24/sLCSoYhH9Rt1IkG2VMixFv3d+Ks\n",
       "Wnt9jEQ7SjS9RE2tpcQJFQaDhnfrxEpDsD8gDWBW0bpHcfgTEv2Jj/u+xnxtMgqez1ED7KzO4p+Q\n",
       "Svgil5R6Xl04Qm4CF6X3WcqbJW7LcWW1fn/49+qDvo4yprOW89LN/zleA6LqCxX4m+vsUG0Bl4AU\n",
       "7OD4IU7sSd+aLjWTtjdF1WRedslN6uu+sJ8orqY/TLn49yXzQbDTptlzmeh3N+ijm/QBQNjsiWML\n",
       "vNsC0k3DWrMndSFF3i2TXf96/qYb7Up1tBq91SV8uGgEp/CCZVYx0BMvWAMjAAAIf0GaJGxBP/61\n",
       "KoAgunG4AOXpoif8u+6TN8w9j5QmYMLZEPhIMO75FY/eXPgyf/wwNsNiO522QbihouEQ+glT9gqm\n",
       "JUpuab8DEuu4GPIaga51NvbEi6/D18YWjxfCTTKor1/6mS2dbPN5pJUt01NSqqBbm/p1QfMLgz0Y\n",
       "piDYpIkgA8/ZbczNmYPBezN1yfETfKBGjKD+ZddPaHlIOYSIam2lczQmoAzWrsJpcmUywDcjBjsi\n",
       "DjcDv8gmVNbf6sE0lJHCgmvJrF8Lrw4B5Gf7jk+3RJGZs+oweXbEecWtxnEuEd9coYWD8ArQcTwG\n",
       "WheJj6XXxiRZtw9EA8vIZviCjSUJLofEESnNSN37Pgvp9BgneFim04ib+eV92UMFx90Y/qWoZyAp\n",
       "3QNL8ZYWjrzJjKbyvp1MPbkw4H5GozrBrGX+HIHGPJwfoJaw+AQaIzFilNj3Z7+BzKhIjrnLsyWv\n",
       "hOurRSGx9D9ARkng3vCLDFYxI8X2zk7ZfKPDeTmIvaxxeoddfQar0plP3kICZEb7Ld/lf36zuHD2\n",
       "Y7WJ5BWVApZeU769VH1cQqAo3we9RIHBRoOOgqVFoh4dWWwH696z6/xdOhhRvr8zH/BuMVOFwkVn\n",
       "RpRDSbtEtb0w9aP/rX9sXcvT6DnUuvmVQdgoCSCcTf3bV8472SvoWmgDHt4OmWz4tjfAzZ4HOzhy\n",
       "LiYPnwQan22OXy9al++YG9JB3EIIrrZBNA6pCt/LE+IlJfSknQs5fAhuG9dMmwOl4dbQSp9f3poi\n",
       "oTpuqPMJVs+yGlAct6vfPkbaLlVBm+xPuVwJxICJsxzGVAuNb9suxM32Na4Y1dj58vYHF9wg5gNO\n",
       "z2Rj98jfy8rlh5NyPlA1zJhAbc10mfjpccNldc6cx6WuhlCXGhdLF6v48tr+qSvMYs2aiGsW0XNB\n",
       "ys6MNF0qNzPXklScMX/A7/IijmMAWi1x1VjjiMEEs2+RVagoZxbUGsWu77w5/oXide/CktUgN5ev\n",
       "+ep/DgELKjcdw7WBGwMwZViRtwg/QHtTe9JTQUaxwln8+4z8czpZjX3e3dvTkk8ENnHS43E9gtQd\n",
       "RKQKuh1yb9AWgkN7jTwkXIqGxLXopDBUTaG4EOr4hZNVthw/w969BAzwIutlUBwAiBxJVPCgfYsv\n",
       "CQ2t/t2dwdfn75YFj9W+CA9dBlkprYIgEr50JJyUwRe+xADD2EZEenheSLIgAqAKBou3NR8q9Bow\n",
       "mKOOLBsXPnCH1q1hjfon+thGehsDTePw0qy6RNWV9yEudjBRAadSOQJt4yWZaom3jSmOCxmj59DE\n",
       "xjHwApVg25r7M8TOo+Z8q+JKYxFr5CUVfskAtpl+xSgEAvV/L5j/zoYIYPmeRkFrUNmgGersJtta\n",
       "MgepvHPPJoO4nACUj9Jh2F3IksgUBHnHLiJfkGG5YhfQWV8DBBdCfSuE2wGjhNmIZy9bKK4ESFnF\n",
       "RMvlUHXLdOLF5SzDIkMAMGfIqJWabzeEFHrOd6S8//XyTQGrj+18JlmADv4PkpWAtvFpK02QpahV\n",
       "oNCP/y1c3oDPm79/r0JcPrk7k0ZyB9R/mblFfnQzYAvtDlCt+ff9FA4IQqFyxQ/B32McBsX5ni9L\n",
       "U+JAn6RrNNE2fH8xCYR1UZC9hxWjNEqMIXgCtVIgBq0s+DVv8FxvGVpWa6yyW6LYLk3dnj7cCD8n\n",
       "1+On3UIXe08Sc+cHqqCmCW4MCKMFRxa3wa1L6J18IzqYTrO2CMRbw3JERaNcJI5gG+//njFaS+6v\n",
       "gO6Pzw3wkAWMH4KAF0DO/G2Zsly67fAbmWf7vuLRGk4pBZSxBlWW+9kG5FAEqkmWH9n6Pa6LL8ry\n",
       "hzgNtlrxE9DR9T4CM5UZHBu7NC50X7f7Lolos+CjN1DbJtVNhNm/x0p5LkJWps9YGqwfEltQUTjg\n",
       "Z+KxVjo+Xvv69t7dkmoNetXsW9pVqdME28he5XODQNrHyxg83sm4YCmWeox/EaevqDVSN1IdOuTG\n",
       "sCxrYzO2DRAJDH/IDtqnUWoQpDJpdMdscknoxXfU3n5eb2N3LusJxK7LEwynSelZ1/7uynA7TUb9\n",
       "JoG2hwku1cnW8Phz4i8j51eIOyHyXrPu1Fq2w/grg9YYOBSgJ3sqsx4+YC4T42knn/IQydr9C+0c\n",
       "+YfGsorxD4mCjeDh2tSXheE59dksvDYcUYd+D+0py5oPsNJJOOoNRaiNK+IjbyC81tLA3fZ9t9Dg\n",
       "kou2q1RSeNZVk8qf7HFKcrVjbA4I1dzVvkSF95dOBsH6boAwF3J+bsMfl6BpLajhpIthSUP05Llx\n",
       "y+JKJcKoBc13KO9jmp9z6if//4Kff+n88MGYrZKJQX+DdIpki4e2FygmnaUotlnLEpiw72fWZ0Kd\n",
       "Z7NO7LLHvHdC96su2cjGGmdxOfTvbbBQu+9qtIkkNKc1AAnvbXOO7a3SytHIWbN/M2SO+hadh2lz\n",
       "+prWdWXls28d9t/UmUs6fZfBwSQgtstTBfGQIhvst4l3I4ZLR/6CLUugIRAS/FN0EoEybpL8X7ug\n",
       "0daZdwIzZHCqzmFFXcy9OMHovRH7Yx9DAkXoBLdvGF/xkEwnGnr8n69mJZyzZhftKca5WuyhM5Tw\n",
       "XTdhqcPGsQThv7CelGP2Ow45Kawj97w5FV5pNYD4IuqENlKsXw+dFCt8cuiJvBOY/jrXwHm3tVh3\n",
       "IdsnzeiEA9fLuWm07o78gfLpoAjujSX1o9JerqDIHq3W9ZKi3imrveEM4Giw1JmsEASwfJP/boFj\n",
       "a6gWx8LH+8DJGu3cusgpRq5LDZ2tuAPiofFAFG3yG3j4u6DUl91vvdZ/d3HI7zJDYp7dxFvB76C2\n",
       "cyI3yZIjpN33bY41rGN8X+bWlqMDyINZKjLxAGZsHQoJJ8ehHeB2OeprHtekJ8pTomtmjhFNruYE\n",
       "7AAABVZBnkJ4gh8AFX+dNCG05kF3ICA7Br9SoeqtmKZRdcBACMrvFDLb1pk8VVyzcRsTKR4I9Xtl\n",
       "solS/4Fc3x9hC9DQmW7khYElS5ec8AyjFeBEDUpiZ2wDjZ+c5uMJZBXRAZQo6vT0tG9nrSPxJeBV\n",
       "RxPEg8tptSevabitWS4N+HAm+oEEwT8CSHWXzU7aauIkVFgOD4g5s9KfM9mXrp1Qd6TQQHsXSYKq\n",
       "MgyCa20SbtihCe7KQNQG5qVAeB6k6fo6iwZrkfIBTNWBV8+UX8/BPy2kelvJjtmpaIgoONmnAF8g\n",
       "vuOfUNKb8LNoBePMU8Pg8H4iHoSthqeyIhfk9NKIJ8OmXPwYqRwET5w9jEbAvcT03NRpm7001aD5\n",
       "oO1r2rmwjnyF1BCURz3qOJHabB9Asp+NhVXsqzuEQEfOHD8SRiiB/mT1hKWPicEmgcKNR58AsAFi\n",
       "at7M2F6DqwhrYWZz9VKjY2za5+VJp44CZqoRwWDBQYAsLcN+EJOvMjQPTMekf+mmISsBLIcFTewe\n",
       "roYXPzHvG/+W6MY8UBLOZ1QtLdS4X3uzgKd5WYJQFrUidWAOJxhdeeOu5IRi9+QvOQ3MeGi2MZw3\n",
       "tqo1Btcn7y7aUpaOgY+hEBQEGssuIE75kmwdykD88QPlmfDyVqMRYR9Q9+PcJey2qVmU/QalnOIY\n",
       "yv6QeCM2ZPkh8KN8jtfVnj1/U3x7rCVtfIS2uvmSrc5glW77/X26/kIHFfDvScIYaVMClaDTPpRi\n",
       "WM8sTmHtUkkDQjUKeRL0YX1wHa8pJsnBmHrAe3jvun4Y+uk9wuXMfMB9Z5OSrWmO2nF+3h64gTOY\n",
       "BK1740ZhjlIXfJ8JMJPRdAQ+iPPDDk+8qTSLC1rKufIwWoEqg+/OxaKLDiHcyVvIG3q1UsfYvRZZ\n",
       "fWijTIkWeLrNXLa4zA2+TKxdI6tJxngn1I9lGYgwmCZ0k9TvLiojPZI6O1kEGUWLBGf/b05KIXge\n",
       "X5hs3gJM+Sld0GlHLBunIeVde+kq3RxpLBp66Gk7AHpqSF2U+rIoX2QeM/e3RE7s+A1X8nrcFE+w\n",
       "X6eU8JF72IUiXSr+JwJkqRxjJcE6aU7CucxHWECg3bW8arKsnn4z2uiRxPiHl4U13b/Cp0F4Izp2\n",
       "TolkNt5BbmegvHkF4atMOwKuJszBwtEWiRbsISJKoFUPeObcDMkQ45SMBT0Ut+WDNycQXhd0Uc25\n",
       "qEGs7UjN61StP6PdApJ+rVIt1SXr5qrNVjYkADFYsdyFL3iV4SBabC2ksNqH63iSB+FM+dTefXQu\n",
       "xOzPFzqzNM0GtICoHxFOUlz48IZ1H5n4H2fImujmvbB+LHxXtlAAEaNYd1r6BZxgL8TsgisMWrQd\n",
       "WgQT2dOr0CbVwrXrAoJ9AcKnXTArdHbrUCtI8MAOi2MVotydnUo6bCgz3ltry3XHVo7C0dKoiA9u\n",
       "2+lyXHREb5J7iY0hXjFL84LdYgZV9+ZTKe4/1FGWUdjTbmXdOZ4big+AjBU0NBYku+LYtQ51qK4L\n",
       "QMx1oiJdBo7o1ZZ1+YwizZ+b33TRA0b5bI+CYQm/SLj3lsHdH1FfN0CqsTX859vQYVGiP5JoaBfN\n",
       "4zw4yDGjLAn0MDUpx1ZZf4eqfIvFHebvRrJG+E2OPVvKZB6dfT3gSW+Q8St4/ppSxw5xvDxQGXOc\n",
       "e7pRdmtMFUdA3I4luJYmkujdmF4SAZDdAOQpetpMS6zbcYpNosjw4ZOHmZohjH+dQXGm3iF7tGrR\n",
       "D+fholO5TRZhYkbsYtjA5gHzaqznLDpMfmOFHsNvsxW5Y358hp2QoSrZqWyjGhI+WKVJ2SWkDZ0O\n",
       "QVIPAAAFFQGeYXRD/wAvgtujb7YhPp8KOjoH5FNL4gHz8iV0788Veum6WDg3kut/wK4LcAMlloE9\n",
       "DRVU5SiodxbmvpdRUPPcuCNNT28ilT6BYFdLDCW354G1wo3NYNHD2jyEgpgtAeSsXSf/Z3ctU3xO\n",
       "tlGd2Xzqm7SykR5GelEhrf0yoPOBQ5fbG2tWuXuHFKGy27SOkVdQTEcl3DFv4vsyVIpbY3JT98jg\n",
       "upaumgRv+2wkw7UBZUhpTcQBddC7UqZX3+PvLZ4W+ytiiDzQtbgYHdElmP/UcByHIQzSmfpnaCRX\n",
       "61PVrmVfZVqBpxrj1Td9uN0gkE1+XnjZca7ItTbHoDTs3bvA6H9DyQv8TEgy1au157nCEet9HSze\n",
       "i5trLIV+QtV1LrYpMgAmiDohM4x/kKiSZ/pFWVmCf6z+2qjZNspKqGe11MsqHaONnVTnGOse1gFU\n",
       "e+fmXPuUwkYmqVJ/pBn1LopkNa0pHMrDn9wqAhk9gikGDO1iOb2GuCjPtmYTq8i0iK/c3m+U2rI/\n",
       "hOXNGN4Z788Mkmxe+YcUtfisHafvMsiQQuU2RLlYxmXK7gUErjvH+VD4fpb5OyWqu1ZkVKJjb3+Y\n",
       "QNdSK2Mx0wKWR4mF+ydbHxWrK2bQQ0eeR5tnfN8RLR1ccYAfqZoS2thv+VNyZnkBSuDkelKEGsJ1\n",
       "nj9Aln9sGAZeQZsDXxms+i5KE83+gpsp1myTjkVD6+i0H/mJggETNbY9kyUr7l8ozx/zI3ineTDK\n",
       "3aNmX1YwQWeySGwINWTFyJVxQitfhIlpjRidl7daywQXw6fG3Ln1hxKz98gbIlMb1FfAdS7v9cbQ\n",
       "Y9RuMrgoNgV0HVVa7RR7gitHq4QMZMszZds/paZcwYdiHkMjvSu/MpA7JMoOhT0x5eZhMzMqs8mk\n",
       "nvbGR/4EwKtr9MUJ+zl8cFo6T8uq5Z6wfSeOkBgFiH0tWTqY4dhsyLktrvWKOkWdAAZzmrq9drS7\n",
       "K9+COLIcD+zDaawrU4cxbApalKBBZb4kwRVIY27gTdX68Z6Vgc/5N2W9G/vCX8ubgRtiMp7bDs+Y\n",
       "3lRqX1KBprWkuEnOg0ZpCzbAOraNPDnARkBEKpsKIoBtee8DqpEZjOLrTqpEklSn3TLbvbIOuKzp\n",
       "G0uZHt+CRoxyB/zi6BLfrPVC8RM7gOiJ/1G23U77cc96FJLMRo82lL00Ha0GuLaicBlo42cmi/D8\n",
       "n0OYg97dO9n8KovhhVNR55fRbfDhW1nFVSXFe/VW7fwiKidApuj9Lark7iENxKkWpm7ImAA92Mr7\n",
       "+XlDRlhysLziO8rkblMx77upVm1K6abnqWrO3VnYqPrKW2PBd7Sq0eYr6e8TlPTUZ2DQm4xocXI7\n",
       "cbAOfVyjyaIldmECCU08v1scaRx/klkS0Jxn24Jh1/JXOEUv57jcXYzFs2UBQtp+muPtzKj1ACVa\n",
       "TI28gqZyGYCPb6ayRUjpSrjZCh3vXrB299cMMN4OZSnggjtExAlntK/A9rccIjO1f5viCilk+ID7\n",
       "b9XMktkTYzLrdCm5VSGVSCjkB0+pm7LoKiKqgKYo11f5TiPq26A2OpDW15iR8n+lxfgN9dAyY9rG\n",
       "DCugTy2ldzrkhTdmG3EwtLFm7cM8AhPPKBE2VSp5Oxpst4SFmCjhmIziWXuWscJAuwfVxmFei2lI\n",
       "LqTOgU3vaYC48o85ZxchguQxrHrZtWbx/OjD3S5U1ZKM96WhocquZ3A402rJbRS80IWmcHbAAAAD\n",
       "6wGeY2pD/wADI5nLvAuzv+PL1/MadZgBuyEwZiGIDDkLy0S9GQWk99ypDMRU4jH7Y3l1303aQIH+\n",
       "mGO+fib2HxZbIDv1IUNBAQiR/WzO0ElIrxymkn+L13oWjw3QRHGMdXpY4WWM4EdE5ng6vn97kTAb\n",
       "yBhMifmPH32CAI7z80oTtulH+jsi2+1qjf82GWQZGOWuWyLWF4XSQZmP1g90fJL55TJbFgTg0uoj\n",
       "Ce8oMFOOHigdKf/hxffCzcbWomhZ21AFHaBrXrEWTRGBUQEdWdhB0UORl6fWm3lBc2NLmbwMH3CA\n",
       "7qSXtl0wbba1wfh9EpBWToZpXor1nuQ4N7IijNzcrnLhIXvpcWLlLncAseepOmYgbOq8EQpXxIbJ\n",
       "oue+S654/C6PX1cNB3DAShuWTBECSt25cmMO0cTiqEisGXrVjmGTOPChEMMfMJqipPWaUuzX3dRO\n",
       "V9V5MpINbCnzxajElglvQdHfkNUQs29ULKbxGzql8WAQ14VnlWeu5KZYGfrXhMih3AvPD7SctHER\n",
       "El/dMsrrozTL0lT4mw+sxOdXgjTqd+UtIKFSRc296Y5/PXmDNwqfSNgGyIUmiLlx6JFnOedw3ujS\n",
       "TadCuUxzGGFRY5lU/l4W4zslykLXH0/D9pbm9BbAPnYwkkgIrAzFPVlF9vQwLndbfsXgguHpPTGQ\n",
       "Q+vDWhcDBeEyVDqEAgGcT1aom/y0sBL3gPQ3TSzlaYDCSej/ajeaYRrno2qJkWUsuQrrzcpW/Kz8\n",
       "bHYTXnzvnqch89IeBPF3qZDquSVcRk2/LTRaA0JXKVcBS3m0KL4dP6PuiDGcji73ORY5nOvnwVWU\n",
       "vNUtuLcsFlSZz1qBoW6jf/gSUrV8WE1RmwRwepeY0RPLSJcoIr9cj4OFlgy3e7s/eK7G97KW1+fj\n",
       "/g024TOzCXGtZsmjtv8kZGDpmDInYSiqrb/h/iPYJWjKTXhnHT2X1Tn1fVvf3yJpwxAxvPRxif36\n",
       "wBntnHZM1HFaAp7p0W8Jm09GXrouAhXNGiFTb7sjRWJfqIaLFash2j50dOVbIcd7MGoWr/7tMSf8\n",
       "OebdydBqWiujW9pdefwWXo1sdae901+ULEI82rxgUaAz1SpcKrsM2/rx8/VpN7Ra6GkCcWDofYwz\n",
       "6hbFKGQG26fc1C3jdBlgwsW1f5oLcOBFhBFFDc+HefQ8Ay10AMYNU29dbjGmehfatddGzfzYCvXC\n",
       "3nnwFyXLO51QArP6+pR4llzaIvn7+fst1TxidliwYx0f1KCAUcHxIHbm7/ryGlTcsyIbEpi6XRRS\n",
       "vvDaB0s/DmuhewmcmPlU3avPkSqGerm4XtDzZi292o3g64EAAANaQZplSahBaJlMCCf//rUqgADP\n",
       "VCVsHUMCoB3LyfkwRxJczrFTV45veqMV16nENTN2JoQvpD7jLZfwgnjF4Y6Mmn7BorOEdgYZ0Gn+\n",
       "YrEe8k0J31uO6MqaPMjD0I/8pg2kYflPtODyfxI7Cz2h5vjeGCs+D9X7wynQVb/IHif/hxcxKpDU\n",
       "y29FbnOzuJTW42rokNALHbo/faXw1UwSD4/YXTLecxrkh7cGr8l1nXXX9+jb8RgaCqmh4e6X9azI\n",
       "fqv+gqnvYWE7Gc9xtxSSrRfS5gILb3RuXq88NKOdwLgE4u2AOyctN94M+UVOt4YNIKTjki5xLvcX\n",
       "CCM/HozJQb8fDZteUyxRgcRryT7JKqZOMftz57xeoSw53KX/SBv7pbB4nZ/G3ySr7yInyHKEwPJF\n",
       "vDySdaiFt69M2oJzaZf29VWv9Epora9h1kGSOeII5C3MAAoujH9Edxgs4v1ybSvETi6ydvur0S8B\n",
       "HrlVP043f917AgzNBEQETfNVKS4UZvNHNroZWPQFVgiFYcERmsMyJD2PeLJn6Tk+CQAgyRkA8gr2\n",
       "TMjoO7gUaEzgTS/L3GllCUv+lsXhUVwDAqiw/3ZdoMs/PxU86dMjCljgt8RHAyt0acxyKyXMfLKQ\n",
       "LLmnJiPvAiZucyCWvN6mskfW/iOswh89IGY/qi5RJvMeUjTjLP6Qi66gid5lq7cGNq7O9UMWltG+\n",
       "enMqxvVfxPfQbkhHZgC9494V5UnWTJ4lY9RgA7t0orfCOC/eZ4Tbg1yTmckFOxpU5qOgZrrE0CY6\n",
       "FYK96NHFsuFd+RMdyQ8wFfS5v1J9V2NWspTyWoi9JjEkDbQOmKH3qXidT664K7zYHr6mCnI0sqrY\n",
       "6+f9XHyv4focLWZP2ey6SLQpXaV3pOIYV2yjhoBaQAqNIdO/444XFm0/5wArS8CXRXGGaW6ttcAw\n",
       "ECMGyoBD7vlx7ds0+EgxlEivrkslED1Y067ge6oGZpmdGjMCEOiw1oeN6pa+tHz6r8kYkfGhLYz/\n",
       "gJiP5hlumxe452c13OFG9/tkQIqXg2AskmO+L9vlRUh5qYDklLDF+7FHQpbITM7nD0kqqLRg4pWb\n",
       "lkMNt4fCl5ZGqwVXwdM+WZfYd3Sbd9FUBmN5lZHnUIqlsTKMKMxLKAbdAAAGDkGaiUnhClJlMCCf\n",
       "//61KoAAOTrSPsD6C8vpgAdfDvBLfVXlteNE47aMpAAKp8JhkTKJkZuNRG2TnzBO6rBnonJxDrKm\n",
       "HrmXkcIOvAAmdYrJ3JGEM7I/86cbqGWLc1eKIVG27G4G7ovaOp8E3ubmEL9u3aQJKD1Ng+eMaZOI\n",
       "8K0Q6TGaidlzN+VNZwdIQTui/X2ff8EqmRQdkVFwigZKqbQXmlkg3pAIDtmHb/GZQ7fTW2P5RisM\n",
       "FJCkIp6S/ytv8jOJh9+cL791Pk92HXI8A9/U9nvCOP1gu+E2xEMm9lSWGfY3uUXXyd0DkCFwtdwI\n",
       "IGE6Vfh/gH+gAmJUIagSSMN8lGlJ4hf1FEPcT/9Mk/OpQ9T3ArwkAqT9ulI/Yu6UNN8F21P9EHhb\n",
       "o57RySQ0JxF6NOqOtWGmhYrk9XTMXaM4C836JYuzhAiqai8kD95qYZHZrcV+4cOcHRNtFfgnGbd4\n",
       "iLePJ1Y4v1HhpGgZGd9tQ1z/aZ9/Uj4F667u8j3YuHcNCfhJXF2Wh6AN65aZTAd4homKXOMRKOCt\n",
       "RG9wtDGZNAXYixGLmtd3c4rdvOYag0tIEfU/UbSNT/Ck+i9J3yQ2ksPZj5M0HCeFK/jCRij2qU+N\n",
       "hlQqC6Nmyw9tFJRnh8Wv+39Qo1+VnxRVwD9PC92CcgcuN+MmK60uW8jaX9NHvKNBN3pzh8YnaSoX\n",
       "FHNaamDUko2G12JlciP5Ff5NihCu0T29kgfkmcNWjl1lltDmp3jYKsd+Ue+sqp7ohu2TAEoqDyXm\n",
       "SuuspThuN5ypYgreXJT3q8kbNisHt+BR0E1jEcIGSvBR9mg1oZGwH5vlyxvN9NyUCuEVEyMigG58\n",
       "YEPft0PRYr5iuWxpfrLNJRzYcaGX2nF3zZOVc4U8kJBEHO/ypy8muNGxY/N+EL8KWbP9wP9c6vEe\n",
       "9tLjW8H1Tb/R1b4jHes2hQq/uFettGtdV5uXLTIWddis33TOT+8XkMwbjMhbDDG+Gj87ed1untR9\n",
       "8OnvvGGLHwvR4JksBpWmlCbOaFQotPskiIRdNJRbJGumvGJWgyanwE40qPIjFHah3TTbXFnQsxo4\n",
       "9xFkP1NmkKNBfArHYOSvaIzah4eDGGFZujZOYwx6YdpZT0GAU5GBt5+nMTi9nEjAJ7imK4yhs+Xl\n",
       "gQsYRQISAg5CMeRXRfG3rFg9q/AOhez5RckiMJG0EecLXCh4svPjoRB1TEJYcOZpussfnjL6lbua\n",
       "P/Oy7ZYS6GFFVWDaUor4/S2Q85jeYj15OSyAD/7lqQhuRYenrc7fEKkLVDij/Mp+Epn/vb7hmRuw\n",
       "mpnJHhhQs+sXWUARZaQu0Lx1z6NG9hERBsBmd5kXpp3kTk98o4iF3TnlrgWU5l1bueasl52hwJgZ\n",
       "AQ1mhgs52fjjk0QTme19cNLBx7f/d1t75RII3CD5Xo+fCAIJnQ6z+hBzrDIb7msznBpVoBEz3HI/\n",
       "oCJEWLq8kWthK2BWIDyeoxNUIeP6xzmwmXUYSeB3JgGVFVxUgqjZ+IkcCHE8zi0wZG0xTcnZii0l\n",
       "PI4gApILDJD7C+dPIRzIHjZKBZRqC08eQsnfofJveKwprj1KWotixUJ0vvLNRsZ+NUT+8M4t5JZ+\n",
       "6Lv63a5He2AQlUhO8Wrn5MW8I8QVnPffb8nMGFZ+XJY76RAe23y2VewirvqITq33DMqQaI0sJzic\n",
       "6A9Q5yDPHyWhRg6Byl5lYZClfOJpM/3CTEWnOfVidlz4t2VI6nSjr2e4kCMMizds6WoYRmMMdZ5K\n",
       "KaWiuosZyieQPVq/AWHGrP15wIGQwELONZaE5m8e2kdLOEj0sOtT5g+ZYwrhpc0JTfBksgEvE2rd\n",
       "LQtq3wjCEmAtHjGSqVLlyoWYXoTnkMxXpHUKl8VzA0UPKW0/QpXtkIMw13tn+CYfMTAG3wlxy66M\n",
       "9YsX3lYuY8yCy/YLMjkGjffvnreX3G5wAyqN2yE+0YqfY+W9+fmkfq+AmLSjFgrYXcqar+WZ0qxc\n",
       "o6iAPMsuGIBW3gayX9jQYe90bcgbnUy8H9yaJkNJ9e+fLwj4Ezqk4pnss5ZdD/oHZCm69xwxE3j5\n",
       "AAADXUGep0U0TBD/AADtZZuoqpIX9dfiWISgA/pF42hL9a5DlrPA5F9pozoCr5I/S5fRrgPYwNUP\n",
       "N03o6tZ0odJ/rJPmguMG4VhxAudZsTmgBdz4XMTKl2HpuIsKJw1hnsakl3jVnRAwxtncy8w/twyr\n",
       "KAqb52K2OlPpJFW2qjX8wFBPiPLAduRcZQnyViEudAXKkQ0P95M4xUN+8Jgi2B9sJQDsRq0ZfSvu\n",
       "GDPKWr4ldsto87nwePukfrB8sn2tncFMYJiAfmfI71YPa6rCHnLvGjlGR7jutsbXz11whTMUI57u\n",
       "Fb93l6nD8b3OIOShnmDJCXM2Rq/xDqV8gOt06J53M6BBmWUwGsom69rhip5ZEOXH3qI3wOGwrS0u\n",
       "MuqnKekFcRvFsKiO4/PmnxswJF2P/KtHMITLMA3VmES/b0PsAQVQyW+xDxEradrrTE9VWLkuXCEG\n",
       "jq99xpfJjcipGUhOLQ+OLE0WfagkDXjGhSlU2imPCH2ps5quLxqySQgwRvG5+EE5sPX/FfHEPmb4\n",
       "43bgAkkM5IvO43HovCqD7KRotUzKcca/GA4ILZXQwcQ6spr1ouftqUHvD8m+RdD9kSO5Pzr7mWkH\n",
       "P1e6Tjrr+5pYeGABRU15qwn/8f7iWMecxYZWpk0er0eOfSuXQN5b0e4xavuakeRN9E5ESjs5afi3\n",
       "HzQGE0XhzYJmDVkbyyRhBv94KnMKBUZJ3UKnNQi7jovRvVaFEzbkO1wr7/EWbbwT3oDMrljwoksp\n",
       "1uaxS8Bz59Q47HvToRkQC2L3mVT9rgwTYNIScvmZnMqLGKj9kveP37tz4FqviE2EGPzvBVpIF1jn\n",
       "OboZ2ReKw9Aa/qcjJJFYTYtiGwQT4hmFVBM0mxBRFHOPHFOUhECm20nRJLfzWGHWMUhZmc1tVC+9\n",
       "w2uhrq+kUOw/hyb2AdgY/OAHB4ebPE2Gso1eFupia0U8L3uRmk39ulzy8D/B3Iu7S2cTsYZW7ah/\n",
       "SGsJNLIr5Wtjg+M/M/UUcgQaKz8tNj4/t3s0O0FMqb3AxqMkvGNRn4ldtYNCfNpJGUIpBkVqIj4G\n",
       "fllhBGoVIAfgHjZYQa/2kUTKVaYngv2OuaDYgX1GsQWAY5UQ/HnU7cqKu5ny/b2qwyZksF1GZzzj\n",
       "kwQnOuhYWQWr5wAAAn4BnsZ0Q/8AAgq5U1OLlz9+Rdz2ABORlYDu1oO7m5a+eAzAIBWoKgAz+AXh\n",
       "wvsvR6oJd0+EgdU0E+7h9l8B6sgFkFnOKdm7qFEtHJYsznZQ6DkydFs5/arBPuQNfhcg3sxhEajT\n",
       "lp6MnMUUmi1VP8BBflnJ/V6fv/c35R14Pf3x/O65bJ+h2Nr+5EvXzHfVqrazUm6AAoVSRombhsDw\n",
       "/1NcnQwSL1CXqwTOFPk2G1hmIGaLzn/KmusHFeUwlUKHJ9Ds6NL4e5XwNzl5FDEyOkkr3YOdWTXC\n",
       "BYUKAhHOPI8hydtt0iv/t66cE9Lxb8tpkF0F9+aPXmWaR0J2fQ4Vdw17u4JGrpIxqLHLNJOR+bTR\n",
       "IltXn9LzWX5eolTCzXTijAqJK7n3AT5/sWDD8i0ucIJkhTMbYA2M/eQZzDjvT0Tw6ILMWjN63maR\n",
       "L8ci4BLaLphhC0hwivpLvcY9hRkZgcdWLLtk9BDT3ZBZj//QdLHCo+y0TB7Pr1LDvhK/L5mKJh4G\n",
       "V3kERR1aerB9+malYrUUly3VuyaD0SBvtFDJCp9zI00S9iez98ulGJHCw+rJF3XdqyiGRq3gqgaS\n",
       "wWP1gCWDltFo3NanyBB1j5JGorGJ5rwPv0ErP71rTCbwnkspZ9NxebsxVOveZcWx6FjJFb2Niffp\n",
       "R77jkPPkAoUt72ACiU4ytQ+H15lXSkW4oXr6MTsZ2nDY1Hv0s9Hf3f+/D4ChFCsbix34xGxIGW6l\n",
       "QzNXkkotD+MfQkyX99+3++JdAqufqv2NO9sM4KmnJUCVFnnTCXgPLlWLDdyi16bQUCFKXiM+iTqY\n",
       "+h9X7WEIX26S4JMvl21yzaiTQj5NXoABlQAAAtIBnshqQ/8AAgsG0ZjQTWf+ySrX6JKGoAP3Jcy+\n",
       "nkUqFko8sT3rWXAerap427IebYsafwnaDqUZgDLD5t5pPcHt/wkOtxKHW39H2xGdM6yieXyB8vMW\n",
       "K7QGlvifz1Pka+c4mIQaP9yCoSEMk4cdwq3h40iV/JtzSLYG4hQ+TJjRTPBWiLhcrtIeSMjSjTDI\n",
       "Z+SDvPtDCRDytXK0GYCVVvHqk0XS8TfR30u8lCYpnsg9vh+VgxloL4Rd5mGjIZ9LE0BO33b4CRjC\n",
       "LZHpADmBcMPfj7RMVZs1D9HOfmLNLmZNEiUOnNRbA4uA/ycyKVg+a5PSefWp6Q3kQoS1RRtVUhZ5\n",
       "QEjx+nUg+IsgoPwWUX9FE04JsVoY0tUJpYDZ8m8u2kzL0fldxdNqvYFrVJaG06qUjs8kHh2ccSy/\n",
       "2TfZur1gUCGnUvISMQ1/y4HtVwkWGJ8sqxCo+/JN4qbvwt5CCNrOFiui518Qpw8W8YdGEoGRsc28\n",
       "3jrlTyqa/p01REBw/Ny64pkjXLcghWCKeRQrwnKyAFRr2+YR+3b1W5rx+pDwukOI1qij2mce8vWx\n",
       "vEfTVFEf4BfPjPqr92PvbkWY79t34RAvQbWu+BpTgkmbA+/1/OAm8CDKogMhL6ZxdN3IH/lBTb8r\n",
       "OIafrpmf/0HKCdSGbrVpzHKNbydgylqBr8lQtuipWdA9K1VjSKX7fUFjPQBF3luLgNQjCKIqusJS\n",
       "F9oLJ5PcKd0j88WsMtcCV6NYcUn/0s6RyzxxXc7U/+6B5sVF1/OpFVPi6Nv2LLwbHgIF8KETg9ZT\n",
       "qEL2s8FmEAP/2EZByyXgiXLcQLRrIk2Mgpnqv9y4TUjLRJiOlL5wN8hJmhkPQSgR5dAH5DGNAS+W\n",
       "yOeqHz3bbTMr1X5h0ClPUMpQnu2bKL6EAEEaO7diQpy2jvd/ljdp4k7SEglL9xEWoJQqsTosVSIb\n",
       "ZYB1xw1h2GTugAAABsJBms1JqEFomUwIJ//+tSqAAHJ1pWWs8XISABEKlmc45TgH64a0sGq4pUka\n",
       "w1kU5y3GVR1QxuoyuzEs53CbyU96OzrSUrxTFIiiOW4uroWZxOpbyICS96x6xEAqb7KReKr2E8jW\n",
       "N6rYPphdq9miFeUvYSETJRKdTfAwMRXSfXaABd9vfAn6sMPbZKtyt9vRNnrEhjqzhr0u1aEb65TI\n",
       "Nh0z78mpUeCPVPmw62XAzXi39B6H7xTBbC2TjCH2FxF6D357FMYpMDNgAVXY4Li2VIS2KYdD634x\n",
       "avh2hw5J1QU31eTN6gsLId/CwFYfp9sbSbn6trCQKCX9vEe25O38jiuMsApLVpSZxhVMmFiMlwTI\n",
       "EZLDePiahmuto45BJWvjF3NRG5yjY2gHZd2fyGN3Jd53E7EDGbt/+UUPhQ60Ra4YtkYF6HJ84M6J\n",
       "QzpG732ak9KJmzeqAexcBg/Al2gnJXU+y3jkCI/Bc5XlqUFT1fYZW+W6UNP6LNxcLFKDdP7XCKYx\n",
       "IFVnOufdS247vRDv3n64PBsiISJowkO5j91k++fLYaCXOJcAgyDBLrXwnzyZOZHXOcKEOPgnYUZK\n",
       "YSqHSxw6nTGbbdM0A2mNffv6dZ6Ylo4Bz8Ol7/F3yv7qTgsu1HvnyNNHiSWkzbLvbbmB2sISOM2y\n",
       "NB+4uBERuwSK3HJw7Xa3AUMP9kOAgK5ewN3E48LXZClptKCECfUS8xREY3eXKirLyml+KacSRalS\n",
       "2uU13jF+x4PBWM9kB5+CGB13LV2pMrQSzreGZ10U/z3gLGh3zgXwal+NkdDpdr8YMvgFOnGFvMDf\n",
       "YR0KAFup/x69xjFc/OqufGVm5dhP/zeG0oD6Ibw7kAjEM7gV4hYbzrIwMIIKecUJSdB21JRxWV/+\n",
       "7zhWdFu8wWJ7L1vAtGXY//2vebe/qEg9pF72ZeoRbYoNJtORsC2Bcx4wbOm3q3zaFiCw0g19su/4\n",
       "+UHBzZNV3rfAv4VJErur+rApb7qxbjk6iZ2TLIo1C1+CrG2tp0fUeczcnNVW6Voj2CmSi1O+SLnR\n",
       "Lv+bNfeYyXMH/tfTwVX6NPe9639lupf61m0GgR4DaD4a4C3GNlnDVQZliRip1SSFHHrNKo836HIs\n",
       "84wKdonqz5uDy91yc3kn3liWpBiTu2zG7I6tU/NDRTCmUhUMqyeh80oIUCpkdCmZtplpab28QSy5\n",
       "OFu5pkAs7RgOgF6p6/5owz9fFIG9ZfojIM/XpWp3QMOUA+ZFLEgzQl74RFfBhymipUB9ZcjFNJxf\n",
       "r/1POmu4sJgJ5UXI05UU7AtvukeP1kRM8RpI07z12GpPryy158nkcYwSUw6ni86Yyoh+OScNGqaS\n",
       "KMrEiqP88kMCMTACDTpIIwvQiv793Nnbib/y+EV6OPX1aZ79Gub22kUz93dKmRyzFAHOOsAQsDJw\n",
       "5VAzN9FRsQYY6Y96fJw2/odtGYHdCfYZUKDv+9qpVVFLFum0q4LjOsT0yA9A70y5fkg4MxqzJsol\n",
       "pNsGYr7GylPBEES5GlSYZ54ocVNGl2fo6qvQa1EuUxh78jDTkPC0jFeiRSXTKpuKB6weiZCT6011\n",
       "uuuTIntcVppFcfRuJ/jN8zc2pxI+83aiV3iaMShrhOrxe5o0vFcBMLtplwmPS9a4T7obhB9lSGO8\n",
       "VWzhzTzzbH3kVgwWr3mdSZ8YqGAEuxofvqmJfXPiait5bfCyFMwd/65pqivKXHJE1tLnIp7y9+vV\n",
       "Xbjz88vpX9p5TuwfRIb3y0pTLhekSXRZG+fwDP/tNetQdBmQB5556e8csa7vHAqK30cCSWO4ueeY\n",
       "2lIgw8LrCmCOgNqckAwI0HOThWrNptnlrIBBWQvib08IHHWLpfCm/sA3EJTddtoDbp8PBaYjYWyN\n",
       "vQhLLjil8Bun/ncxw+/qEA8i1VbhXnAR8R3DOfN27LLKo6TpTqWj8uuSnzKbKi/0hO54KnUmRUgx\n",
       "S3mbrtqdhEPmwi0NOHb6mdsrroW2PlnjgcUKV0gXS0JqpXD5GqLUCYBekmTBWpF+sMmThyHOAcou\n",
       "85AoOOPQ0jYJeswS7jmNs4NlDyNWxq3l2uzpvZAIKlZ+HA3IkbfmcK+SDfIWpW7hG9S1d2SEw8Mt\n",
       "8i7V+fsP1wLdAVdQzvWl8pr3iMTWDeOtMG1yvdYyegOyR/FKKenrKMM5MKCSLcebuNC2DI9PgD8D\n",
       "4XN6lP+BBX8SgzDvkvjtld2SIRnxCa+KIXVd+sQOruG+YM0X/zNEIlrG7TrRNmRSERVTm9rBngiB\n",
       "mdCwb/6B4aQFN9l9/th1hcRXGf8sFtYTjMIhS8S2ZY8oTQAABEBBnutFESwQ/wAA7Wqa1r8Hnxjd\n",
       "lppQAkr78s5ogSJH5SxKi/EKL/0bfyQKJfe21eLuXXzr8ZQy7/s3Z72L7PqOoykHN9oAvOPA2Ray\n",
       "zBBv9dTMh+GDsHfYfrpiuHKL8ywH69JEag07cx8QYYsuuE/jajBYGMXK82hW65/sEuUExY8wM0YY\n",
       "qD/7A0NM0MnbLfLBrw64u5fpCbtNfZl83G2y4HohBiTYcos0xOrQQz93nJtFOspSUJPvGw3uMin+\n",
       "c0tjbBUopIE4E9g7kKvcUl1SW7cQM6Egp/t0PUSb3UfdWrF0poL2YRCFopcUNVP2Gy2shmPPh06H\n",
       "q3IkfS8rlTeECIlOcJWVlfplWTxJ3o/vI9GMhMDSE/9EjGn7R+QGn28jSNu4RSI+4hkV6LxD2RiF\n",
       "rVBz5lQKCKaIcUfId6woSniHqd8BdDEXgjOX4wt0sum+FUQJY7794+rx7/yeO/jdWVkACZlQO9Ay\n",
       "btuCqZeUHT1keuq+SyuX4AEEjfltqIhxpi/iF5DfJwC0RtlNbEda4AtzahG56NWu+K020E1ZuiBe\n",
       "p5QoIwy93PM2NbuDWnJGypK/pJx9RQgujBrUQMTFameeSUXgJjMdWmyctN7VQPlHNZwn4pBsYN2H\n",
       "4l4YL4C/wKiiJH4NdWvxtGFCvZxJMPAJCctXV1zTPuhNlMUgpLvAp4wZDASTQRu24caycUQpInqU\n",
       "ejDjpQ3bE0MKyDRts6veJdmWmpVGn7VmP+hvwLB+kO1FjbmOeCJwUZYKobaijRbcm9EmFA750UhL\n",
       "kK+Pn6TjWYyugxVxOoJc3SGYaJ4TaUbicfu+dLS5UfYrzsnK0PPTz7+XZ9GAQl53jUE5O5t/ZWzs\n",
       "dNQc2Pa7y35rqb5u/df564r8C76cXJr4RCIhcuPNk4Pp3a8UGxuDAK/N/eNpZKGWo2VUUMb/USdd\n",
       "Vy1RjWaIqYHAKskFYgYc0Cr2LNPJSE0bwzUpGN5Y9RlTqSvW/I3/FpBGLSFw9RXJwvcE1KHKBpG4\n",
       "x19zXsAiWV5eQifk0qcjXeXIpLf82CB8mzZZQZD5d4kLG7uLSNaO7pp3Cmy73N8LN/VV96LaGeik\n",
       "NZbU3hheGWvXGbx8nObH6t5uTLwsKgHRYbhbq0mhg8tFrd92PQG9SYCBI00p/tfb8BoO6+8i1ESY\n",
       "K4Gr1CodsNWXBjw92tdhH3jCwqw9FOZhZVTE21iWck6i0M6XS9LGsub7/t89vT77eRo/FwwmFYZZ\n",
       "WufuUh9WxlrZDPWXgSJTJc/hhX0q5xlAEkAdt9kuC72fjX380skixXAEgbx5Wy0ozDc5zOPl8r26\n",
       "frryltxa5Mkblz6ThnzTsoQGs5/yETRXEnuqvOQ5aZdhGuZSNXu0LBT/y9raWoD1K/E7gH4rp6vc\n",
       "II9wAVAqisEDP64f6sDv6Bueo6MkWb0KbqNgJ/oTrjW/voplIWuAjuAn9AAAAyEBnwp0Q/8AAgq5\n",
       "WMgPFzDCsEpDMX1GQZZyP/2LQAV7xjrg3Fif36A3brgXC+iONGFRIjwYan0VdJFCT/KPcG4nwIl/\n",
       "wkrUJx3l9g3U/wSRpgi4nSY7yIXluTWtAv206g8vf1xteCG33oZzX7r4dClfBCb7sxM1n8pUeonz\n",
       "h0Bn/8FXwKROKYBWipFh6V5grgv7z2aAaUCkr8ZXv8B3u/tvd1+MlmheuNaqviECQHAYoELmYpmN\n",
       "Vfeq9W5BXoZeUy/TkhXpQo/wnMtMR6+9xLxEKd+pmbWK1wF40YhE8UFodyEqbTZK4IJXCXqeInrf\n",
       "a/fNN8WteclZv5HZLmYKEWfXzEpsTl+DAkAkF2IIG0F043DZgbyhNKiwvQZuv1xCQ18nEVtz0fIa\n",
       "H6Qay7wmLxFRPB87IEYjdWqSg3RLtyDdtbdUHGNF4O/2yJXPBNACBAxdKLCP/bTc3IuRIi+yZCFP\n",
       "XUPK5Z1i7PD1P65l2ChcM9rKU7DiReXaCq5hVpf26aPYjnbru8mzjxNlLTQxB+S9kJR3kL1S0DEG\n",
       "EN7HcuT0sA1rFQ/K3AH8C9cEBCXAR7ZdStlPoTBWGBxhUSyvObzj3LW1/Jwwp1jLbe/F4JIxbrY2\n",
       "pJ0wzrHRr1JDbYbbxOwFVhdjJlZDEBbDDEQKiGNp/zN9B3UpaATGMOeVk5DSDY3cwffm/Ky8bm/W\n",
       "VwGkG0o72pETaRVryhnBaRiBoXR/jZ+NaLVjawrf+d33B57xvt0rYchMYTl1TnUwqVyfw5fiWJBs\n",
       "66dEB1rerxuzqzYx4eT6AfiXgFPVeXHgVmgrHplBc/zrbf6FdplUCo0wxj6l1x8mbi+uXPP83Nc/\n",
       "hO3VkfWj974cR7TKG6Yri9jZlsLqhzk7kpIh9ECCoRSejyF+MFPmawYDDmcY77aU0Ma3Q45rh5Z7\n",
       "JgC2efFwXuz7DM+ioAF6zIRMbPKi3z4yrPhUdyq8wWnz3cOJgw4ZANiTXCfxx9j43i7exBOUA5QW\n",
       "nveyplFoQHa/OY6ganJhvRlzj4LrO05xWcyvdOFBIi5pGTtN24NTKCuSwVq+IcVeR8AAAALaAZ8M\n",
       "akP/AAILBtU4V5LxEkAHuQQYVxhSvQkb8Q7BJipaRPPHFrUIrhZIXirzP9N1wI3gA8wD+sSBquJt\n",
       "uZRunGcEVg5iMbv0BP9a6kbWq7ccoaUSfIkK++ak2GkihRTjB+hhX65bk93JRQCVtHw9JhAJLX5h\n",
       "4W4ihf1P2yIEqA2MHGMzvfksti4O/votOat/p/5wqlDPU5tEAubrjqfBk4NPwVymnAIbBnMv1gDp\n",
       "lDrp+oDzp0d3HLSIldIMiqeMTzpZ3O2sbQmD/Q83++SqnSKf9BGoDAh6aSIt5DafDFSH+nMsBqiI\n",
       "cmDBlASi83puoD/htthhUfM/JtS2AsquLHdsx5Xim66+IYBgUtwL1J8TLZ4HkwRX3luA0eUbf+Ul\n",
       "e0SgSvBerXktMVvRjw70NhHP0UQv7aeuvyCbTCCBTIOi8Vm0lr448U0dCa5H4wg5XZ9V/4avLrob\n",
       "XWFrB0SLVEKWiUdV8JiggkIX33KtMbAnMR9oqD5m/QwdWNY6LPKkreTUoGsG58/yvjrngASi7prz\n",
       "5kKgVlusOVmp3pdAcIJXkcVT2swDPjCQXOFV5qq6MZGt7ZpsJ848GbkaId8Gq7cuLQsBZbIhSF6c\n",
       "LwGIoTVyh2IHTRTDxnZB+2r/+QryHR9DGX0XlsMmx+2hn8TtqAEkCuUZ5FHLjef301BVNmowYzpy\n",
       "nBTiI7HB+WgZYTLz19BNb/q4xT/FuspwitzuYJ9C+hUh8lTMcHMKouWj/1xwqpsSSYjwmkmCHFnZ\n",
       "pN16EW4CypcVe0bxU+fxlJLxf5bL7kebJT0J7XX4bAizY3ZcFwh+5nF5xsg5JAQ3pL3kKWoa961j\n",
       "2pJ/opbTjniYsoirRMqge+wIWkH7nJ18lTD/uruUel11VxE+auS+w1X/xWKX8RdWednMkCt7STEk\n",
       "Sc2gpxoDxBxrUQmQfXGlGjS9+joCtwQ6pMkIl6WhypEWkI/WJZVTG1rUcQAABpBBmxFJqEFsmUwI\n",
       "Jf/+tSqAAOPAqwAJa3gm119CMq8uXI3lF8EV6mB7+/qj0zHn9j6TcIcnT8yOYn/1S2ajez/e7c0F\n",
       "JZxXqifDFv+S5GYVdGf4EzZsUTXfDCNVO2m8F71aYlL9UpuwXB9DqH2ZU6/hd92+GUvWTPtt6yJ2\n",
       "t3Ks+ICMMQLmGNL/Y0L7NhZNEEInuMpYJWxwa7XTXTW0HDw5XHDlDYTCJxC/BNzLI8TdFZIDAmDf\n",
       "ZzhBpF3weoPyrHhsv95t/rGRj/BeT6wupIb1IA+ToVgLcQ1Wuhu4+elQKcx+Om4PNtEVQ8Zy160D\n",
       "1/EZIAhlPDQYLxBNxmbTy7mj2w9NUVhkeE8WiK/GBWa9bR/RNRA3aUsqpFGGSyrgACibteAuaWDn\n",
       "XIiW4HaJ8rf+6NDUCQ5h7TPOck35b/atrFbofKHaJspJP5ELlsX7tDKJ6eYVQG3ImsXPASftYxdN\n",
       "y6XkjY0f5vKUq4H/FxPmQcN1IgKYE7nZlXZnLmsS3INFhhWWhRO5jxH0L9Qv0Qke70m/ISrHrR5T\n",
       "wIUhKexhtWxGswFTanyWag3Ny4KGxCKq7zzTIo4vB0PCPMGx9f95DabSyKo9thtE2Yt6nsUJbx5/\n",
       "LRphEg3i0DHSORnpQdZ7EL2MAeybCuKSKDT2NZnVmeQmGRRo0LzxGeSwC9n8ai8hlhSpqkd3GN5j\n",
       "9to53PEfRSUjdCkXDv5EYv8ihcio7mb8XcgHjqAv61XFz2lOg4n6HvMp/DVz7Jl4nhfQ95k6Gr1C\n",
       "7JfsTn61cgxu/+n9evCSsdLCnbdnZ3xbVCBQWiUFSR/dC3sl4bIXSJUqi1cKvBEcjASKxLA4VGGg\n",
       "l8p0lBq3+4nwUcLeiUMWA12ckyxBerad098Jto0rTdsSSlH20chEissAB2uV5HsD0cLXoh2oz5x0\n",
       "HToH7/hVdxdrpy0OMhzf8pdn6W/2pSCm/b61n657ESZr/K2uLB1ObTOGrrayq5LjAH0OSWNpU9WU\n",
       "7QCNnLJym//KrGSiaTBUD2r4f71km7Czo/+MktngD3dRVXzITIp/BlX6bGHvqVXf3GTsRVhLwmeW\n",
       "Pvrl+Jq08Au6CJMjKy7nji2SXQYfddPhXudDdwD07PXToSOXXCoQ3jviElUSCmdPiXw/+Dnbo/GI\n",
       "tC6+kdbTkNvoLw0ceeALds+QRvLMGnZ0EKcqvcgXDwamAgOhYSMAeleosKKpP2TzkmccoN4a/U81\n",
       "s1VE8VdXQZ8tKLXMbNktaET5nhYRvAVjFQ3S/XDJv8pSB4vJaFN5lDhLKUC2D8Pq7xTFm+ky1/KG\n",
       "fcIP0mZMOTm4UW5OFElfzN4Fc9U9YNKbfs8SMwnkekEG7KkUwg2EgyE3PfVSr02TPYe48VWQ7VgG\n",
       "tAEZLFPGr9f4ZAHve1ypo2oDgN167rEVFGv5SXvbhkHT/j1gLUyAgS11k3JJ+jwgvhecZpnt54cB\n",
       "isKnE2vM+8Jj2d4C0QjIJXK8gcbLMQf6tEYt/15Paj5Pi5pAn9F1RSrwExKZPIJl9aIog2smx6ov\n",
       "5X1Qrn5NscEx1IFIZIJQnYKkxq6b2n21Vk2KxOCLN1w0GAsOKR4SdoMdtpLFvrf3NnO6Z8q3qzZN\n",
       "V4KJPKZVdZTr/uHjIA2AJE0GvoC+nhJSFMa8QVVhbmDOxMXbCLIz7MBL8DHGv3pl9Tosyv8TjjH7\n",
       "Z6CMfKYeBrfVCsdd2dSqtKIGY4kJClqxs/n2uEu1pFkpWLICxgKe+9VbFsQF61RPTsjaJ2G7QM7i\n",
       "rza/Y94fYUE6jD4pymgY6Ofja1p8XJrJxDf7Af8DTh/2lmzkGaSTB5THxA5A2vMz0/9DLZcfFfgc\n",
       "JSAV1we2Qdgq87YWqPorS7IsNcQL2r8R4llnCgZaJSw4GXQK3gAkdHOowK2/BYfAyrvZtoXOtVc7\n",
       "6EWtRrjET2H1PuGZ9kRGi0vQe9Y1B4qG/vpyqkrIcJA//fstq+8978nM6JQU2vNRCLcms0bJOyHD\n",
       "bTsBoKGdVIeiztMgMnkbeXTWgjg0s5wIXetiiuWg/Mu7Q2iMBCPoRoKoiKpmhXVWH6inWyA7aLRV\n",
       "+SyeeW2t38/kJYI07N+Ag0vIJfy3D57a6Rs0klrTf+LLA0hRWtn7A46zCW2F2M5vAC9/EIC1MOaP\n",
       "7Y8jNP8t8TCjpTmp5oc6g6kByNK64UueZdoXiOp7OJpXwDEf8PFvN+nOukuZHPSqxDnA2jTl73IT\n",
       "3GpuUp5lXUf6sPuYt0NV1UcAAAQKQZ8vRRUsEP8AAR1bcAaU8pFHg6Ml4hExQPkCyFYAP4ONGqB4\n",
       "eM2URVm9XIIi46OQ+f/snb5yacU5GdL7WPfWTAmo3B0ou3sc30TyniFJCmP3F2/fNCAZQMn5Rse5\n",
       "jAvdHibXWo8t9eeUG8Ty2aa6Ht5VGgFLrJ0ZglQxWdojgKSgvxd0fVPhryAMfxoWV0ZLs+eTaIvp\n",
       "8udIqEBtzTc9XIK119Kc9Zh2YxDvvyinpvk+lL90amx9ZDFhcQL0acg+0umceQsl8V5TpcApubOj\n",
       "R7A3Ic2jfdL0niiFgmxojVbhKEEKOfMUrkUz6eJMyFOZTeNsLqTT0BWihXkEKYllRjfHJe/E97dp\n",
       "nNKjIS9Ve7jGP3EhrgaNRsK6GN7nK7Vtj1XuBEErejYjyBQvLda4BDcpWN7Vc0+xPvR+AnMpuaCS\n",
       "SegBAafEIAz16rumDvblf3mov75b8CtdHWp5MAYMB6DJOUHYWYca6ofxHUKp3Jp64WobDcPGzSaa\n",
       "nBqu16tbN0GDrTQ+HNg3I8BdjMyjcnDqG9Dn0W/A+LXcEmYhaHx/Df4PmrnZbV294iQJ6qlO+10I\n",
       "c3iVH+gqQ/uIP1rQKVzjfXxXc67sKDhH9szRCnMDtU7184LQzCFMBaJ6vpmG7hadrLMKU94fxiKc\n",
       "BqgUzHuIhNYpd/j0p2KBBn4EvysbcNAQ4ELoGQ0IRPW0uqvtsGUHcHSgpJrs4VPS2n+nzDXFVybO\n",
       "gty6uaObU/5x1Ol2Ome+VrYNy8EweUinYwD8FFN6TTYRMz/ItZpTkGpM0zjBD/2KLaHGVwh/G8IR\n",
       "cn60dlfXc+qNWy++Xt67D7n81wLFSSIiFmGrAKADZHumRsIXtrOJ7Vky2qigLkKJbxQ0ZNPGBdST\n",
       "ehJDsE5QSBNPyM2jQsRfDx+oTh0wX3bywIyl0uBi0AcPpueRM9tCSv31RcjUU5zTx5qcK6gbWtBj\n",
       "LNFyb6wHj3IzX5iZKNrNxGYhl7NS5sYUrfgpYvwPI4m5xHxrquN8ssEcos1vRaag5VgZgo1KyBbF\n",
       "oYVbLgJJw/P77XdYmqUK7ISaKv3tcg+ON+y69dovl5nFsCkUgqMoogtBYb/UG42Xqc+ST8UczI1P\n",
       "g+EcV9TRxGswdvgSMD4coGaat6tPRF5qzK7WoP+JXsAQTY3ld8B++Czs71NBndNAv5SIrTaoB1fi\n",
       "xZkGW3zzjK/aNU6Ohn3hP/IGn8LpUDb/JVa7ARgxbR0Hq5WPY8SZWePUYrUZn3JgNRcKZ0Gj7+5/\n",
       "pmBGWPBsXCl2JUMigTr+ilraKHJmZZRePjjP+hOizSuXpXlU4V6/9mZT7xX9P/ZLjEHGASZgu7NI\n",
       "xSRv24TZNDVCOzsfyLZQ7vu2olPjLO2NccbDuoEAAAKpAZ9OdEP/AAIKuViAvw6ogHa61xfmzTyR\n",
       "J8RgAiD48zOH1zRaU8xP2ea+urM1OWjODXotOePOiAFsx3cSTflRsswpHCN9XzD6p0fBT3toSXGn\n",
       "yysD9hPe56bLy4y3PKq6M6b5PLNUJVDF67Ycsh0Y5VOIzktEzOPCdOpPnFtkyySXWBFas6tQOPuo\n",
       "IQSc3I003/eQVOE750DJHINM6v6R512bcdYawaZvgGT05rjxOjLpPpz+P8Ge2evledgv2WKkvdxr\n",
       "o43avUeFjTzF144p8uA83whCSslpiBbk+J99eBVPtZvzPquNHCOpVwg2m829epRqTNoLDy+9sSRB\n",
       "nx00uqEvlJVs3R4oRzEd8VsN94i6qzQ1v+CgQOXPNOcF9ozx2K9bUKncH/nSO43O5Oq13yt3AFnR\n",
       "Oeedv0CAyNReHUkIy6crWzFnzQJuJy+KXnjTHUkdzzgixqhrK8UUY9DUkfoOEYIIm/RROyyHrmvH\n",
       "pdAI4ehv1TTONQmnkKYm7VwhZkMN5/cwB5HN9S1DC2xIyhPkhGajrWy8CZPkRnhlKbr038bLBhfQ\n",
       "cco7T+ls/DOASAz855zroOmjlIs/jLj8w8pt/+6iiMk1TmCd8DTHlz+Xn8CPjkeyw/419uGcql1N\n",
       "X1oSmpSVgCgpsWko2s6p2uElKBrKGPQ+yfATggSsGrYIEpliCL5pYDYVsPwlEs5k1F71k5p0sgHW\n",
       "5vSaGlQlAGeNFwI3jzdRF2hTtAkWu56Aw+K50o8bmBtGDShG7T47tKJW+Xn6PTAM2KzCY1cyrnDR\n",
       "HD1deqDatz/eq/yG1uTn/si/bGR2fAr6aU6nEwYNUZgiLyfNuLx51i2UmAtKxHzAH51WWhhgzELy\n",
       "4UKk70KMOVFazX0SWNk1ethyQgE1SLGihT6Wz1BgAAACQwGfUGpD/wACfJGAgA/pEI+872z+j321\n",
       "JPb7sI+BrJgMYUYy9LNwbxyjUJIz9wh/psX03MIKy3lej9XafLMsXItz+H+9/Fdm6sk0ODxwPRjI\n",
       "3CroId8O0N5Nccup4zoLNO6SVQWg3at3zrlV5DB/ZdHMAUv+s0DcbZajixz7Z+Wjr8dVT8TDXgaZ\n",
       "tx/OpPlVh2hcSQr16k7kLHM6Bbu+5ONRSeiESWIdhjVHZhoS4DSBTLxN8RQvvq8YoegD5HhTETSm\n",
       "A9Q6neZ1KpXI6uNE8L8/EBNoeo+QGI4QF5ScETsX/X/mkSePzJhHnOmI3aRDz8WmFbPFhsnG3jXf\n",
       "MVqpj6ldeVaCw9j8gimZyjUCDiPwwCBDsVxOP3vu3WMg2fOfEugHcPiYBzOHRSlV+bSUcJbstc+T\n",
       "NJrrty9ME7wA8JWMujJgrwjwdLiiojNyJziDWi5iSPCMYgGceAMS0lKRyagUjWVInXjyXDIoU/sP\n",
       "ncYXHCXzrckNrA3w7ieuSNydAzGc0pKOoIYWG5BmeLEilpsv3eafUOqmU4IYmradKQ1e3V2P1m4N\n",
       "R/Ze09XucSm+ubND94aKXZiJMfaJ5hoCImWzpjvpryG6PAkg7bm9zgAH9lvKcxDzsVLy2NN0Tjcu\n",
       "TF71fr0BzDRnj3UWfgn5D7qJGifruMhsEWLSIDkpSQdG5SzsJP/PCWoNK8nMMRo9hnFMzPVONq2b\n",
       "Te7+QX2LKAlJ+fZFi6ubuQUNDGEw8a0qXnlBjOFnBgGkB4gsGoJj0+UwiAAABKxBm1JJqEFsmUwI\n",
       "Jf/+tSqAAOOWO/BhIgBcr395zlZMoH4GNnofpw08MqH9KaR2I1sAKFkqiaShSDnE6e/jxw+2ET+J\n",
       "Y0Kg2WhvtTktqF245927k5lfQhfXiC2z3nwCiQyzVnsnYZvDJIvoLI8Oje5ZtKNU8ZhSTbqyCprH\n",
       "8P7j4G4u/DgcgM0loH+z2bj0syLdEhtk+Tfbg0XVj1d9g7L8ozbapG+I8pGdnuBbwjBt7ucUVLyg\n",
       "vd2vupd8b9moHksiZy0f+PLg85+4fQCwhTCS68hfwKlt9n8Aa96oxRjF+yO9nHg47f5dOal3TeXg\n",
       "8K/P+BOleFcLbaiEylVx4AbGRpCFW71HEw6fIHYCsVK5mTLh/0gqdgejAwiQIP+VIOHqG9Fz3A8R\n",
       "Dtsnj4vH1l7eUixa5yzhY9Nrlk0wXJQxA6HDXuciuouwZz5NRSDbP3g42/YNqu0ki0wPh5WBERZL\n",
       "ZSdMOguxNXmX6Rt4rpaYIYatdKmTvJwJ5U5ZVjGf9QKNhhKA07gqQIZzCdb5xHPPAORwkSS/06LA\n",
       "NGufWbW0rIcUqtb3Z+L0W5QAduIXmbFA/XrbylJI97+ekNlj/4ABHesdzmZnL7me3aIvOqSufVJw\n",
       "6bRFPnKs75FV7yNCEck4B25/eKrE5l0nqSJiPNXvzgNNEOiPDp8E7NTOBPL5quubmlnBjiqerTms\n",
       "md++VGbivqBk4j0BVF9bkOA6v5ti3ZOUxQWQ6a1sscxJrX2UH89xOY/JcSzS3F8G9KP6J0MYNyq/\n",
       "epblkYj6/47U65ci5aEmp8mavC6pIc7L3jOrWIL62NOwCMLI3hB1UB4cHRnc6VPHrMf0qR4W+LnM\n",
       "qNPJ44DrGmcoOv0qNLOhMkSJgfgk7DOflLYRpIrOdCgrWAr6R3QpiV3pR97vdUa92eOnSBKo7KIK\n",
       "iVR5DGiWk8D8eck7zdsP4ARI50vYJogVRU3NKXprxQKYgjAUb+/w4kz5ZFq2UgrbHpft/ivYPlcj\n",
       "9Va9HnxevzWFGqMoIuFn9IpWKBjMud34wNqR8chFWvUtIqTn7armCYAx0yfpcuzFF2gw17uVDIfP\n",
       "rwN9WV/8EVrxEKTBJ5Y7/u7XCQ4CJwx3QvJaKC6lOqFLJiyXbwbyjCr/xbaz3N1qJpPEYaG4TG3U\n",
       "7Xvsfm4Vu0kV54RUdwWtDWRgcmcG/dGN4JNinQBEgP0Vdn2VvQBdRJMWyWJnUNPxcax3Wf73AyiI\n",
       "kygYBEHs4AHY9uKq2PS28I06kVwpx2p2Y9urFs49CO+mjNyN2waWJNLzq7bAUsk23uNd92PtRoES\n",
       "rgSXZxcSxXHH6yd+jgGlbWI5Pme3GPYiroNaMpxlSAq9sXGaQ2w/jTrnT9PJEvkrfZRz05v/hG4S\n",
       "3iUS1MT0xFb52CnAl7osEt/jITS/IXyTbZmcIMQOJI/OkotjyEVO0CL74g/7vrpwCPf/09FMB8VR\n",
       "Cs7bEEkHRWPbc9W6l81zjk1GfQTH2ySp9TMn3m8BDrDuxIJpbogDv3aUGY47r7Q+uzAfDIIMk67v\n",
       "1HLCuZPnHwvbBgR6HslKOJxBd8tilGXfJj9AoQNUrJO7BVlUKfuzE6LdR6jxgQAABIxBm3NJ4QpS\n",
       "ZTAgl//+tSqAAOOVJ4ahkAOGtxOcEHmmUljhwh8RtjP3rmVTPYuV4e0yDjJDWTpp2yFFYI4CU/uz\n",
       "5pU38C1ZtEYLl1Zmb+7GKUzmslBTqo9AcUwnGqRM7ehVuOFZvrj8z8TVVX+afZPxIKh854lebDJC\n",
       "BmlprhuJYLVnbv9XlpoVHbW9wX9M0kKuBUZB1RmczcwCRCrSRJyQxAf5LG5XwOGMs9bRS/VeKkzH\n",
       "jBmnPifUkvI+ngmETeyuIgTCbJBNpsIZ2QKyUJWqY5ozbHRx2QroJujqDQbPFKEZFQ3SWKWTJkRR\n",
       "xi1/cQ0ZnWYBGX4PbtX5Y/0g9q5+jC9ep2ct7IJ/5W8IOcg0aw5dstlwfxi0x+mtI2mslswAZ+/W\n",
       "yfi7RQOukfA4zuUQVpcPSCvVLgCZJEbmGfDkVfU9qx08rD2CDnDcOs88EHd5l0/6uFzvYSj+2o/T\n",
       "fTd8QPAMCU21QKD++znYHQgM3V55HBshldEihH7fvCwEEPBNL7N9ykxnQLkjuCv+2E8Oh4qWI2Ae\n",
       "lDohi7tkimr9plc6z7wQcoEi10jR4zoW6dBI3AsZvugnk9zZB9z7Af2VIccEb5zMJJwcxKwCNcLp\n",
       "wAXJTcd5FlR+w9WmjamvCL3I1W+ikQ09BPi1qhiE20WkasmDgcu8svAYL2OeFLC0t1QxsFBJ+g/4\n",
       "oKXJq14Hc0K+drBd/v/8UL6E7bBi9qKU+w9yI2KomzernfaLWdNSvBqYly+sstNxjzRKPjzjb9jf\n",
       "bZFVbSlsXqX2x1USdPsDjSnwu9vZWRJCwf9LqOCTvgUUyiAN6kEmZDv41YBu0NDx490+XXMOwD4P\n",
       "BUAGLrpXbmfpMoAO4Jn+x9ScxRRvFQVOMvZ6F3J6+25cRVKkD2/w83x/copRrw5lcfRo1W5NMlHQ\n",
       "++6WiBeKj2Q6u5sy/DpjRzNbdQdKiJI5BIkkG57muIPKX5KpXLIDWu6A59OM8y8wnR8hbbWZJPa9\n",
       "91MC9XJcGN257HM3OEdlrDSQ2mUoN4f+C5Kmf+mLoRreLORUeeMfkE7xIWfCCmQq0ndOWXhW49Vh\n",
       "5pHxO+wHjG8xG+FODbNoU0exLZa1TqAf8uXLe8glHn4alrKUvjlpMvcdpSp/Ndc4/Bqv7PmW180q\n",
       "4Oyn4FMfIcaCiP3gIUYLzkOQEHClkejf91TgnQjf+lVkAfrXRU6d3o8SyAtYP48e+oyR4LejXI0D\n",
       "rJ+MJOPxv4yLyc8oiIW4NixcjdtM1wBki/L89KD9ZbPJ0i9KmmyOja1+mDwC3hbCAIAKQacR3V0T\n",
       "3VHIe3hvWk8BR4IRCNhCAmmsEUzmP1nSVD17NBm0i73zvIy13PGv9L/3d6UhiIXKz+T7qwj47nt2\n",
       "doxacQXvLi+diG9sCO2lzO9EsAd7H7Zk/9SZXPseNhjSFi8taXjX9jEooNzOq8t0vzeQhn6AUry7\n",
       "suaUjeB6Y0RExmzknZqPRvHG7EDI3PBtBly3KjGb5c1qd5lYOgLr0KWHDUu1SeC/3MeeqPvq89dN\n",
       "L+Y1uq3L/xa6a92y4fMavqQAAAR/QZuUSeEOiZTAgl/+tSqAAOOVJ8jkGQAz6d1tXldMpg4oMk3B\n",
       "j8eJmc2t/b5uw+Pcz4/B1I+pHFqN3jSKMCKmIzbX8YT5LYAnNUtY3ob2ByEsH8aGi6iynPDHd+SC\n",
       "xIhuROugPU14C3Xo/bD9kN1wh00uL4QL0F4QxY2q9qjMPOVlsaATurNiqOeRCfYxBihqC0ynv0Y9\n",
       "Y4Wg7zlCgckdCGP8yO/NW0Q2+EjpDXzk8yCSC3c1dfrfllOjhCJz0Do3NRoj58du4twIuuE6p3lk\n",
       "lsw0DTWCuTTc2reEsNYKNVFOwfu2YrQZ+JPOdwmuknXVKChmLtO/LKcY6IcAdkEdzYCSRzw+3HsW\n",
       "0amgpHJLfST5ttEHHihGPQ3FNKBwHnKb8rkbfKcz9N4u1s8wNAFNEJUwJGKm2qOx8Tj1t8bhxLRg\n",
       "FKFCSdKFxxhSS1zmAC2KiXFbEr4vKo/JXhozqfeakagfDnspaOreShX3CKrZJpAdvP4OaRu4BEzv\n",
       "Z9Bq+T0ah+s/4RO64glLtCOamn+7w1NvqLPGfqCLp+eb+zdbq9Bv0AMJJ0NBJyDwGLWKoPvcB+20\n",
       "+TkTYlhRJLzwar+nR1Kx3/skrFUpvPBln3zDKA7sJZ7bhSjnF6cj9OVLPJ29omugXvKJZ0QVcaS/\n",
       "f2H/77oBakPJ3ITxnXELLqVBb8sDRYtIVdEq352nwY3nwwaC2TF/98lQMAKqUXOYfkrv3KejGbJx\n",
       "OyIVfiD9W22q3o4o0Pgl/67esFfMli1UfWyfkZfD+Xi8CrKkDCMN6RqhL/T3XwLPRBpoeAN0VhNO\n",
       "Sc0JvnmpuNisFONWWRXsSCiPEezLTx7jXzynXfCb/lVaR98TzdL9XDkZESn8wjcfN1E3xfIFU7vK\n",
       "B31GcaSL/kdMTtGEMfJ2jm0Xi9rzSDPtptH2DuE8PdB1WXBroRyeNsvs5ndVRr/wfbNIlGK6cnsD\n",
       "FEwLAZwg6dEaHo0gcaHcmG+qCjRDnnyGSCqhLPCWTJDIQBlcYPoTwAq+ewV0r0Ok2cL+SIACQlLU\n",
       "kQryrtSmyqleqiu3y1xVrCaQRzaotLoDYVZ7/q/cfl13IibKoxHqPzdOE9/X1ATQBMyhWPni1thU\n",
       "SDZaurmZk0ynK2Xc9D3m4xRcWHAYIRDEOkbWofJwUAbzz9MiLyGRJNOpgQNdds2cDehcI3jb8LDO\n",
       "3NM0SRJIf01x+fdOqhGCAvnv7W3IrAj5MiLJ2tKJ4UhoyZPkTfHwL05tlZ1HcPqKkmE4ml3YiIqc\n",
       "GFaxnKqX6geRXWYNNYOap1nNSWlmbH+kFdrA/MzzwSRq3iYeHFGYImMrntBYM/tTwQD5V6WQGinM\n",
       "UnQyJ9rii5Lqx35Hge3anK/H9RqOtJnilVkDvkYR5MGNhorz3oiTTxe70taotZ70d0w4gS44faLE\n",
       "398bXi6y+qv80Ro3F3CKOJlv08vuc/vNQ3w1FYEd5qzRiE3jDGc2UfrC9LnAGjycHJ+yGbwZdCq+\n",
       "BtSse2hTmz6gt0awJeikYXyjyE3W9O/zoIP58ubJv/AAAAReQZu1SeEPJlMCCX/+tSqAAOOVJ4uN\n",
       "IAiwjAQCo/bVZhGIPO84rZTz30hrTAfNmff0QHEzQDsj2d/Z4ElMyOGPwcxgvtBsKIsjuRcj+hGw\n",
       "P03XhF4G8nH991gUWEcHZ5DlGMJ7x+l289mQ+i0xIbDFbyc1ZFwSA4Wb5fh3skBGdMgKk0XCxND0\n",
       "u7NF0jzI6ur7DBMM0oIo+TvwnOP6up2FJFyQ+EC5/bkFHmftuv1gwcENn10EHBHgfPnenv09yapw\n",
       "jxnRWJQ6AdGIqqFU90kSblCgbIdioJNAzlZsDfWFWVlLAvqJSoSK2ziiOw0tzlWkiJkE7K/3w/rM\n",
       "VTH8r/VQm2VYM2B36SQXXkJfCYQdqeI53nXmExeOLH+DtZyf/7Ut/w1j+BdvPba4kwJmH5cuYlrd\n",
       "rf0sUv7RmntJUTJodBs2mbWJl14ue8pSN/iSSZj9KB3Gmy7q6Bdkse1tV6cXcKoVPNK6KC7Tod5n\n",
       "4ENN8PQDWJ6lu+1ZOJaVc08M3+v/2ztPsozOThtReXW9I5RDwE8din0o03AxjBmibaBSyQGHD9r9\n",
       "h/MP0iJ2VM58z8DMq2hQ6kxlNjXTHG4BanojAl4EEMmSxfUuzlqpVScg2B2v1JH+kLvqvIAzf7o0\n",
       "WNWGSYCN4t0dUkIqfFfIPayI85ZPkbuL2eg7UdAfQbB0aBkigjVnkTs/RedI6DYFVk9+br3WRigX\n",
       "/7+N+Ol6oxbC69+dzQT9PtXhGIBGOyeab9/PN1QkybcBuDPpV+QF5GnGBsaFxAO2Cv5AUSEAA01+\n",
       "5hTQAjy5RIMMZIi2bPsW98wLdNLZMVLL4sH2TXv5uMCqyMqk/jQGCWB83xe7SoN3mvzZK/3OFywd\n",
       "jGumtRJx8ihNqwxHBIGrMG4eOf50DXUjVE1j/YxTzlTzp0BZsekeSclzWq4fbhUxxJqIZgz2tXf1\n",
       "qL0FqQRCalQFHA3Ux4E604Rpdfk0ZMPFuHXKxd8+X9rTxjUWpdzq6TtejOIn1NCKYlZwM+Bw9XDW\n",
       "jdymqLe4TvYdjfHnOLFjKH4TP0zOJxS8lFax/MFgDDnwwrrwTK2HHFTpcr3XG/CrBGtZc9JP6BHM\n",
       "GsfLdYIU6HCZ6X2fRzg2qrShZCXb4A/IQMJUEiebLDd+r/Y4lchbxBYQM1djpwxA0152bkXwph2j\n",
       "QBIHVyjCP7e3+kiowRnLDbfi4VbEsZx1Dv7FHLFQiIvX0ZI4znQrxKJ7vVma8MANBl8a5dwPu/7H\n",
       "xUMBi4uDHKKO9UJicLWjpJwbD5EKSXFufprV9fosNk9hg8Og1i3OgZrZQoKuVA2bMPlQ64XUxhWF\n",
       "vL36qxkaLpV4SxgB6x3S6w8IOUS3EFepghO/kAtzzlqQPLp8m5iLLMN/VPcAxsSd0WV4YuDyQcBw\n",
       "+7P3qAn0OBgNNmv9ref/qw3lJTlT7LV0aL6noErh2j2uUdL1TEtOSYsCdHeV7lqGIE3TtXRO6/pa\n",
       "NhxsXHFd+6KeO5zURbkAAAPCQZvWSeEPJlMCCX/+tSqAAOOVJ4uNIAiaWsu8v6JMODeS4JvYpqeK\n",
       "EpILTV2Qfdt2amV1nTgm+W4ldCcIYWXrLH6KkiMe7KaUK1+4EtNwGPlbTskmwp4oMqFNVAW9TQrf\n",
       "5VNax/635ApmTDLo3ynDQmTDuksxsCHdZYYzrME8Y0EY3SEOFmQPLbIB6rauxFzogReFyBTQ9jOj\n",
       "pNxOHzWaWLLFS7WPT5dGMhUdJb55CS+AfLHt9OMSF8LUxZWM8rhYkJSxGANoSQsai0LfuFQG7kaY\n",
       "BPoSWXbbjXe1ZTitD76IQTyGd52xmPRWwi4Jof/uTpAxCjqnms0kbuKxjHoaf90uRApWyHpKaZcY\n",
       "RiH0cogXMme00DJ9y7tZQ7uzUTBOk1zd8RdutOCOLsCcqDrIMbOYOpuIZbCmSn5gaxSItPRPPbR+\n",
       "YVhjmHrxIcscnNPN12hqFRg9TTK2OVhFEvAG9zZnZsfhjaPa55ccdkXH3Pn/ShGdk6orBB0UrCRV\n",
       "RzBYSnfOVkq78Nua30vMAr/uY4n0NEXwVWuy9OXto+jeH+NV95w60q0JVoHFuopufgU8tHZA9HlO\n",
       "rVgqJ7wVkkbUO22ftLVmWkSQ6MgmmTl9iJ0ihsk6/32D1zBa8sR6F+SQzNdHFtNY/u3rtpkb7Rgc\n",
       "IjuORkY2SljQLpO4iKX785CXz/G9Wx+w+dr4g+Cx92lu+YfYFyKfwJYPnEVPm6uy52wwjt0n0KEX\n",
       "0ZGWRLYAFDNsJxvxh8Bmb23cKzXLVjcYxsHAvBMNehhas2suXPhrp4gDdMPlZQytsSax5JSLlWrA\n",
       "mxehFzuPmaYidv+6HIqHnExvdwOvJhKkw9DnlVlG1YZRiZYgZdkmVz64Tw3gMxtqKOPMWbEfeDEv\n",
       "/imiSxtrFo2/1vmIB6EU7gyr2zD2Mxi4B0z8cCgiRhHsWCp2jl5pHhv7rP44+arIx+q1H/LJJzXz\n",
       "qv/OixDdKgM2oFsMJZ4qx0FrhJN17NukgoTk//UHoxICV3/ewsopUEnrrV6zkSqGp/D6e7+dqq/Y\n",
       "smyLieaf5TYwQxwp7bzImklvHQVT9H7UF5ekQVHQ12rHESYcb8JJh/r8HRmTvnMUACBX+q03fqN8\n",
       "TR1/T/hhjkpE5+5pgVzlBHn9X+nKVZmARqc+th5X8KKiA11UFReKk+W3Pug8271fv74rZrz3OLxZ\n",
       "cPpAWA7jGuZmrNZrivkycIIoQnDjg1BaHXaHFosjY925M2CzZMiJqCe34lCwvCARpOe/msG1tdf1\n",
       "hLhEB0PcIbcgRm4AAAOZQZv3SeEPJlMCCX/+tSqAAOOVTy/wQMAIxynmS9PhH5eSsyU/DQuEASqe\n",
       "9ps6EVKW6I4+ccr0RdUyzcC8jkwqZC76kssLkKudE1Rn7Ub61vRzuugqR2xicjNQ/EfmQ8zfUBqh\n",
       "YWxMO9WJdYCheIvfh1VCRUqbmVdo7gpBjNFGIGn2cR0r6NFQNs44SvWFv2zlIrW9GScsAtnTKzUI\n",
       "CQmH7WkgL8Eylufv1PW3LFcU9A7mvYI92BRGHnQ/ZUUKdXpJMsb2hWXE/4WMdJULmPsFiVjEo8cQ\n",
       "IiVSa/B+qIjRsJ+4Dfultxe33jTnJhym+gwaC6I8rzskc+rXAzMhkp+TLLN0lsZW7KCkUfKFncbE\n",
       "ueucqP5Pz90htZjPstMy4WMyPhLCTjV/llQUX7DWTmNY9mnT4IlcajJm/tgXNqf0+u95lQLCX6xt\n",
       "b1DvpqA/WoKhFBGQcoCcux0OBgqyAWYuFWoMCG0lWV/2isoqI9Iq0r/FiDJMMBTOHgLvHljzFqxJ\n",
       "snCzfGAULq8p/CdUJYrZm9bS8lbRP6v3x7CqpohgMU3dspCBQl0WQ/ey1NctBlJfM5RWuArZposr\n",
       "CciK7sY85iY9Do0FXbk/fGX0oqiJyxYOen5kVs2yXOnKMkXeyNgOEldesT6DeKKxviVZw0HsurtF\n",
       "vaiq1VvNOJd6TOQmuPnpJ6c5z4m6Rjc03Vkeo//ZQ4xlr2twOEIV3JaQzKroBdpB0KTkF8eo5hD4\n",
       "+99rsIkn3L+dy/JWk7/yPNR0ZEqwGFGo4Noxq+iWxgx4XaImz5MHzH5xYNugStcSZumu+sPa7fkc\n",
       "/vrFw5pOtP2HS0AMpJbfwD+O+9vHC5q5F1zLkZ4UYKeR6m/KOUR4FDpDbSDG0F/oQYwmqJeB2PPV\n",
       "nD17StGuFXV2RZ/Ojjen6UfstPEd4W/sn+B+LYBVGFJyWet8xUelanAz02jXFdYZOr15kkEsdZFL\n",
       "AIbGCwyVAJvQWzBRUMJNufz2kjR6e62D3xYJ2czffEh125eLcXGY9ZriP4ck6Zz+mYBjo3w0pbjT\n",
       "Wr0rl3ptrZkn/Hp5u0Nr/nLKr4J1wzv4MxdDWHEeUnI+UoXjIiR21rFaQ9RONNmVHYpAh5Orymm/\n",
       "CMgJ9Xn3gYomZ//0eNcfwUlGxeeVqKTxbfaluLWfvfs6y8jWxcEjMygpuXF3r1RUA2BikHZYV2qQ\n",
       "UyrPZhDedR7N9BI2PCMeQJ9LCSDk0nbBAAADlEGaGEnhDyZTAgl//rUqgADjlVFvqsADdudZA8hp\n",
       "qpwKFRio7TpwjP7FGZ33nRtK/t00+tgovJeoOpWiwOcgc2FGAvyNMda46EP8tjA8N4bE7gJZjWgg\n",
       "6iU8pcizW4UnnGs9uf4Hy1yhDa3KVNVNtOYReuf1Z+NABFQWMxJ/tCHP0crqh4zQ4OojY8F/8lY0\n",
       "HXBgXy6iXDc7yMiTqPZiAzW2MTC7DvQirOP4nGuWZG/rtbwOH59SA7lpgC7mzpyB/Rwc65NjCf1q\n",
       "Az16YmgjfuW6r8Up3jlyZt/AlpGm0l9UEtDR5LXLuHN9CqbADUSWVPPpS6PR3RwztCLcx2TXJRar\n",
       "jJ7oJRDnMAl+k8pBDiZzgHqUYG8ZdzUZyeJ4zbvoYUzhjL+eceGhKWkRJOVRf+e5JzCyevSN8WkR\n",
       "/dB7IzCqYOc+DqqLoqSW5343PeXFq65j7hi4ZGen66JUaD5dqaf6ug9YXhUkiHgD7KQN8K7ey9JO\n",
       "PKHth7AsD63idrPZMgk/eh7RXIbOI76VQTVyW8VubJqXlU+MOZKIAAfFbHZsyje913LqvFCxtZKX\n",
       "Ympxkp8z0uEgXMVW25K/gSUUxzYJpjwH/OM2KGTIQ7JMuJAbCUCkGC3eeeMCvbrK92srlR5Mx5o+\n",
       "G9LEBt8AC4uyfieDFFXykyFIYd/RVxLlp1/UWkV1nlGt+QFmfjzHS9jOYalTIgRB/xqEYC8loHHh\n",
       "wuHyFEA+dE4gtx2Bun4SRUzR5tGqqkoEqpbAG31XFDE/IJz5NhMIbu4YITCZrQMBBpyrMG25aTwn\n",
       "5nhESuMITA4fAYTUJ0BoO4uOqt1fSqr9Nsrnw5in9ZgrqRhkC3M3FhCexyKj+M0U2SoKQvmDgpxQ\n",
       "NDvk/6Zi/8qrVWPrkyn44vcbO+ZTs+cY6J/2rw7sintPKMo/QEEFuPAaw/iCu+/wEfzQBGsxwa+e\n",
       "Bg4gXi5P/EIq1S52jpGMso0XaWjXGUs2w9z9YuDyQNiWjNoskfsaH7QijC3E9b5wTcPj6N27AVHm\n",
       "MAyV7MxAsM9TE9U1FltPibfHj4h81QVjJvXlY5mlALjRpbyC356gpxVlKsfR2ZKBs9g5rIr2hYwk\n",
       "QmPN0aexlmEGxLMRyqCuH6nHH26Vn/DXtOlAOV+wc8OjpJ7/3KVWIVg78Lz+UXYJcE0hxkyeVyVL\n",
       "JdkI37R31rhTPRH7K+DH82rmvn1IOK9FuBTkjm2ebN0AAAOBQZo5SeEPJlMCCX/+tSqAAOOUfXLd\n",
       "mAFbfB3SVj/ZMVAJB7udHV1s94lRGJCxlYbxicZhJtmeGqTBSsB2JSqg42QyPFnRC265flt8o03k\n",
       "AhqJ9/0GFUnkK1at7hP+dvsn9MjWbckzECbgdaxBltNY0cES4Di8iGGk7fjti/IlW6IUMYEt+PSO\n",
       "Ewe78IMcWX//xb7KTxUPRAAbLBCtbkBIhxokYiyQiWeF+pMMxsM9haTT1rTOoMeXLhhqrh23xVrf\n",
       "7qQH1xNMJJouyn0g62idsB7ccGGTq6HIbIVVZ+O4bV6u9rSQiGfjFOp8LibayNQt4K6DvcSH585G\n",
       "hVtrV+zUVTAew61x+TYZL5FegDtOaZhCzc5yUB+TvXDrsir+rpWcSWYyEyRL/UEcxXfHOkY7Dh1d\n",
       "1FJna/sUd06RFMK2OAoeLscguGhgmoAN6+Ougx0Xs8+9sXeh3i1L7ATRy82+nnJYnVjeqKglS6F2\n",
       "0m5Uz2r8Wjx4c7CaucdOPxSsLCb8e1Bg6YoXI7QX2ZsxSWp8JGQs9153HrHs94GhJ3XSkQmEFylw\n",
       "gx6z30ezQva8YjVwGyObnXeKXXXwQhUYUUhUxW5FAOepnDv/TVcxuAQTphmwuiotu29btdMKh3bI\n",
       "bl+RmLPQt83qU1jbLHJQznEutOXmH3tS0NOR2evTaxRNw7acTQQLepaQCeqfroizQpZFuRzYXyYq\n",
       "ZkcvE0PBbidto4VLZ+oYFn8HrXEfY+rruM005O/QeDdqBDl5sETLjUGmg+lqAj2L0KvEc28zDonu\n",
       "Uw5BTSZrlwTeYXm7ZqasRxZDXV8Zf1+HjtZHmkwYgi5V0mMR0MdtKFCYzfJliCo3puGKgzP9OWXo\n",
       "2bTGpbT7RA5OI8SPV9qOgCrDXHbrlu1vMlzZ4wiR3qwxrY1Pmhfhr4ShNBRcchvZKghq4saXJOEE\n",
       "wJ0AKPzLng1mffVWBBQPIloLgDVvP8Q9PTugHvNHhY8jKPcxPCIUM+ZtUGgtyqBF+UVAuIHU8QDk\n",
       "cVR3EKF8iF2TF6e3pFQ5SP4BckS5jGBawG+YU3cZgFJ5YUiECDfajJt4aTteNluhwnVSZKgXHcsy\n",
       "FwE31rKrE19OLu5Gd0m6AYy8xQAWrFJM4rkzkGxJnfvSIJk+am7+KkYTbI0LDQtoY5hBC1CF3r6h\n",
       "QvwoqUOAw5hGHLrnewzfWLVYBLNwAAADNkGaWknhDyZTAgl//rUqgADkvQEoAsSOdaT34SVa/Le/\n",
       "KjyUw8rwU9mk3gjuBTcS3Y5El+yjhRH38OKga07rDpWiNpeWZMUbl8+NN0/8lfWbO0+CSVofI0NR\n",
       "ixHq/AGMq7tfCEUztYqG8ltMNq+VLEt8IUQiEHcZYbf3wEZgF/SHSRBMxzNOEJLOqV0LBGd4P8IT\n",
       "Xgp9VbpVoO1pUQRTlCDwofM8uYp7/0j+wdt1xe0nQYO5I+5BvTSGTMMMAEA1OCgYv0ujhYhI9GLw\n",
       "yctSMT5u1p/Tf6PVvgOYanZeE7RpNf6rgPeehb36wxpa3ljgw1oTgYqN9Wrmd3ggw92dMWy4MM3j\n",
       "OdY+TdPFva9hUhABYOaV2k8YjNsq/35+3an6PnUHPLfTNOfouBUeW84WXm3qie1u/2vE1Zp/8yG0\n",
       "hGp5IDQ4dyCMir3mqvDlRbdOTFl2MRPBpaLN7X8/r6ymFyouQH3t7KM1uP1guMKL1BUW9RyzdNSk\n",
       "bQRoEOV0/4LoK8c2My5KD3U+EdQpeyDfDi9LRnWh8G0D+gzFRL24Z/AnoZ5dGY+KJ0feccnboRPt\n",
       "RieAsveBQeOIMzYFLq8IKE/P/WvWxrdPTzhyCr0yhpRt1tsVXiEx8V/hR9f8caBzQqTti3+/12e4\n",
       "i2O2F1phMeTk6AuxfcUgVyQOZscOy1aiojfJMHMk4BKBvJxvKHRY5ebx0Z8DjIHoTcM3Si4HidSv\n",
       "KBZ9zwpsVgeCkDRZc1ieFzIchM26BZGcf5CKb93jJjp6HVfpqRVFd4OYJLz836Lm8aLlH8zjuIKl\n",
       "hDG6UAU/jbASRZ3RQoQTj4dxGz/RKS09jazZ1npVzHE6mGYGPAdoZfIoH4wgELIvxqt8B50q0ODp\n",
       "OBp2Op2KP7tRwK/m7YvMqa+u9I0CSdmsN4AjksysG4E7ifZF2iklpj3OaYO21OqoFyrOnwzv604L\n",
       "dn9aOL0WIM5VCnyCQV3U1pcrP6QPGhzCC1koIKXqoh6oJgnp0yDrdr6TF9gccrnyMJthH1nMlhji\n",
       "MawTINNRQ1vAnqRG5kQ3fMGw1GSgy6iREOlEgVw/oSEAXJ8IaZiVTQC6/Ih70VeytQAAAx5BmntJ\n",
       "4Q8mUwIJf/61KoAA48Qd4AVu92IX57xmWB42UtPFdPrFAJ8nXzLxigO6cRE7bw6QtRguUBoTfiBC\n",
       "rXzX3+VtmU6cIhRkAw06c0BImRZB4iQQIai3pDhmX2IhY7/+ueFwC+pIAexIVh5ZzWb/n0yy2IkA\n",
       "BRizbHYs6UQ0fNag3tDzesWF+YkYhOM1cTd5Y2B1BpPxcq5kmUsbSIqGL4T3U1jfzwgvHo8SQDdE\n",
       "p+Zw5BdaTHrRJBAfOo3UJKscP3Mtr7G12xwcqjiYSVKTSQ9PIiY0P2d/ruYNTX/M8fuIQV7fPI+k\n",
       "QFsBGAgff6IAYK+jrrfVHPIm+IVm+oiEwqzGs2gvOZdGd7u1TnO+sxSkAzDAQM9UOsgHGj7EUcgY\n",
       "9dy+bMfgfbJVVrLPfMdCb+Ds8WlrTYLV6oWLEfaooDdrb1NjteyCRme187eFFuRO9ybm65qNBxNY\n",
       "x99Rdufuk4DqvAT6sSno6obtl2+fmUNo+8+E8h6ZdHlQ5/8Zn3koWm4t7CMeu7C5X7xGgQkF1teY\n",
       "gqtGocvlvf3PtGq1WJutF4VDM5x+E4yybQE6Mf7IZDReTc2ZhBIrgDDqXdTut3QogREjMFnSIwwl\n",
       "mAiyOEr3l7xOpFD64Hjvm0s2P3ESpJGnjOA69Jfjuk1p5z8v+OSRHnpvVgtVni88PxJBdXlJGIN0\n",
       "lJ6GCgIIz+eDd7N59icJWSZ4WrHbP0aviWosTXyUDyYPflW+1kdn7+uhn93GgRRGMX+TS5Hx40JO\n",
       "wblQzdsdnNUbsv92pA/HPr10GpPT9A+Nmc5d6JleRI7DQC2R1yRUJYeEwsW4cUc6xENehgXrkInj\n",
       "wpAtHm65g9e11P3sNkRRLJdomW5hN5Q+uKKlBpW7Lqk24vOW0I+Gf1ROW6infyI2JpjBgW1IahXh\n",
       "9ZGBm4PNAIHhXL+J76MfP7c+IayhdGJTPX3+ox0EqzBd7y3RLRcEdpnQnFh2uEqSgRSORlDBxmYH\n",
       "YTa4tFYQHjUbw83Qy+zXyMujn4nat0rILWo6duA75L4RIhZBhJI5CHAex/SFfBikBsQmEaAAAALQ\n",
       "QZqcSeEPJlMCCX/+tSqAAOPEHeAFbvdpEhxfFr7aKqitCL/e1ZQNrs3SQbE1QZvUWHm3anYqBMaE\n",
       "JBl2wQQs9HDpl4l2mVmCVBIZO1A4jw0qSVMCrp6MpWwXim3dQ02JbCnZVEQNWQxndisPEtrPsuSS\n",
       "gIQA4pJtsmPThWU86BNTZlInTidB6TDp66+gL53eyKXI3oFUjM3S5lnBmgtWl0hCKhjkQ4gl8tw7\n",
       "FMBcfLU5oCS4hosmTZYP2XIgFoEmH7t0wlT3EMjCDYrLia1fhsF8hyDM62Jkw1S+8vcoWZKqjnAI\n",
       "UmoDfDpcl9h5YBQuJuCVgiACAthB1YiNNkR5hYNQzL+piWjc3Vl5k3D6PjWcLQIOudDl2ZWoFBDZ\n",
       "HRxeS8KnEwLRLjmXxCO7xUVyb7/8Qaroh5yD9dliGVEtFPYtmHahBL6Uu2667PKCaaZ11/PTQ1Uo\n",
       "ibofbcvowYkcWgmUj1ByOOwzBwfI4ctglpngurx1LFkju3zv+kbmdfNZLDR2B4j0ygFriCdNjGtz\n",
       "+xZ73LRh8IfDMn7JoAgAJUrptDjw5R/KW1TwbSfCo/kOYBREvP4YVuxudvtsoqycE7LdokJS+BQd\n",
       "9C4tY7TR1CqhztE4qID8TIa0xc3Rg1lW+2tV/fbnJju8lsPw2vXMT3AOS7VmYAlDxI06GG2Ozc6v\n",
       "Ye2YoH9KN3p/fyyHbxpmXCQkk/mQ8x6A0+v/VYw/+7F8fHkPvBKByjGYlZ7yKxdHl0ofPG+D5JQP\n",
       "j5qRoQAhX1YgWmPr8Frnmvsj3JsHUqsJiaWejpEdZEapwSOBU2h1xhrXXUHnTbCuEW2u4sr6HQxf\n",
       "YR7LLwvisdC1wybGa0SpyfGgzBbOXtMycX+4e4cXeqH1HZjEQ/+U8XzQzxfXo8QXU2NRh6QoJrHf\n",
       "7QzM6WEiJETlhz7EzrPl8xp67kUoXsaLgYwDJfSPaMXyqMZtAAAC4kGavUnhDyZTAgl//rUqgADj\n",
       "mfsl47wAqM974W0SESo7+AkrWvSx9muEJ6EpaWLJMcM9NZOjqe0GfYsz16x2UwpT95fUQs+5T+Q+\n",
       "MhU2ISxn2kUtCJHKmyuduCWGN5KCTan0Ym03m5gRwOq0GSNInLQmtYaZn9NUZSudADReZUaGubyI\n",
       "xS0vJEuhK7TxSShDWeNtdyfefPWA8rrZxXCIT2XADkFoRjnT03d1hheQjyemorKYlrO+uA+JUDec\n",
       "mKZOcTxDWoCh71dYxeE6JvFBd8ACX0aFIMDbNq5tm45RXHppmi76KAihWAdJWl5Az3HRHjighesw\n",
       "9vDAZ2DNrmKV+YkJbXP8MCBWSJfXXCYyHDexlQ5qWz/SBepy48lcIjT3eP9MkVx3hckzaGvElsdJ\n",
       "8+nIHHflgXlMYT1iOVwgoldwmqB1S3Qbld5EAt5utIBKEj3Zlw1VPeOKuaKWPBH8qOvq9lQjlLm3\n",
       "/+gxfD8UE+tWKSiwfTozReatEjg5KVmnNPJ1AwMFCEm/CN6hoGCCfdwIZVV1Pam/iBJoT1sItqZI\n",
       "GUp57lWjmljF/bPBtQaWzuECXID+vqQcxI6f835q4uw++DpvyUHZ+PWCgMJQIJrAG3osSJjEplZU\n",
       "kq5AdKwmT/C2TnuUmksfdSKz7R+IoygzjSxxB/lGVv9OJ8YRPf/rAqwV7KMfUMSB+knLamqT7nbU\n",
       "N/F41fEvRMuKWGG6wVf8XHdvG/0FICtgn7yMTSZEFkLvCaydWzQo3azwYjanumzCPH3/dx/hT1Bj\n",
       "cGeac6YOwxdr9GmeVHvIRxvi1xQERj2qXmapltEa6GrUyrMQd5mbc4Q6IvYbBAZOLHs4Mfxx4uYQ\n",
       "7kK+O/QQYInUHL2o9ISa1p/MKMl5g0HEaag5VA8jwflEaJnWDTFFGSQVPG7bwxIdz5PfWOfpMgqZ\n",
       "V01+ejlkBlaS0e4QB89Rf0JL27zl8tbPmAxTuyHI8+ov08QE9QAAAlRBmt5J4Q8mUwIJf/61KoAA\n",
       "45U6ohAAEbuRNff12yWtB6OHrcY6gcalj7HYukIGC5Lu+Edjz0u6v3kswvwRzxwF9Hjr/voX7U7N\n",
       "Ync58CJqqmC1x1Gr1GBB4ZQCjvAucjZmQ2gzA6TY1XyHExV9oJLRRbO8gc0XoZlVi1SLkZFOfZo9\n",
       "2rpLpx/CzI5lbOEdt9LUMPEkkAyFQdBHW9pDDseWzBgV4h/PLosyLcBQvGP9hu6RkayKqHeAuUKL\n",
       "D0tkruguTFtP891o7VUm9ShTqOYZOyS6WVvgP+OX7f2QjyIs9kOs1/gFGXZJCksqPQRREJyCPq+q\n",
       "NPf1ljw9gxRRwWks6b5Cp2WpuO0e5KBjjeSBonfWPRmc9K7xgOEzO49HtJmfnVJYLt7kCvzJdCG5\n",
       "h83ax28ZtQDX38lpmsu1Q47S7CefDzQ9VsxSsTuVoF/YhMHLR97KB8RhGq9E6Oz4/FVSDRBtNoGx\n",
       "GToSja1oMng/3DuMqomE6+V3APuUcZiZxBZ8t1lEQqe42GzdaoCuOddPqzWrKA+pthu3/ADbtJQ3\n",
       "tfm1OEBnMu6IJiLShDzJMCF92fwfRe1kn+Axj4Cg4LNr61EPb67j3hlWyMU6kj2fk9mnb3g28Upb\n",
       "vJpN/0T/S4b7fnob7DdlBP3Ly2KPeshRo1EGJbeW7OIbNoBU76gESzBd1E2ztBngESrLlaeMweDf\n",
       "5tvgaz+mtIl8wvNuBp0YSYARKDdzlkECIxW3b0jQkZwr+MErU+QD/n5QyN9ardnrDk7L8dkf7z37\n",
       "wthhxyl//szF9wAAAppBmv9J4Q8mUwIJf/61KoAA48Qd4AVu91n7YXfbOXM0GS9Luskt/krYQPla\n",
       "IfZHahRXShOjqFDFlvsE6RcmmsKdYSUYhN9vtjRtWkuZse8HrrG0buAIRB2VXNZE/d1iRWHR1VbY\n",
       "xAiZb8SLgm5v3QUXh8BbalEJEXnK7qGJT+e3kEMuN7d4wj4hDJGyJOw8p6yB2qbyNaOloVBw0m0+\n",
       "thVE+rUCJCG9HzgDPFA7IgCq+BxBexR8P4yAeGWulPhSF/dNNTGdguYAqCuQjy9hrnuz1CxiA+BX\n",
       "XIQUOngniNv05Vux1j1XCWss2isAqPwX5vb4rEHMTzOoCPU8ZkyLRpm4Z317vshk/MTz2j2P+lw3\n",
       "kxqwhO592G4KdfDFrzKpst/nlloQ07oNUrP/iyxqaBbwnHf0IfAMyCNAdf5FT1DVHGCFt9EvuyiN\n",
       "qWRhb3fK8ZgIlFR3yg9aANRQr3PPZvRZtD/S1UqV88s3EFB6KOSfuSGlYQSKAuSJ3kVYPIRpzpJl\n",
       "m9lmBI1r1f/WoZA3Y9T+wax2SAZ7XlYdCbX4919YLacDUwlTpOXknfeuJ2hUwEUgpgLam0o2P8e2\n",
       "huGjXrhIsbNfKW9XH2xFj62auLugt/zZQPXO6U3yJKR/K6gDbjT2av+Xfl4DNGAWFGx17+tfLsrv\n",
       "NnRcK+fiPk10JwjjKF3oMxbTzyFHoAg89iHp20so146hs4U78Q7LL7pMVG+dBQNOUOmlj30Ueftr\n",
       "kLn+4/78kyukcz9X/eJZ7+gZVLXk8Vv4JfCmB0l4zcOOAC3+Mw2WGag6l3JLcz6qDa6rzLKIiQv3\n",
       "o/fovmOAcK/iS2R0eKkLPdMdQZVMPp1bnxt3kEGU+q2h0xfFVGHPb5TrOGYtz5M2I50ft0AAAAHc\n",
       "QZsASeEPJlMCCf/+tSqAAOPEIGAEZEMv6l1MfLiQ88sOPQ7Es4UvWRNQWkgSanG+3p76+FBJWGiZ\n",
       "w/+ci9bJn/YZ7KZUz4bAKZt33umu+NTi5+XwFEis4D5waFZrPfhIgDhPME5BM7FpgXIm9z8PyBWQ\n",
       "dLO393H8r7N91A5qXqyRTkwFCwkEcCrUHYcnxlOvz8TGOC9R5YrEizC/2wo7fVlGcvhaA6NN/Ddw\n",
       "1eGnGusUzWLZ+IWtWmI9mYSPuGeKwPmObk0H7qj8bafjRuqmvEuCdmrv8EGYuXEc/0uwGqnS5hgm\n",
       "4JeeRf/4z7snn16ieA6G1nWAlXMAc6254DwBWs/7ym9Ju9FdsS4hu8J5gE7kYrnaMYOXAe1Ci3Eb\n",
       "0zCJm54oLV97rahQSezc+3Veb1GbNVtrTY0nISGb7/FSbNgG1f0Axf9MfVM1stXmWBzhv6ke/2fv\n",
       "VNO0Bh5CVAkQDNnCGypSz0ssTPrwyCS6R3eKtR2sWRvIGgUZpNAvcj9Ahj1wiWBSdf/fi47nK4w/\n",
       "17R3MOIFMEXGUdcQ82U1YUbU9G7/OIflgPtNrYq3zytf9Vwgoa6Bzzi3dNaop1kBDgv/cnGDZlYU\n",
       "mfD3wOPiH9C6ltC4IV4Qhz5NKmEAAAKcQZsiSeEPJlMFETwT//61KoAA5D6JAwAjIh0mxrAIaeCc\n",
       "N1bLQUq2NqH7GEDq4ao5C6OC051EHFAgynp36jELrmxe1D6kOjtSkuWqKLG0OcdaoTyfyqmRmJih\n",
       "B12R4HnMTfGs4kALv1VsM094Ntjy2qWoswFpBp8mMseV8uwuYrDLXVt9ML8H8cIwbim+GvHPZIBm\n",
       "+WZmCAtKde7in3N26YFeJ1hgmkgwl6tn2ZWfUFHd1+metVcCK76IuZSJusy0zoebGva2P4mcXzu8\n",
       "ht5TuE49mLRc3qvVNJtCxUjTeHMksqKWxXyB3o7BM7IDVz5OautNZxXbuYOScy93TRZv3mo04/Li\n",
       "zzLQZPE57omiiLyqZKWpyRp/6+cIXae02JAub9vETwNREPMPZKjveAyBX3fanTo6FZvh2WgMcVY0\n",
       "pfs31Ucrm/EjYXXhb+PXgibVbbsNsjviLLOZFwyVTcJAtlKMIRP7ZcDVab7FIJ8b/kTRXqGbWGT/\n",
       "9NDNvnygOW5vrmFQHTkNFc8buJ4YFM8vatHF0wd/6AyOGd3zhNewrzHjrPLRXXqQN0NxlxFAhj6b\n",
       "Ct3ll9Qs8Pa78HOAY1IllHsrOZfoaKgQ9nHnBVjbzbkAIHHh1iZok/NX2a6qu8UtEhjquI+buu/7\n",
       "RWuRSoTkmQ7juQy9dPwXWeTl5c9f4gL2hd1arPgTotng4kkkmiWzfdHvPoIypbZ6eBIca6pzOP4i\n",
       "jM6Gsx4lNBCYBFbTtManeC0FYRngiU7UA5CL0LQ4cRla8ZlJ6Ie+Azy3VDoIEOgkD+2o3qqNcmta\n",
       "D3cW2Bu5ujjwyeqF90ng3/AHAa6Ok2w4svTPXuUS7XUkZKB12q1aDdjEZO9EK+NpuuVh7Gc7CCo9\n",
       "3Khw+FtM1TAAAAAOAZ9BakP/AAC88lA+UkEAAAHyQZtESeEPJlMFPBP//rUqgADjmzu/Q5ACGdMp\n",
       "U+UW3EgU7OI6WD9WO/XCgkD+Sc7l8ss/FrwI/xhBP+xAqHfyCPwNlgOQdZR0tplKYYc8FP9LmMD+\n",
       "lBzDm01hoft55WHL21sueHbi/vKA7Wy2OC06DuUOH8a3g0crbV1ZDntlSmBttuIy2UNNWyKI22AK\n",
       "IoKgpkDGgjB01j+Mbr9SyOkJWXwmVg43/6qNhhfiEjnszam45xsLoGtoGd17dVmcEEqcQ4ldWiFK\n",
       "3PnXfzKdnZyDRh3uUbTBKi7tiqF17vPfygNQXu9NrlKanWQtH75nnwZW6wFJYdVfc8Np62NkJRuW\n",
       "jMjmETngEGPjtla/QY/ktHTKyx/FRwn0eU5RicuCwnFDeXoox8euRbFqcrYY4Ufp3VGvMNSl9npC\n",
       "MPQYlpBaKaqhLAWiloCFvJu325aJGe/kzyWsaynj4g5TRNviW1hhzfspkpVm1Lbz6KFxpFVn6dia\n",
       "8zC2iHUJ7Wph7un3sotli+xgJ8hJOpPSba9EaQFYPKvvk4XL6aYUPlGELUkYE6mDEO8VKpsSBF7i\n",
       "0vwelKGAcuizlukLk9QoBeKYj5U4D3c2Sxyb2dzBLRx304X7yni/myiafwBkLoyLkdw74ItJy1cQ\n",
       "yOTBpESHIuyaT9RU55VQAAAADgGfY2pD/wAAvPJQPlJBAAACMUGbaEnhDyZTAgn//rUqgADjxCBg\n",
       "A41kkldkqZq3/a9QEgSZmXREPxYfAgAdSem8PLdQHEBMMQbN/JdjRzQGXhky/eyipc90HmgxSjKJ\n",
       "cIF4vvvn6bRxs0pydGLKA4R/id2H+VnAn1uq1539hmxMnsNGk45yABrzJOHEW+JsMjDm6AOMl1Aj\n",
       "+O9rmbddwdh0Lvec50wJzuuCmmuASZM1S88Wiu5p6OCejK241gCqn5FeLTtfgOHE0sCORt2JhEkx\n",
       "HkR4MlK2ZIjjz4VpQrnXDhG1sc4PmUJV56ok9a44AnDKejDxalZhcWtf0Bcwvz/g0uZ2jBP8Nbfn\n",
       "g5r2ofpxJbYXSBeUcQGoADr+zyUtzL544pm/0jprkGDSIv4ZPhBRlrFM9oUM+XSAXVdUmQ5jmuSU\n",
       "CXDSOIH3/2+llxtwD2fsqjbZgbGnVFnaIY3B4HG0NntuTa1Dxf/9XOS8l365qgoVFeWHEaLEOW83\n",
       "i5eNrhjWLyAD9ResoV/srIPu1oA4+Z2pzYPFDdpo6FqRrWXwFGvGQ6AceDbW+xLMHReeLG/kywPf\n",
       "UuoICCtDsWPCXb8j+fybF0i3IAqE4HwmPG4Z+mNw3hAc0zg+19nkAewVN9sVDF4kJbzK6eCo72fM\n",
       "n8C34iXqz1zSJyLZcrn9Sj3xbOmGsebFEcyb0cucxFLlAH/hJc2fSRrTF48ssLBob38HVj1wBw5E\n",
       "iPDyRIkWUciJFMNIIdtcAllxqL8Pet81K9KnTQAAABNBn4ZFETwQ/wAAVWo/W+r2CODBAAAADQGf\n",
       "pXRD/wAAO1XyE6sAAAANAZ+nakP/AAA7XZAIbQAAAUFBm6xJqEFomUwIJf/+tSqAAOPEHeADcBxR\n",
       "YWqqCJLp38xPTYGYXsykdY55b0wIuzUDQvpseTu4sy9Q0ttIJT5L1t4yzIeAUH+FmGNMfrpqmda8\n",
       "Y3Otd8hZqFDzUN4SpCA4VctVSy/748To+eGDW6w5/FxqKtEQenpXxZIsPFbp7UDoLcioGn9Q3Cvi\n",
       "ztANgOfknmLPKKXCyspX7vA+v9DDkd1SmTupamQDDf1oJ0irbzG0Zpdj0WzOcPDlAzmhYGSgtJN9\n",
       "8tM97CFxtmmp2nMLHAG1c8Ep3pV0wV8l52xh1ZoR9vvVIIJOjQ+r3NDqO9MvxRRy4RQpJRKJJWhk\n",
       "FeydY6wu/FyYZNjKCCbExSVgPnxEdZe50Mu07JExSF2zfBpWQXmoYsHQV+acZuhuEY9Bh3TGTokL\n",
       "Y/1Jhe8Cmk+FdpgAAAATQZ/KRREsEP8AAFZLTT/yFPHBgQAAABABn+l0Q/8AADtV8l4QK5+QAAAA\n",
       "DQGf62pD/wAAO12QCG0AAAA7QZvwSahBbJlMCCH//qpVAAHHQ2hgAnOUG5e3h12idSJCq3fbDPEo\n",
       "Ow8NPXVuFSHdTZCXejadFhbcnsEAAAAVQZ4ORRUsEP8AAFZLTT/yFPSknObBAAAADQGeLXRD/wAA\n",
       "O1XyE6sAAAANAZ4vakP/AAA7XZAIbQAAABVBmjFJqEFsmUwIf//+qZYAAAMA8IAAAAUWbW9vdgAA\n",
       "AGxtdmhkAAAAAAAAAAAAAAAAAAAD6AAAJxAAAQAAAQAAAAAAAAAAAAAAAAEAAAAAAAAAAAAAAAAA\n",
       "AAABAAAAAAAAAAAAAAAAAABAAAAAAAAAAAAAAAAAAAAAAAAAAAAAAAAAAAAAAAAAAgAABEB0cmFr\n",
       "AAAAXHRraGQAAAADAAAAAAAAAAAAAAABAAAAAAAAJxAAAAAAAAAAAAAAAAAAAAAAAAEAAAAAAAAA\n",
       "AAAAAAAAAAABAAAAAAAAAAAAAAAAAABAAAAAAbAAAAEgAAAAAAAkZWR0cwAAABxlbHN0AAAAAAAA\n",
       "AAEAACcQAAAQAAABAAAAAAO4bWRpYQAAACBtZGhkAAAAAAAAAAAAAAAAAAAoAAABkABVxAAAAAAA\n",
       "LWhkbHIAAAAAAAAAAHZpZGUAAAAAAAAAAAAAAABWaWRlb0hhbmRsZXIAAAADY21pbmYAAAAUdm1o\n",
       "ZAAAAAEAAAAAAAAAAAAAACRkaW5mAAAAHGRyZWYAAAAAAAAAAQAAAAx1cmwgAAAAAQAAAyNzdGJs\n",
       "AAAAs3N0c2QAAAAAAAAAAQAAAKNhdmMxAAAAAAAAAAEAAAAAAAAAAAAAAAAAAAAAAbABIABIAAAA\n",
       "SAAAAAAAAAABAAAAAAAAAAAAAAAAAAAAAAAAAAAAAAAAAAAAAAAAAAAAGP//AAAAMWF2Y0MBZAAV\n",
       "/+EAGGdkABWs2UGwloQAAAMABAAAAwAoPFi2WAEABmjr48siwAAAABx1dWlka2hA8l8kT8W6OaUb\n",
       "zwMj8wAAAAAAAAAYc3R0cwAAAAAAAAABAAAAMgAACAAAAAAUc3RzcwAAAAAAAAABAAAAAQAAATBj\n",
       "dHRzAAAAAAAAACQAAAABAAAQAAAAAAEAACgAAAAAAQAAEAAAAAABAAAAAAAAAAEAAAgAAAAAAQAA\n",
       "EAAAAAABAAAoAAAAAAEAABAAAAAAAQAAAAAAAAABAAAIAAAAAAEAACgAAAAAAQAAEAAAAAABAAAA\n",
       "AAAAAAEAAAgAAAAAAQAAKAAAAAABAAAQAAAAAAEAAAAAAAAAAQAACAAAAAAPAAAQAAAAAAEAABgA\n",
       "AAAAAQAACAAAAAABAAAYAAAAAAEAAAgAAAAAAQAAKAAAAAABAAAQAAAAAAEAAAAAAAAAAQAACAAA\n",
       "AAABAAAoAAAAAAEAABAAAAAAAQAAAAAAAAABAAAIAAAAAAEAACgAAAAAAQAAEAAAAAABAAAAAAAA\n",
       "AAEAAAgAAAAAAQAAEAAAAAAcc3RzYwAAAAAAAAABAAAAAQAAADIAAAABAAAA3HN0c3oAAAAAAAAA\n",
       "AAAAADIAAEV5AAAIgwAABVoAAAUZAAAD7wAAA14AAAYSAAADYQAAAoIAAALWAAAGxgAABEQAAAMl\n",
       "AAAC3gAABpQAAAQOAAACrQAAAkcAAASwAAAEkAAABIMAAARiAAADxgAAA50AAAOYAAADhQAAAzoA\n",
       "AAMiAAAC1AAAAuYAAAJYAAACngAAAeAAAAKgAAAAEgAAAfYAAAASAAACNQAAABcAAAARAAAAEQAA\n",
       "AUUAAAAXAAAAFAAAABEAAAA/AAAAGQAAABEAAAARAAAAGQAAABRzdGNvAAAAAAAAAAEAAAAsAAAA\n",
       "YnVkdGEAAABabWV0YQAAAAAAAAAhaGRscgAAAAAAAAAAbWRpcmFwcGwAAAAAAAAAAAAAAAAtaWxz\n",
       "dAAAACWpdG9vAAAAHWRhdGEAAAABAAAAAExhdmY1OC4yOS4xMDA=\n",
       "\">\n",
       "  Your browser does not support the video tag.\n",
       "</video>"
      ],
      "text/plain": [
       "<IPython.core.display.HTML object>"
      ]
     },
     "execution_count": 109,
     "metadata": {},
     "output_type": "execute_result"
    },
    {
     "data": {
      "image/png": "[encoded data removed]",
      "text/plain": [
       "<Figure size 432x288 with 1 Axes>"
      ]
     },
     "metadata": {
      "needs_background": "light"
     },
     "output_type": "display_data"
    }
   ],
   "source": [
    "fig,ax=plt.subplots()\n",
    "ln,=plt.plot([],[],'ro-',animated=True)\n",
    "\n",
    "def init():\n",
    "    plt.scatter(xtrain,ytrain,color='g')\n",
    "    ax.set_xlim(0,1.0)\n",
    "    ax.set_ylim(0,1.0)\n",
    "    return ln,\n",
    "\n",
    "\n",
    "def update_frame(frame):\n",
    "    m,c=mc_values_anim[frame]\n",
    "    x1,y1=-0.5,m *(-0.5) + c\n",
    "    x2,y2=1.5,m * 1.5 + c\n",
    "    ln.set_data([x1,x2],[y1,y2])\n",
    "    return ln,\n",
    "\n",
    "anim=FuncAnimation(fig, update_frame, frames=np.arange(len(mc_values_anim)), init_func=init, blit=True)\n",
    "HTML(anim.to_html5_video())"
   ]
  },
  {
   "cell_type": "code",
   "execution_count": 110,
   "metadata": {},
   "outputs": [
    {
     "data": {
      "text/plain": [
       "[<matplotlib.lines.Line2D at 0x17665e44cc8>]"
      ]
     },
     "execution_count": 110,
     "metadata": {},
     "output_type": "execute_result"
    },
    {
     "data": {
      "image/png": "[encoded data removed]",
      "text/plain": [
       "<Figure size 432x288 with 1 Axes>"
      ]
     },
     "metadata": {
      "needs_background": "light"
     },
     "output_type": "display_data"
    }
   ],
   "source": [
    "plt.scatter(xtrain,ytrain)\n",
    "plt.plot(xtrain,(m*xtrain+c),color='r')"
   ]
  },
  {
   "cell_type": "code",
   "execution_count": 111,
   "metadata": {},
   "outputs": [
    {
     "data": {
      "text/plain": [
       "Text(0, 0.5, 'error values')"
      ]
     },
     "execution_count": 111,
     "metadata": {},
     "output_type": "execute_result"
    },
    {
     "data": {
      "image/png": "[encoded data removed]",
      "text/plain": [
       "<Figure size 432x288 with 1 Axes>"
      ]
     },
     "metadata": {
      "needs_background": "light"
     },
     "output_type": "display_data"
    }
   ],
   "source": [
    "plt.plot(np.arange(len(error_values)),error_values)\n",
    "plt.xlabel('iteration')\n",
    "plt.ylabel('error values')"
   ]
  },
  {
   "cell_type": "code",
   "execution_count": 112,
   "metadata": {},
   "outputs": [],
   "source": [
    "predicted=(m*xtest)+c"
   ]
  },
  {
   "cell_type": "code",
   "execution_count": 113,
   "metadata": {},
   "outputs": [
    {
     "data": {
      "text/plain": [
       "0.017401153789491603"
      ]
     },
     "execution_count": 113,
     "metadata": {},
     "output_type": "execute_result"
    }
   ],
   "source": [
    "mean_squared_error(ytest,predicted)"
   ]
  },
  {
   "cell_type": "markdown",
   "metadata": {},
   "source": []
  },
  {
   "cell_type": "code",
   "execution_count": 114,
   "metadata": {},
   "outputs": [],
   "source": [
    "pr=pd.DataFrame(zip(xtest,ytest,predicted),columns=['xtest','ytest','predicted'])"
   ]
  },
  {
   "cell_type": "code",
   "execution_count": 115,
   "metadata": {},
   "outputs": [
    {
     "data": {
      "text/html": [
       "<div>\n",
       "<style scoped>\n",
       "    .dataframe tbody tr th:only-of-type {\n",
       "        vertical-align: middle;\n",
       "    }\n",
       "\n",
       "    .dataframe tbody tr th {\n",
       "        vertical-align: top;\n",
       "    }\n",
       "\n",
       "    .dataframe thead th {\n",
       "        text-align: right;\n",
       "    }\n",
       "</style>\n",
       "<table border=\"1\" class=\"dataframe\">\n",
       "  <thead>\n",
       "    <tr style=\"text-align: right;\">\n",
       "      <th></th>\n",
       "      <th>xtest</th>\n",
       "      <th>ytest</th>\n",
       "      <th>predicted</th>\n",
       "    </tr>\n",
       "  </thead>\n",
       "  <tbody>\n",
       "    <tr>\n",
       "      <th>0</th>\n",
       "      <td>0.083057</td>\n",
       "      <td>0.533333</td>\n",
       "      <td>0.561759</td>\n",
       "    </tr>\n",
       "    <tr>\n",
       "      <th>1</th>\n",
       "      <td>0.020419</td>\n",
       "      <td>0.815556</td>\n",
       "      <td>0.610364</td>\n",
       "    </tr>\n",
       "    <tr>\n",
       "      <th>2</th>\n",
       "      <td>0.320640</td>\n",
       "      <td>0.335556</td>\n",
       "      <td>0.377403</td>\n",
       "    </tr>\n",
       "    <tr>\n",
       "      <th>3</th>\n",
       "      <td>0.127759</td>\n",
       "      <td>0.402222</td>\n",
       "      <td>0.527072</td>\n",
       "    </tr>\n",
       "    <tr>\n",
       "      <th>4</th>\n",
       "      <td>0.402042</td>\n",
       "      <td>0.235556</td>\n",
       "      <td>0.314238</td>\n",
       "    </tr>\n",
       "  </tbody>\n",
       "</table>\n",
       "</div>"
      ],
      "text/plain": [
       "      xtest     ytest  predicted\n",
       "0  0.083057  0.533333   0.561759\n",
       "1  0.020419  0.815556   0.610364\n",
       "2  0.320640  0.335556   0.377403\n",
       "3  0.127759  0.402222   0.527072\n",
       "4  0.402042  0.235556   0.314238"
      ]
     },
     "execution_count": 115,
     "metadata": {},
     "output_type": "execute_result"
    }
   ],
   "source": [
    "pr.head()"
   ]
  },
  {
   "cell_type": "code",
   "execution_count": 116,
   "metadata": {},
   "outputs": [],
   "source": [
    "x_new=xtest.reshape(-1,1)"
   ]
  },
  {
   "cell_type": "code",
   "execution_count": 117,
   "metadata": {},
   "outputs": [],
   "source": [
    "y_new=ytest.reshape(-1,1)"
   ]
  },
  {
   "cell_type": "code",
   "execution_count": 118,
   "metadata": {},
   "outputs": [],
   "source": [
    "predicted_new=predicted.reshape(-1,1)"
   ]
  },
  {
   "cell_type": "code",
   "execution_count": 119,
   "metadata": {},
   "outputs": [],
   "source": [
    "x_new=x_scaler.inverse_transform(x_new)\n",
    "y_new=y_scaler.inverse_transform(y_new)\n",
    "predicted_new=y_scaler.inverse_transform(predicted_new)\n",
    "x_new=x_new[:,-1]\n",
    "y_new=y_new[:,-1]\n",
    "predicted_new=predicted_new[:,-1]"
   ]
  },
  {
   "cell_type": "code",
   "execution_count": 120,
   "metadata": {},
   "outputs": [],
   "source": [
    "final=pd.DataFrame(zip(x_new,y_new,predicted_new),columns=['X','Y','PREDICTION'])"
   ]
  },
  {
   "cell_type": "code",
   "execution_count": 121,
   "metadata": {},
   "outputs": [
    {
     "data": {
      "text/html": [
       "<div>\n",
       "<style scoped>\n",
       "    .dataframe tbody tr th:only-of-type {\n",
       "        vertical-align: middle;\n",
       "    }\n",
       "\n",
       "    .dataframe tbody tr th {\n",
       "        vertical-align: top;\n",
       "    }\n",
       "\n",
       "    .dataframe thead th {\n",
       "        text-align: right;\n",
       "    }\n",
       "</style>\n",
       "<table border=\"1\" class=\"dataframe\">\n",
       "  <thead>\n",
       "    <tr style=\"text-align: right;\">\n",
       "      <th></th>\n",
       "      <th>X</th>\n",
       "      <th>Y</th>\n",
       "      <th>PREDICTION</th>\n",
       "    </tr>\n",
       "  </thead>\n",
       "  <tbody>\n",
       "    <tr>\n",
       "      <th>0</th>\n",
       "      <td>4.74</td>\n",
       "      <td>29.0</td>\n",
       "      <td>30.28</td>\n",
       "    </tr>\n",
       "    <tr>\n",
       "      <th>1</th>\n",
       "      <td>2.47</td>\n",
       "      <td>41.7</td>\n",
       "      <td>32.47</td>\n",
       "    </tr>\n",
       "    <tr>\n",
       "      <th>2</th>\n",
       "      <td>13.35</td>\n",
       "      <td>20.1</td>\n",
       "      <td>21.98</td>\n",
       "    </tr>\n",
       "    <tr>\n",
       "      <th>3</th>\n",
       "      <td>6.36</td>\n",
       "      <td>23.1</td>\n",
       "      <td>28.72</td>\n",
       "    </tr>\n",
       "    <tr>\n",
       "      <th>4</th>\n",
       "      <td>16.30</td>\n",
       "      <td>15.6</td>\n",
       "      <td>19.14</td>\n",
       "    </tr>\n",
       "  </tbody>\n",
       "</table>\n",
       "</div>"
      ],
      "text/plain": [
       "       X     Y  PREDICTION\n",
       "0   4.74  29.0       30.28\n",
       "1   2.47  41.7       32.47\n",
       "2  13.35  20.1       21.98\n",
       "3   6.36  23.1       28.72\n",
       "4  16.30  15.6       19.14"
      ]
     },
     "execution_count": 121,
     "metadata": {},
     "output_type": "execute_result"
    }
   ],
   "source": [
    "final.head().round(decimals=2)"
   ]
  },
  {
   "cell_type": "code",
   "execution_count": null,
   "metadata": {},
   "outputs": [],
   "source": []
  },
  {
   "cell_type": "code",
   "execution_count": null,
   "metadata": {},
   "outputs": [],
   "source": []
  },
  {
   "cell_type": "code",
   "execution_count": null,
   "metadata": {},
   "outputs": [],
   "source": []
  },
  {
   "cell_type": "code",
   "execution_count": null,
   "metadata": {},
   "outputs": [],
   "source": []
  },
  {
   "cell_type": "code",
   "execution_count": null,
   "metadata": {},
   "outputs": [],
   "source": []
  },
  {
   "cell_type": "code",
   "execution_count": null,
   "metadata": {},
   "outputs": [],
   "source": []
  },
  {
   "cell_type": "code",
   "execution_count": null,
   "metadata": {},
   "outputs": [],
   "source": []
  },
  {
   "cell_type": "code",
   "execution_count": null,
   "metadata": {},
   "outputs": [],
   "source": []
  },
  {
   "cell_type": "code",
   "execution_count": null,
   "metadata": {},
   "outputs": [],
   "source": []
  },
  {
   "cell_type": "code",
   "execution_count": null,
   "metadata": {},
   "outputs": [],
   "source": []
  },
  {
   "cell_type": "code",
   "execution_count": null,
   "metadata": {},
   "outputs": [],
   "source": []
  },
  {
   "cell_type": "code",
   "execution_count": null,
   "metadata": {},
   "outputs": [],
   "source": []
  },
  {
   "cell_type": "code",
   "execution_count": null,
   "metadata": {},
   "outputs": [],
   "source": []
  },
  {
   "cell_type": "code",
   "execution_count": null,
   "metadata": {},
   "outputs": [],
   "source": []
  },
  {
   "cell_type": "code",
   "execution_count": null,
   "metadata": {},
   "outputs": [],
   "source": []
  },
  {
   "cell_type": "code",
   "execution_count": null,
   "metadata": {},
   "outputs": [],
   "source": []
  },
  {
   "cell_type": "code",
   "execution_count": null,
   "metadata": {},
   "outputs": [],
   "source": []
  },
  {
   "cell_type": "code",
   "execution_count": null,
   "metadata": {},
   "outputs": [],
   "source": []
  },
  {
   "cell_type": "code",
   "execution_count": null,
   "metadata": {},
   "outputs": [],
   "source": []
  },
  {
   "cell_type": "code",
   "execution_count": null,
   "metadata": {},
   "outputs": [],
   "source": []
  },
  {
   "cell_type": "code",
   "execution_count": null,
   "metadata": {},
   "outputs": [],
   "source": []
  },
  {
   "cell_type": "code",
   "execution_count": null,
   "metadata": {},
   "outputs": [],
   "source": []
  },
  {
   "cell_type": "code",
   "execution_count": null,
   "metadata": {},
   "outputs": [],
   "source": []
  },
  {
   "cell_type": "code",
   "execution_count": null,
   "metadata": {},
   "outputs": [],
   "source": []
  },
  {
   "cell_type": "code",
   "execution_count": null,
   "metadata": {},
   "outputs": [],
   "source": []
  },
  {
   "cell_type": "code",
   "execution_count": null,
   "metadata": {},
   "outputs": [],
   "source": []
  },
  {
   "cell_type": "code",
   "execution_count": null,
   "metadata": {},
   "outputs": [],
   "source": []
  }
 ],
 "metadata": {
  "kernelspec": {
   "display_name": "Python 3",
   "language": "python",
   "name": "python3"
  },
  "language_info": {
   "codemirror_mode": {
    "name": "ipython",
    "version": 3
   },
   "file_extension": ".py",
   "mimetype": "text/x-python",
   "name": "python",
   "nbconvert_exporter": "python",
   "pygments_lexer": "ipython3",
   "version": "3.7.6"
  }
 },
 "nbformat": 4,
 "nbformat_minor": 4
}
